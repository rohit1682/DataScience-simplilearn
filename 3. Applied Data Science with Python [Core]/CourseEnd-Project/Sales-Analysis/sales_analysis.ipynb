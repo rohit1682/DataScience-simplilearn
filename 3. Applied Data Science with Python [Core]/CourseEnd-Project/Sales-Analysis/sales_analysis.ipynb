{
 "cells": [
  {
   "cell_type": "code",
   "execution_count": null,
   "id": "c130f3f5",
   "metadata": {},
   "outputs": [],
   "source": [
    "import pandas as pd\n",
    "import numpy as np\n",
    "import matplotlib.pyplot as plt\n",
    "import seaborn as sns\n",
    "\n",
    "# Display settings\n",
    "pd.set_option('display.max_columns', None)\n",
    "sns.set(style='whitegrid')\n"
   ]
  },
  {
   "cell_type": "code",
   "execution_count": null,
   "id": "78c92aa1",
   "metadata": {},
   "outputs": [],
   "source": [
    "# Load CSV file\n",
    "data = pd.read_csv('AusApparalSales4thQrt2020.csv')\n",
    "\n",
    "# Display basic info\n",
    "print(\"Dataset shape:\", data.shape)\n",
    "data.head()\n"
   ]
  },
  {
   "cell_type": "code",
   "execution_count": null,
   "id": "986a2c6f",
   "metadata": {},
   "outputs": [],
   "source": [
    "# Check for missing values\n",
    "print(\"Missing values:\\n\", data.isna().sum())\n",
    "\n",
    "# Check data types and duplicates\n",
    "print(\"\\nData types:\\n\", data.dtypes)\n",
    "print(\"\\nDuplicate entries:\", data.duplicated().sum())\n",
    "\n",
    "# Drop duplicates if any\n",
    "data.drop_duplicates(inplace=True)\n",
    "\n",
    "# Fill or drop missing values\n",
    "# Example: drop rows with null Sales or Unit\n",
    "# Harmonize column name for units if needed\n",
    "if 'Units' in data.columns and 'Unit' not in data.columns:\n",
    "    data.rename(columns={'Units': 'Unit'}, inplace=True)\n",
    "\n",
    "data.dropna(subset=['Sales', 'Unit'], inplace=True)\n",
    "\n",
    "# Reset index\n",
    "data.reset_index(drop=True, inplace=True)\n"
   ]
  },
  {
   "cell_type": "code",
   "execution_count": null,
   "id": "eb37d770",
   "metadata": {},
   "outputs": [],
   "source": [
    "from sklearn.preprocessing import MinMaxScaler\n",
    "\n",
    "scaler = MinMaxScaler()\n",
    "data[['Sales', 'Units']] = scaler.fit_transform(data[['Sales', 'Units']])\n",
    "\n",
    "print(\"Normalized Data Sample:\")\n",
    "data.head()\n"
   ]
  },
  {
   "cell_type": "code",
   "execution_count": null,
   "id": "775968a9",
   "metadata": {},
   "outputs": [],
   "source": [
    "# Group by State and Customer Group\n",
    "state_sales = data.groupby('State')['Sales'].sum().sort_values(ascending=False)\n",
    "# Harmonize customer group column name\n",
    "group_column = 'Group' if 'Group' in data.columns else 'CustomerGroup'\n",
    "group_sales = data.groupby(group_column)['Sales'].sum().sort_values(ascending=False)\n",
    "\n",
    "print(\"State-wise Sales:\\n\", state_sales)\n",
    "print(\"\\nCustomer Group-wise Sales:\\n\", group_sales)\n"
   ]
  },
  {
   "cell_type": "code",
   "execution_count": null,
   "id": "5ccb5b4b",
   "metadata": {},
   "outputs": [],
   "source": [
    "# Descriptive statistics for Sales and Units\n",
    "print(\"Descriptive Statistics:\\n\", data[['Sales', 'Units']].describe())\n",
    "\n",
    "# Mean, median, mode, std\n",
    "print(\"\\nMean Sales:\", data['Sales'].mean())\n",
    "print(\"Median Sales:\", data['Sales'].median())\n",
    "print(\"Mode Sales:\", data['Sales'].mode()[0])\n",
    "print(\"Std Dev Sales:\", data['Sales'].std())\n"
   ]
  },
  {
   "cell_type": "code",
   "execution_count": null,
   "id": "1a1c9cfe",
   "metadata": {},
   "outputs": [],
   "source": [
    "highest_state = state_sales.idxmax()\n",
    "lowest_state = state_sales.idxmin()\n",
    "\n",
    "highest_group = group_sales.idxmax()\n",
    "lowest_group = group_sales.idxmin()\n",
    "\n",
    "print(f\"Highest Revenue State: {highest_state}\")\n",
    "print(f\"Lowest Revenue State: {lowest_state}\")\n",
    "print(f\"Highest Revenue Group: {highest_group}\")\n",
    "print(f\"Lowest Revenue Group: {lowest_group}\")\n"
   ]
  },
  {
   "cell_type": "code",
   "execution_count": null,
   "id": "2f57f854",
   "metadata": {},
   "outputs": [],
   "source": [
    "# Convert Date column if present\n",
    "if 'Date' in data.columns:\n",
    "    data['Date'] = pd.to_datetime(data['Date'])\n",
    "    data['Week'] = data['Date'].dt.isocalendar().week\n",
    "    data['Month'] = data['Date'].dt.month\n",
    "    data['Quarter'] = data['Date'].dt.quarter\n",
    "\n",
    "    weekly = data.groupby('Week')['Sales'].sum()\n",
    "    monthly = data.groupby('Month')['Sales'].sum()\n",
    "    quarterly = data.groupby('Quarter')['Sales'].sum()\n",
    "\n",
    "    print(\"Weekly Summary:\\n\", weekly)\n",
    "    print(\"\\nMonthly Summary:\\n\", monthly)\n",
    "    print(\"\\nQuarterly Summary:\\n\", quarterly)\n",
    "else:\n",
    "    print(\"⚠️ No Date column found for time-based analysis.\")\n"
   ]
  },
  {
   "cell_type": "code",
   "execution_count": null,
   "id": "225ccc44",
   "metadata": {},
   "outputs": [],
   "source": [
    "plt.figure(figsize=(12,6))\n",
    "sns.barplot(x=state_sales.index, y=state_sales.values)\n",
    "plt.title('State-wise Total Sales')\n",
    "plt.xticks(rotation=45)\n",
    "plt.show()\n",
    "\n",
    "plt.figure(figsize=(8,5))\n",
    "sns.barplot(x=group_sales.index, y=group_sales.values)\n",
    "plt.title('Customer Group-wise Sales')\n",
    "plt.show()\n"
   ]
  },
  {
   "cell_type": "code",
   "execution_count": null,
   "id": "93b7b0be",
   "metadata": {},
   "outputs": [],
   "source": [
    "# Box plot for descriptive statistics\n",
    "plt.figure(figsize=(8,5))\n",
    "sns.boxplot(data=data[['Sales', 'Units']])\n",
    "plt.title('Descriptive Statistics - Box Plot')\n",
    "plt.show()\n",
    "\n",
    "# Distribution plot for Sales\n",
    "sns.displot(data['Sales'], kde=True)\n",
    "plt.title('Sales Distribution')\n",
    "plt.show()\n"
   ]
  },
  {
   "cell_type": "code",
   "execution_count": null,
   "id": "92d26e63",
   "metadata": {},
   "outputs": [],
   "source": [
    "if 'Time' in data.columns:\n",
    "    data['Hour'] = pd.to_datetime(data['Time'], format='%H:%M:%S').dt.hour\n",
    "    hourly_sales = data.groupby('Hour')['Sales'].sum()\n",
    "\n",
    "    plt.figure(figsize=(10,5))\n",
    "    sns.lineplot(x=hourly_sales.index, y=hourly_sales.values, marker='o')\n",
    "    plt.title('Time-of-Day Sales Trend')\n",
    "    plt.xlabel('Hour of Day')\n",
    "    plt.ylabel('Total Sales')\n",
    "    plt.show()\n",
    "else:\n",
    "    print(\"⚠️ No Time column found for hourly sales analysis.\")\n"
   ]
  },
  {
   "cell_type": "code",
   "execution_count": null,
   "id": "7485721b",
   "metadata": {},
   "outputs": [],
   "source": [
    "print(f\"\"\"\n",
    "Recommendations:\n",
    "1. Focus more marketing efforts on low-revenue states like {lowest_state}.\n",
    "2. Expand successful programs from {highest_state} to weaker regions.\n",
    "3. Target group \"{highest_group}\" for future promotions as they generate the highest revenue.\n",
    "4. Identify peak sales hours from time analysis for personalized offers.\n",
    "5. Maintain data normalization for consistency in future analysis.\n",
    "\"\"\")\n"
   ]
  }
 ],
 "metadata": {
  "kernelspec": {
   "display_name": "base",
   "language": "python",
   "name": "python3"
  },
  "language_info": {
   "codemirror_mode": {
    "name": "ipython",
    "version": 3
   },
   "file_extension": ".py",
   "mimetype": "text/x-python",
   "name": "python",
   "nbconvert_exporter": "python",
   "pygments_lexer": "ipython3",
   "version": "3.13.5"
  }
 },
 "nbformat": 4,
 "nbformat_minor": 5
}

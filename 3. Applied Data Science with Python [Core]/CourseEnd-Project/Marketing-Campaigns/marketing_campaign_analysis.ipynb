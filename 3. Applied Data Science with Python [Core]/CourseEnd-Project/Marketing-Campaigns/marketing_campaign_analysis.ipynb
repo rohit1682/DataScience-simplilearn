{
 "cells": [
  {
   "cell_type": "code",
   "execution_count": null,
   "id": "32cd7a55",
   "metadata": {},
   "outputs": [],
   "source": [
    "!pip install pandas numpy matplotlib scipy"
   ]
  },
  {
   "cell_type": "code",
   "execution_count": 1,
   "id": "b1877082",
   "metadata": {},
   "outputs": [
    {
     "ename": "ModuleNotFoundError",
     "evalue": "No module named 'pandas'",
     "output_type": "error",
     "traceback": [
      "\u001b[31m---------------------------------------------------------------------------\u001b[39m",
      "\u001b[31mModuleNotFoundError\u001b[39m                       Traceback (most recent call last)",
      "\u001b[36mCell\u001b[39m\u001b[36m \u001b[39m\u001b[32mIn[1]\u001b[39m\u001b[32m, line 1\u001b[39m\n\u001b[32m----> \u001b[39m\u001b[32m1\u001b[39m \u001b[38;5;28;01mimport\u001b[39;00m\u001b[38;5;250m \u001b[39m\u001b[34;01mpandas\u001b[39;00m\u001b[38;5;250m \u001b[39m\u001b[38;5;28;01mas\u001b[39;00m\u001b[38;5;250m \u001b[39m\u001b[34;01mpd\u001b[39;00m\n\u001b[32m      2\u001b[39m \u001b[38;5;28;01mimport\u001b[39;00m\u001b[38;5;250m \u001b[39m\u001b[34;01mnumpy\u001b[39;00m\u001b[38;5;250m \u001b[39m\u001b[38;5;28;01mas\u001b[39;00m\u001b[38;5;250m \u001b[39m\u001b[34;01mnp\u001b[39;00m\n\u001b[32m      3\u001b[39m \u001b[38;5;28;01mimport\u001b[39;00m\u001b[38;5;250m \u001b[39m\u001b[34;01mmatplotlib\u001b[39;00m\u001b[34;01m.\u001b[39;00m\u001b[34;01mpyplot\u001b[39;00m\u001b[38;5;250m \u001b[39m\u001b[38;5;28;01mas\u001b[39;00m\u001b[38;5;250m \u001b[39m\u001b[34;01mplt\u001b[39;00m\n",
      "\u001b[31mModuleNotFoundError\u001b[39m: No module named 'pandas'"
     ]
    }
   ],
   "source": [
    "import pandas as pd\n",
    "import numpy as np\n",
    "import matplotlib.pyplot as plt\n",
    "from scipy import stats\n",
    "import os\n",
    "\n",
    "# Display settings\n",
    "pd.set_option('display.max_columns', 200)\n",
    "pd.set_option('display.max_rows', 50)\n",
    "pd.set_option('display.width', 200)\n",
    "\n",
    "print(\"Libraries loaded successfully.\")\n"
   ]
  },
  {
   "cell_type": "code",
   "execution_count": null,
   "id": "d066f0ed",
   "metadata": {},
   "outputs": [],
   "source": [
    "csv_path = \"/mnt/data/marketing_data.csv\"  # change if needed\n",
    "\n",
    "if not os.path.exists(csv_path):\n",
    "    raise FileNotFoundError(f\"File not found at {csv_path}\")\n",
    "\n",
    "df = pd.read_csv(csv_path, low_memory=False)\n",
    "print(\"Shape:\", df.shape)\n",
    "display(df.head())\n",
    "display(df.info())\n",
    "display(df.isna().sum().sort_values(ascending=False).head(20))\n"
   ]
  },
  {
   "cell_type": "code",
   "execution_count": null,
   "id": "22c4c7e0",
   "metadata": {},
   "outputs": [],
   "source": [
    "# Convert Dt_Customer → datetime, Income → numeric\n",
    "if 'Dt_Customer' in df.columns:\n",
    "    df['Dt_Customer'] = pd.to_datetime(df['Dt_Customer'], errors='coerce')\n",
    "if 'Income' in df.columns:\n",
    "    df['Income'] = pd.to_numeric(df['Income'], errors='coerce')\n",
    "\n",
    "display(df[['Dt_Customer', 'Income']].head(10))\n"
   ]
  },
  {
   "cell_type": "code",
   "execution_count": null,
   "id": "d2a3b0cb",
   "metadata": {},
   "outputs": [],
   "source": [
    "def clean_string_col(s):\n",
    "    if pd.isna(s):\n",
    "        return s\n",
    "    return str(s).strip().title()\n",
    "\n",
    "for col in ['Education', 'Marital_Status']:\n",
    "    if col in df.columns:\n",
    "        df[col] = df[col].apply(clean_string_col)\n",
    "        print(f\"\\nCleaned unique values in {col}:\")\n",
    "        display(df[col].value_counts())\n"
   ]
  },
  {
   "cell_type": "code",
   "execution_count": null,
   "id": "a8a3a0e4",
   "metadata": {},
   "outputs": [],
   "source": [
    "if 'Income' in df.columns:\n",
    "    overall_median = df['Income'].median()\n",
    "    group_cols = [c for c in ['Education', 'Marital_Status'] if c in df.columns]\n",
    "\n",
    "    if group_cols:\n",
    "        medians = df.groupby(group_cols)['Income'].median().reset_index().rename(columns={'Income': 'MedianIncome'})\n",
    "        df = df.merge(medians, on=group_cols, how='left')\n",
    "        df['Income'] = df['Income'].fillna(df['MedianIncome']).fillna(overall_median)\n",
    "        df.drop(columns=['MedianIncome'], inplace=True)\n",
    "    else:\n",
    "        df['Income'] = df['Income'].fillna(overall_median)\n",
    "\n",
    "print(\"Missing Income values after imputation:\", df['Income'].isna().sum())\n"
   ]
  },
  {
   "cell_type": "code",
   "execution_count": null,
   "id": "ec694ea4",
   "metadata": {},
   "outputs": [],
   "source": [
    "# Total Children\n",
    "if {'Kidhome', 'Teenhome'}.issubset(df.columns):\n",
    "    df['TotalChildren'] = df['Kidhome'] + df['Teenhome']\n",
    "\n",
    "# Age\n",
    "if 'Year_Birth' in df.columns and 'Dt_Customer' in df.columns:\n",
    "    df['Age'] = df['Dt_Customer'].dt.year - df['Year_Birth']\n",
    "elif 'Year_Birth' in df.columns:\n",
    "    df['Age'] = pd.Timestamp.now().year - df['Year_Birth']\n",
    "\n",
    "# Total Spending (sum of all 'Mnt' columns)\n",
    "mnt_cols = [c for c in df.columns if c.startswith('Mnt')]\n",
    "if mnt_cols:\n",
    "    df['TotalSpending'] = df[mnt_cols].sum(axis=1)\n",
    "\n",
    "# Total Purchases\n",
    "purchase_cols = ['NumWebPurchases', 'NumCatalogPurchases', 'NumStorePurchases']\n",
    "purchase_cols = [c for c in purchase_cols if c in df.columns]\n",
    "if purchase_cols:\n",
    "    df['TotalPurchases'] = df[purchase_cols].sum(axis=1)\n",
    "\n",
    "display(df[['TotalChildren', 'Age', 'TotalSpending', 'TotalPurchases']].head())\n"
   ]
  },
  {
   "cell_type": "code",
   "execution_count": null,
   "id": "7121c908",
   "metadata": {},
   "outputs": [],
   "source": [
    "cols_to_plot = ['Income', 'TotalSpending']\n",
    "cols_to_plot = [c for c in cols_to_plot if c in df.columns]\n",
    "\n",
    "for col in cols_to_plot:\n",
    "    fig, axes = plt.subplots(1, 2, figsize=(12, 4))\n",
    "    axes[0].hist(df[col].dropna(), bins=40)\n",
    "    axes[0].set_title(f\"Histogram of {col}\")\n",
    "    axes[1].boxplot(df[col].dropna(), vert=False)\n",
    "    axes[1].set_title(f\"Boxplot of {col}\")\n",
    "    plt.tight_layout()\n",
    "    plt.show()\n"
   ]
  },
  {
   "cell_type": "code",
   "execution_count": null,
   "id": "5b09e26b",
   "metadata": {},
   "outputs": [],
   "source": [
    "def winsorize_series(s, lower_q=0.01, upper_q=0.99):\n",
    "    low, high = s.quantile(lower_q), s.quantile(upper_q)\n",
    "    return s.clip(lower=low, upper=high)\n",
    "\n",
    "for col in ['Income', 'TotalSpending']:\n",
    "    if col in df.columns:\n",
    "        df[col + '_winsor'] = winsorize_series(df[col])\n"
   ]
  },
  {
   "cell_type": "code",
   "execution_count": null,
   "id": "2c3974d3",
   "metadata": {},
   "outputs": [],
   "source": [
    "# Ordinal Encoding for Education\n",
    "if 'Education' in df.columns:\n",
    "    df['Education_clean'] = df['Education'].replace({'2Nd Cycle':'2n Cycle','2N Cycle':'2n Cycle','Phd':'PhD'})\n",
    "    mapping = {'Basic': 0, '2n Cycle': 1, 'Graduation': 2, 'Master': 3, 'PhD': 4}\n",
    "    df['Education_Ordinal'] = df['Education_clean'].map(mapping)\n",
    "\n",
    "# One-Hot Encoding for Nominals\n",
    "nominal_cols = [c for c in ['Marital_Status', 'Country', 'Sex'] if c in df.columns]\n",
    "df = pd.get_dummies(df, columns=nominal_cols, drop_first=False)\n",
    "\n",
    "print(\"Encoding complete.\")\n"
   ]
  },
  {
   "cell_type": "code",
   "execution_count": null,
   "id": "7cd9c651",
   "metadata": {},
   "outputs": [],
   "source": [
    "numeric_df = df.select_dtypes(include=[np.number])\n",
    "corr = numeric_df.corr()\n",
    "\n",
    "fig, ax = plt.subplots(figsize=(10, 8))\n",
    "cax = ax.imshow(corr, interpolation='nearest', aspect='auto', cmap='coolwarm')\n",
    "plt.xticks(range(len(corr.columns)), corr.columns, rotation=90)\n",
    "plt.yticks(range(len(corr.columns)), corr.columns)\n",
    "fig.colorbar(cax)\n",
    "plt.title(\"Correlation Heatmap (Numeric Features)\")\n",
    "plt.tight_layout()\n",
    "plt.show()\n"
   ]
  },
  {
   "cell_type": "code",
   "execution_count": null,
   "id": "74d08700",
   "metadata": {},
   "outputs": [],
   "source": [
    "from scipy.stats import spearmanr, mannwhitneyu\n",
    "\n",
    "# 1. Older → More store purchases\n",
    "if {'Age', 'NumStorePurchases'}.issubset(df.columns):\n",
    "    rho, p = spearmanr(df['Age'], df['NumStorePurchases'])\n",
    "    print(f\"H1: Age vs Store Purchases → rho={rho:.3f}, p={p:.4f}\")\n",
    "\n",
    "# 2. Children → More web purchases\n",
    "if {'TotalChildren', 'NumWebPurchases'}.issubset(df.columns):\n",
    "    grp_with = df[df['TotalChildren'] > 0]['NumWebPurchases']\n",
    "    grp_without = df[df['TotalChildren'] == 0]['NumWebPurchases']\n",
    "    u, p = mannwhitneyu(grp_with, grp_without, alternative='greater')\n",
    "    print(f\"H2: Children→Web Purchases → U={u:.3f}, p={p:.4f}\")\n",
    "\n",
    "# 3. Store vs Online+Catalog (Cannibalization)\n",
    "if {'NumStorePurchases', 'NumWebPurchases', 'NumCatalogPurchases'}.issubset(df.columns):\n",
    "    other = df['NumWebPurchases'] + df['NumCatalogPurchases']\n",
    "    rho, p = spearmanr(df['NumStorePurchases'], other)\n",
    "    print(f\"H3: Store vs Other Channels → rho={rho:.3f}, p={p:.4f}\")\n",
    "\n",
    "# 4. USA vs Rest (Total Spending)\n",
    "if {'Country', 'TotalSpending'}.issubset(df.columns):\n",
    "    usa = df[df['Country'] == 'USA']['TotalSpending']\n",
    "    rest = df[df['Country'] != 'USA']['TotalSpending']\n",
    "    u, p = mannwhitneyu(usa, rest, alternative='greater')\n",
    "    print(f\"H4: USA > Rest Spending → U={u:.3f}, p={p:.4f}\")\n"
   ]
  },
  {
   "cell_type": "code",
   "execution_count": null,
   "id": "e7780332",
   "metadata": {},
   "outputs": [],
   "source": [
    "# Top & Bottom Products by Revenue\n",
    "mnt_cols = [c for c in df.columns if c.startswith('Mnt')]\n",
    "if mnt_cols:\n",
    "    product_sums = df[mnt_cols].sum().sort_values(ascending=False)\n",
    "    print(\"Top Products:\\n\", product_sums.head(5))\n",
    "    print(\"\\nLowest Products:\\n\", product_sums.tail(5))\n",
    "    product_sums.plot(kind='bar', figsize=(10,4), title='Product Revenue')\n",
    "    plt.show()\n",
    "\n",
    "# Children vs Spending\n",
    "if {'TotalChildren', 'TotalSpending'}.issubset(df.columns):\n",
    "    df.boxplot(column='TotalSpending', by='TotalChildren', figsize=(8,4))\n",
    "    plt.title(\"Total Spending by Number of Children\")\n",
    "    plt.suptitle('')\n",
    "    plt.show()\n"
   ]
  },
  {
   "cell_type": "code",
   "execution_count": null,
   "id": "eb042dfb",
   "metadata": {},
   "outputs": [],
   "source": [
    "print(\"\"\"\n",
    "✅ Key Insights:\n",
    "- Older customers may prefer store purchases (check correlation result).\n",
    "- Parents tend to make more web purchases (if p < 0.05).\n",
    "- Negative correlation between store and other channels → possible cannibalization.\n",
    "- USA customers might spend significantly more than others.\n",
    "\n",
    "Next Steps:\n",
    "- Build predictive models for campaign response.\n",
    "- Perform segmentation (RFM or clustering).\n",
    "- Design targeted offers to optimize channel use.\n",
    "\"\"\")\n"
   ]
  }
 ],
 "metadata": {
  "kernelspec": {
   "display_name": "Python 3",
   "language": "python",
   "name": "python3"
  },
  "language_info": {
   "codemirror_mode": {
    "name": "ipython",
    "version": 3
   },
   "file_extension": ".py",
   "mimetype": "text/x-python",
   "name": "python",
   "nbconvert_exporter": "python",
   "pygments_lexer": "ipython3",
   "version": "3.13.6"
  }
 },
 "nbformat": 4,
 "nbformat_minor": 5
}

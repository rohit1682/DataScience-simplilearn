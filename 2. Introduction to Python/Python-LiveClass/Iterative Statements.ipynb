{
 "cells": [
  {
   "cell_type": "markdown",
   "id": "436e2680",
   "metadata": {},
   "source": [
    "# Loops\n",
    "- **Initialization** : Where to start\n",
    "- **Condition** : Where to stop\n",
    "- **Step size** : Increment/decrement"
   ]
  },
  {
   "cell_type": "markdown",
   "id": "bb49985b",
   "metadata": {},
   "source": [
    "---\n",
    "# For Loop"
   ]
  },
  {
   "cell_type": "code",
   "execution_count": 1,
   "id": "39d574bb",
   "metadata": {},
   "outputs": [
    {
     "name": "stdout",
     "output_type": "stream",
     "text": [
      "Hello\n"
     ]
    }
   ],
   "source": [
    "print('Hello')"
   ]
  },
  {
   "cell_type": "code",
   "execution_count": 2,
   "id": "34f44823",
   "metadata": {},
   "outputs": [
    {
     "name": "stdout",
     "output_type": "stream",
     "text": [
      "Hello\n",
      "Hello\n",
      "Hello\n",
      "Hello\n",
      "Hello\n"
     ]
    }
   ],
   "source": [
    "for i in range(0,5,1):\n",
    "    print('Hello')"
   ]
  },
  {
   "cell_type": "code",
   "execution_count": 4,
   "id": "10a242c1",
   "metadata": {},
   "outputs": [
    {
     "name": "stdout",
     "output_type": "stream",
     "text": [
      "Hello\n",
      "Good evening\n",
      "Welcome to this session\n",
      "Hello\n",
      "Good evening\n",
      "Welcome to this session\n",
      "Hello\n",
      "Good evening\n",
      "Welcome to this session\n",
      "Hello\n",
      "Good evening\n",
      "Welcome to this session\n",
      "Hello\n",
      "Good evening\n",
      "Welcome to this session\n",
      "Outside for loop\n"
     ]
    }
   ],
   "source": [
    "for i in range(0,5,1):\n",
    "    print('Hello')\n",
    "    print('Good evening')\n",
    "    print('Welcome to this session')\n",
    "print('Outside for loop')"
   ]
  },
  {
   "cell_type": "code",
   "execution_count": 5,
   "id": "ea3cc41c",
   "metadata": {},
   "outputs": [
    {
     "name": "stdout",
     "output_type": "stream",
     "text": [
      "1\n",
      "2\n",
      "3\n",
      "4\n",
      "5\n",
      "6\n",
      "7\n",
      "8\n",
      "9\n",
      "10\n"
     ]
    }
   ],
   "source": [
    "for i in range(1,11,1):\n",
    "    print(i)"
   ]
  },
  {
   "cell_type": "code",
   "execution_count": 9,
   "id": "3e7856cc",
   "metadata": {},
   "outputs": [
    {
     "name": "stdout",
     "output_type": "stream",
     "text": [
      "0\n",
      "2\n",
      "4\n",
      "6\n",
      "8\n",
      "10\n"
     ]
    }
   ],
   "source": [
    "for i in range(0,11,2):\n",
    "    print(i)"
   ]
  },
  {
   "cell_type": "code",
   "execution_count": 10,
   "id": "5355687b",
   "metadata": {},
   "outputs": [
    {
     "name": "stdout",
     "output_type": "stream",
     "text": [
      "Hello\n",
      "Hello\n",
      "Hello\n",
      "Hello\n",
      "Hello\n"
     ]
    }
   ],
   "source": [
    "for i in range(0,5):       # By default step size is 1\n",
    "    print('Hello')"
   ]
  },
  {
   "cell_type": "code",
   "execution_count": 11,
   "id": "81a9e38f",
   "metadata": {},
   "outputs": [
    {
     "name": "stdout",
     "output_type": "stream",
     "text": [
      "Hello\n",
      "Hello\n",
      "Hello\n",
      "Hello\n",
      "Hello\n"
     ]
    }
   ],
   "source": [
    "for i in range(5):         # By default initialization is 0\n",
    "    print('Hello')"
   ]
  },
  {
   "cell_type": "code",
   "execution_count": 15,
   "id": "7e42c04e",
   "metadata": {},
   "outputs": [
    {
     "name": "stdout",
     "output_type": "stream",
     "text": [
      "0  2  4  6  8  10  12  14  16  18  20  "
     ]
    }
   ],
   "source": [
    "# Print even number from 0 to 20\n",
    "for i in range(0,21,2):\n",
    "    print(i, end = '  ')"
   ]
  },
  {
   "cell_type": "code",
   "execution_count": 16,
   "id": "78bf4e5f",
   "metadata": {},
   "outputs": [
    {
     "name": "stdout",
     "output_type": "stream",
     "text": [
      "1  3  5  7  9  11  13  15  17  19  "
     ]
    }
   ],
   "source": [
    "# Print odd numbers from 0 to 20\n",
    "for i in range(1,21,2):\n",
    "    print(i, end = '  ')"
   ]
  },
  {
   "cell_type": "code",
   "execution_count": 17,
   "id": "9507edd2",
   "metadata": {},
   "outputs": [
    {
     "name": "stdout",
     "output_type": "stream",
     "text": [
      "1 is odd\n",
      "2 is even\n",
      "3 is odd\n",
      "4 is even\n",
      "5 is odd\n",
      "6 is even\n",
      "7 is odd\n",
      "8 is even\n",
      "9 is odd\n",
      "10 is even\n"
     ]
    }
   ],
   "source": [
    "# Check even or odd numbers from 1 to 10\n",
    "for i in range(1,11):\n",
    "    if i % 2 == 0:\n",
    "        print(i, 'is even')\n",
    "    else:\n",
    "        print(i, 'is odd')"
   ]
  },
  {
   "cell_type": "code",
   "execution_count": 19,
   "id": "7fe151bf",
   "metadata": {},
   "outputs": [
    {
     "name": "stdout",
     "output_type": "stream",
     "text": [
      "11 is odd\n",
      "33 is odd\n",
      "44 is even\n",
      "77 is odd\n",
      "66 is even\n",
      "22 is even\n",
      "99 is odd\n",
      "88 is even\n",
      "77 is odd\n"
     ]
    }
   ],
   "source": [
    "# Given a list check which numbers are odd and which are even\n",
    "nums = [11,33,44,77,66,22,99,88,77]\n",
    "for i in range(len(nums)):\n",
    "    if nums[i] % 2 == 0:\n",
    "        print(nums[i], 'is even')\n",
    "    else:\n",
    "        print(nums[i], 'is odd')"
   ]
  },
  {
   "cell_type": "code",
   "execution_count": 21,
   "id": "3d96046c",
   "metadata": {},
   "outputs": [
    {
     "name": "stdout",
     "output_type": "stream",
     "text": [
      "10\n",
      "20\n",
      "30\n",
      "40\n",
      "50\n"
     ]
    }
   ],
   "source": [
    "# Iterating over elements\n",
    "nums = [10,20,30,40,50]          # lists are iterable\n",
    "for i in nums:\n",
    "    print(i)"
   ]
  },
  {
   "cell_type": "code",
   "execution_count": 20,
   "id": "1f9420de",
   "metadata": {},
   "outputs": [
    {
     "name": "stdout",
     "output_type": "stream",
     "text": [
      "11 is odd\n",
      "33 is odd\n",
      "44 is even\n",
      "77 is odd\n",
      "66 is even\n",
      "22 is even\n",
      "99 is odd\n",
      "88 is even\n",
      "77 is odd\n"
     ]
    }
   ],
   "source": [
    "# Given a list check which numbers are odd and which are even\n",
    "nums = [11,33,44,77,66,22,99,88,77]\n",
    "for i in nums:\n",
    "    if i % 2 == 0:\n",
    "        print(i, 'is even')\n",
    "    else:\n",
    "        print(i, 'is odd')"
   ]
  },
  {
   "cell_type": "code",
   "execution_count": 22,
   "id": "a25de41e",
   "metadata": {},
   "outputs": [
    {
     "name": "stdout",
     "output_type": "stream",
     "text": [
      "H   e   l   l   o   "
     ]
    }
   ],
   "source": [
    "# A data type is called iterable if we can iterate over its elements\n",
    "s = 'Hello'                        # strings are iterable\n",
    "for i in s:\n",
    "    print(i, end = '   ')"
   ]
  },
  {
   "cell_type": "code",
   "execution_count": 24,
   "id": "f9781eb0",
   "metadata": {},
   "outputs": [
    {
     "name": "stdout",
     "output_type": "stream",
     "text": [
      "10   20   30   40   "
     ]
    }
   ],
   "source": [
    "t = (10,20,30,40)                  # tuples are iterable\n",
    "for i in t:\n",
    "    print(i, end = '   ')"
   ]
  },
  {
   "cell_type": "code",
   "execution_count": 31,
   "id": "01101703",
   "metadata": {},
   "outputs": [
    {
     "name": "stdout",
     "output_type": "stream",
     "text": [
      "first_name   last_name   city   "
     ]
    }
   ],
   "source": [
    "# When we iterate over a dictionary we get keys\n",
    "details = {'first_name' : 'Utkarsh', 'last_name' : 'Sharma', 'city' : 'Jaipur'}\n",
    "for i in details:\n",
    "    print(i, end = '   ')"
   ]
  },
  {
   "cell_type": "code",
   "execution_count": 28,
   "id": "71a7aaf1",
   "metadata": {},
   "outputs": [
    {
     "name": "stdout",
     "output_type": "stream",
     "text": [
      "('first_name', 'Utkarsh')\n",
      "('last_name', 'Sharma')\n",
      "('city', 'Jaipur')\n"
     ]
    }
   ],
   "source": [
    "# Getting items from a dictionary\n",
    "details = {'first_name' : 'Utkarsh', 'last_name' : 'Sharma', 'city' : 'Jaipur'}\n",
    "for item in details.items():\n",
    "    print(item)"
   ]
  },
  {
   "cell_type": "code",
   "execution_count": 29,
   "id": "a8944169",
   "metadata": {},
   "outputs": [
    {
     "data": {
      "text/plain": [
       "dict_items([('first_name', 'Utkarsh'), ('last_name', 'Sharma'), ('city', 'Jaipur')])"
      ]
     },
     "execution_count": 29,
     "metadata": {},
     "output_type": "execute_result"
    }
   ],
   "source": [
    "details.items()"
   ]
  },
  {
   "cell_type": "code",
   "execution_count": 32,
   "id": "87397999",
   "metadata": {},
   "outputs": [
    {
     "name": "stdout",
     "output_type": "stream",
     "text": [
      "Utkarsh\n",
      "Sharma\n",
      "Jaipur\n"
     ]
    }
   ],
   "source": [
    "# Getting values from a dictionary\n",
    "for value in details.values():\n",
    "    print(value)"
   ]
  },
  {
   "cell_type": "code",
   "execution_count": 2,
   "id": "d66fd145",
   "metadata": {},
   "outputs": [
    {
     "name": "stdout",
     "output_type": "stream",
     "text": [
      "Hello\n",
      "good\n",
      "evening\n",
      "to\n",
      "all\n",
      "of\n",
      "you\n"
     ]
    }
   ],
   "source": [
    "# Given a string print the words\n",
    "s = 'Hello good evening to all of you'\n",
    "for word in s.split():\n",
    "    print(word)"
   ]
  },
  {
   "cell_type": "code",
   "execution_count": 3,
   "id": "9e757d8b",
   "metadata": {},
   "outputs": [
    {
     "name": "stdout",
     "output_type": "stream",
     "text": [
      "good has even length\n",
      "evening has odd length\n",
      "to has even length\n",
      "all has odd length\n",
      "of has even length\n",
      "you has odd length\n",
      "we has even length\n",
      "are has odd length\n",
      "learning has even length\n",
      "loops has odd length\n",
      "today has odd length\n"
     ]
    }
   ],
   "source": [
    "# Check wether the words of a string have even or odd length\n",
    "s = 'good evening to all of you we are learning loops today'\n",
    "for word in s.split():\n",
    "    if len(word) % 2 == 0:\n",
    "        print(word, 'has even length')\n",
    "    else:\n",
    "        print(word, 'has odd length')"
   ]
  },
  {
   "cell_type": "code",
   "execution_count": 7,
   "id": "6c599ed0",
   "metadata": {},
   "outputs": [
    {
     "name": "stdout",
     "output_type": "stream",
     "text": [
      "The maximum element in the given list is :  200\n"
     ]
    }
   ],
   "source": [
    "# Given a list find out the maximum elememt\n",
    "nums = [11,55,22,77,44,66,100,88,99,30,40,60,80, 200]\n",
    "maximum = nums[0]\n",
    "for i in nums:\n",
    "    if i > maximum:\n",
    "        maximum = i\n",
    "        \n",
    "print('The maximum element in the given list is : ', maximum)"
   ]
  },
  {
   "cell_type": "code",
   "execution_count": 20,
   "id": "5e2c43a0",
   "metadata": {},
   "outputs": [
    {
     "name": "stdout",
     "output_type": "stream",
     "text": [
      "Enter the number : 55\n",
      "The number is present in the list\n"
     ]
    }
   ],
   "source": [
    "# Given a list take a number as input from user and check if the number is present in the list\n",
    "nums = [11,55,22,77,44,55,66,99,20,10,30,40,50,60,70,80,90]\n",
    "n = int(input('Enter the number : '))\n",
    "flag = 0\n",
    "for i in nums:\n",
    "    if i == n:\n",
    "        flag = 1\n",
    "        \n",
    "if flag == 1:\n",
    "    print('The number is present in the list')\n",
    "else:\n",
    "    print('The number is not present in the list')"
   ]
  },
  {
   "cell_type": "markdown",
   "id": "778898a3",
   "metadata": {},
   "source": [
    "# break\n",
    "- Used to terminate the loop"
   ]
  },
  {
   "cell_type": "code",
   "execution_count": 14,
   "id": "ebf42a1e",
   "metadata": {},
   "outputs": [
    {
     "name": "stdout",
     "output_type": "stream",
     "text": [
      "Enter the number : 22\n",
      "11\n",
      "55\n",
      "22\n",
      "The number is present in the list\n"
     ]
    }
   ],
   "source": [
    "nums = [11,55,22,77,44,55,66,99,20,10,30,40,50,60,70,80,90]\n",
    "n = int(input('Enter the number : '))\n",
    "flag = 0\n",
    "for i in nums:\n",
    "    print(i)\n",
    "    if i == n:\n",
    "        flag = 1\n",
    "        break\n",
    "        \n",
    "if flag == 1:\n",
    "    print('The number is present in the list')\n",
    "else:\n",
    "    print('The number is not present in the list')"
   ]
  },
  {
   "cell_type": "markdown",
   "id": "ec10883f",
   "metadata": {},
   "source": [
    "# for else loop"
   ]
  },
  {
   "cell_type": "code",
   "execution_count": 18,
   "id": "7cbec544",
   "metadata": {},
   "outputs": [
    {
     "name": "stdout",
     "output_type": "stream",
     "text": [
      "Enter the number : 20\n",
      "The number is present in the list\n"
     ]
    }
   ],
   "source": [
    "nums = [11,55,22,77,44,55,66,99,20,10,30,40,50,60,70,80,90]\n",
    "n = int(input('Enter the number : '))\n",
    "for i in nums:\n",
    "    if i == n:\n",
    "        print('The number is present in the list')\n",
    "        break\n",
    "else:\n",
    "    print('The number is not present in the list')"
   ]
  },
  {
   "cell_type": "markdown",
   "id": "b52f85be",
   "metadata": {},
   "source": [
    "# nested loops"
   ]
  },
  {
   "cell_type": "code",
   "execution_count": 2,
   "id": "79533a1b",
   "metadata": {},
   "outputs": [
    {
     "name": "stdout",
     "output_type": "stream",
     "text": [
      "Hello\n",
      "Hello\n",
      "Hello\n",
      "Hello\n",
      "Hello\n",
      "Hello\n"
     ]
    }
   ],
   "source": [
    "for i in range(3):\n",
    "    for j in range(2):\n",
    "        print('Hello')"
   ]
  },
  {
   "cell_type": "code",
   "execution_count": 7,
   "id": "a07ebf4a",
   "metadata": {},
   "outputs": [
    {
     "name": "stdout",
     "output_type": "stream",
     "text": [
      "Outer loop :  0   Inner Loop :  0      Outer loop :  0   Inner Loop :  1      Outer loop :  0   Inner Loop :  2      \n",
      "Outer loop :  1   Inner Loop :  0      Outer loop :  1   Inner Loop :  1      Outer loop :  1   Inner Loop :  2      \n",
      "Outer loop :  2   Inner Loop :  0      Outer loop :  2   Inner Loop :  1      Outer loop :  2   Inner Loop :  2      \n",
      "Outer loop :  3   Inner Loop :  0      Outer loop :  3   Inner Loop :  1      Outer loop :  3   Inner Loop :  2      \n"
     ]
    }
   ],
   "source": [
    "for i in range(4):\n",
    "    for j in range(3):\n",
    "        print('Outer loop : ', i, '  Inner Loop : ', j, end = '      ')\n",
    "    print()"
   ]
  },
  {
   "cell_type": "markdown",
   "id": "b80fed23",
   "metadata": {},
   "source": [
    "---\n",
    "---\n",
    "# while loop"
   ]
  },
  {
   "cell_type": "code",
   "execution_count": 8,
   "id": "7e26b2cb",
   "metadata": {},
   "outputs": [
    {
     "name": "stdout",
     "output_type": "stream",
     "text": [
      "Hello\n",
      "Hello\n",
      "Hello\n",
      "Hello\n",
      "Hello\n"
     ]
    }
   ],
   "source": [
    "i = 0\n",
    "while i < 5:                              # for i in range(0,5,1)\n",
    "    print('Hello')\n",
    "    i = i + 1"
   ]
  },
  {
   "cell_type": "code",
   "execution_count": 10,
   "id": "563b1629",
   "metadata": {},
   "outputs": [
    {
     "name": "stdout",
     "output_type": "stream",
     "text": [
      "1 is odd\n",
      "2 is even\n",
      "3 is odd\n",
      "4 is even\n",
      "5 is odd\n",
      "6 is even\n",
      "7 is odd\n",
      "8 is even\n",
      "9 is odd\n",
      "10 is even\n"
     ]
    }
   ],
   "source": [
    "# Check even or odd numbers from 1 to 10\n",
    "i = 1\n",
    "while i < 11:\n",
    "    if i % 2 == 0:\n",
    "        print(i, 'is even')\n",
    "    else:\n",
    "        print(i, 'is odd')\n",
    "    i += 1            # i = i + 1"
   ]
  },
  {
   "cell_type": "code",
   "execution_count": 41,
   "id": "892428e0",
   "metadata": {},
   "outputs": [
    {
     "name": "stdout",
     "output_type": "stream",
     "text": [
      "The longest word is :  everyone\n"
     ]
    }
   ],
   "source": [
    "# Given a string find out the word having largest length\n",
    "s = 'Hello good evening everyone welcome to this session'\n",
    "words = s.split()\n",
    "longest_word = words[0]\n",
    "for word in words:\n",
    "    if len(word) > len(longest_word):\n",
    "        longest_word = word\n",
    "        \n",
    "print('The longest word is : ', longest_word)"
   ]
  },
  {
   "cell_type": "code",
   "execution_count": 19,
   "id": "ecc1e5f8",
   "metadata": {},
   "outputs": [
    {
     "name": "stdout",
     "output_type": "stream",
     "text": [
      "Enter the number : 7\n",
      "3 4\n",
      "6 1\n"
     ]
    }
   ],
   "source": [
    "# Given a list take a number as input , find out adjacent pair of elements having sum equal to that number\n",
    "numbers = [1,3,4,2,6,5,7,8]\n",
    "num = int(input('Enter the number : '))\n",
    "for i in range(len(numbers)-1):\n",
    "    if numbers[i] + numbers[i+1] == num:\n",
    "        print(numbers[i], numbers[i+1])"
   ]
  },
  {
   "cell_type": "code",
   "execution_count": 22,
   "id": "fdc11ff1",
   "metadata": {},
   "outputs": [
    {
     "name": "stdout",
     "output_type": "stream",
     "text": [
      "Enter the number : 8\n",
      "1 7\n",
      "3 5\n",
      "2 6\n"
     ]
    }
   ],
   "source": [
    "# Given a list take a number as input , find out pair of elements having sum equal to that number\n",
    "numbers = [1,3,4,2,6,5,7,8]\n",
    "num = int(input('Enter the number : '))\n",
    "for i in range(len(numbers) - 1):\n",
    "    for j in range(i+1, len(numbers)):\n",
    "        if numbers[i] + numbers[j] == num:\n",
    "            print(numbers[i], numbers[j])"
   ]
  },
  {
   "cell_type": "code",
   "execution_count": 35,
   "id": "12c6f1c0",
   "metadata": {},
   "outputs": [
    {
     "name": "stdout",
     "output_type": "stream",
     "text": [
      "Enter the number : 10000\n",
      "[1, 2, 4, 5, 8, 10, 16, 20, 25, 40, 50, 80, 100, 125, 200, 250, 400, 500, 625, 1000, 1250, 2000, 2500, 5000, 10000]\n",
      "10000\n"
     ]
    }
   ],
   "source": [
    "# Take a number as input from the user and find all factor\n",
    "num = int(input('Enter the number : '))\n",
    "factors = []\n",
    "count = 0\n",
    "for i in range(1,num+1):\n",
    "    count = count + 1\n",
    "    if num % i == 0:\n",
    "        factors.append(i)\n",
    "print(factors)\n",
    "print(count)"
   ]
  },
  {
   "cell_type": "code",
   "execution_count": 34,
   "id": "633fda43",
   "metadata": {},
   "outputs": [
    {
     "name": "stdout",
     "output_type": "stream",
     "text": [
      "Enter the number : 10000\n",
      "[1, 2, 4, 5, 8, 10, 16, 20, 25, 40, 50, 80, 100, 125, 200, 250, 400, 500, 625, 1000, 1250, 2000, 2500, 5000, 10000]\n",
      "5000\n"
     ]
    }
   ],
   "source": [
    "num = int(input('Enter the number : '))\n",
    "factors = []\n",
    "count = 0\n",
    "for i in range(1,num//2 + 1):\n",
    "    count = count + 1\n",
    "    if num % i == 0:\n",
    "        factors.append(i)\n",
    "factors.append(num)\n",
    "print(factors)\n",
    "print(count)"
   ]
  },
  {
   "cell_type": "code",
   "execution_count": 33,
   "id": "18151a32",
   "metadata": {},
   "outputs": [
    {
     "name": "stdout",
     "output_type": "stream",
     "text": [
      "Enter the number : 10000\n",
      "[1, 10000, 2, 5000, 4, 2500, 5, 2000, 8, 1250, 10, 1000, 16, 625, 20, 500, 25, 400, 40, 250, 50, 200, 80, 125, 100, 100]\n",
      "100\n"
     ]
    }
   ],
   "source": [
    "num = int(input('Enter the number : '))\n",
    "factors = []\n",
    "count = 0\n",
    "sq_root = num ** 0.5\n",
    "for i in range(1, int(sq_root) + 1):\n",
    "    count = count + 1\n",
    "    if num % i == 0:\n",
    "        factors.append(i)\n",
    "        factors.append(num//i)\n",
    "print(factors)\n",
    "print(count)"
   ]
  },
  {
   "cell_type": "code",
   "execution_count": 36,
   "id": "07339baa",
   "metadata": {},
   "outputs": [
    {
     "name": "stdout",
     "output_type": "stream",
     "text": [
      "Enter the number : 12\n",
      "[1, 12, 2, 6, 3, 4]\n"
     ]
    }
   ],
   "source": [
    "# Final program\n",
    "num = int(input('Enter the number : '))\n",
    "factors = []\n",
    "for i in range(1, int(num ** 0.5) + 1):\n",
    "    if num % i == 0:\n",
    "        factors.append(i)\n",
    "        factors.append(num//i)\n",
    "print(factors)"
   ]
  },
  {
   "cell_type": "code",
   "execution_count": 25,
   "id": "03ed9f75",
   "metadata": {},
   "outputs": [
    {
     "name": "stdout",
     "output_type": "stream",
     "text": [
      "Enter the number : 13\n",
      "13 is a prime number\n"
     ]
    }
   ],
   "source": [
    "# Take a number as input and check whether it is prime or not\n",
    "num = int(input('Enter the number : '))\n",
    "\n",
    "if num < 2:\n",
    "    print(num, 'is not a prime number')\n",
    "else:\n",
    "    for i in range(2, int(num ** 0.5) + 1):\n",
    "        if num % i == 0:\n",
    "            print(num, 'is not a prime number')\n",
    "            break\n",
    "    else:\n",
    "        print(num, 'is a prime number')"
   ]
  },
  {
   "cell_type": "code",
   "execution_count": null,
   "id": "6d3b7420",
   "metadata": {},
   "outputs": [],
   "source": []
  }
 ],
 "metadata": {
  "kernelspec": {
   "display_name": "Python 3 (ipykernel)",
   "language": "python",
   "name": "python3"
  },
  "language_info": {
   "codemirror_mode": {
    "name": "ipython",
    "version": 3
   },
   "file_extension": ".py",
   "mimetype": "text/x-python",
   "name": "python",
   "nbconvert_exporter": "python",
   "pygments_lexer": "ipython3",
   "version": "3.12.7"
  }
 },
 "nbformat": 4,
 "nbformat_minor": 5
}

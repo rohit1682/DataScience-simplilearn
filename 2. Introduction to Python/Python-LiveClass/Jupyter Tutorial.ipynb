{
 "cells": [
  {
   "cell_type": "markdown",
   "id": "710489ca",
   "metadata": {},
   "source": [
    "# Jupyter tutorial\n",
    "- Writing code in cell\n",
    "- Adding new cells\n",
    "- Shifting cells up and down\n",
    "- Adding cells above and below\n",
    "- Deleting a cell\n",
    "- Undo a cell deletion operation\n",
    "- Markdown cells"
   ]
  },
  {
   "cell_type": "code",
   "execution_count": 8,
   "id": "c73d0d7c",
   "metadata": {},
   "outputs": [
    {
     "name": "stdout",
     "output_type": "stream",
     "text": [
      "Good Evening\n"
     ]
    }
   ],
   "source": [
    "print('Good Evening')"
   ]
  },
  {
   "cell_type": "code",
   "execution_count": 9,
   "id": "b6c11a33",
   "metadata": {},
   "outputs": [
    {
     "name": "stdout",
     "output_type": "stream",
     "text": [
      "Hello Everyone\n"
     ]
    }
   ],
   "source": [
    "print('Hello Everyone')"
   ]
  },
  {
   "cell_type": "code",
   "execution_count": 11,
   "id": "90a62617",
   "metadata": {},
   "outputs": [
    {
     "name": "stdout",
     "output_type": "stream",
     "text": [
      "Hi\n"
     ]
    }
   ],
   "source": [
    "print('Hi')"
   ]
  },
  {
   "cell_type": "code",
   "execution_count": null,
   "id": "55d1ac1c",
   "metadata": {},
   "outputs": [],
   "source": []
  },
  {
   "cell_type": "code",
   "execution_count": null,
   "id": "b8707fa8",
   "metadata": {},
   "outputs": [],
   "source": []
  }
 ],
 "metadata": {
  "kernelspec": {
   "display_name": "Python 3 (ipykernel)",
   "language": "python",
   "name": "python3"
  },
  "language_info": {
   "codemirror_mode": {
    "name": "ipython",
    "version": 3
   },
   "file_extension": ".py",
   "mimetype": "text/x-python",
   "name": "python",
   "nbconvert_exporter": "python",
   "pygments_lexer": "ipython3",
   "version": "3.12.7"
  }
 },
 "nbformat": 4,
 "nbformat_minor": 5
}

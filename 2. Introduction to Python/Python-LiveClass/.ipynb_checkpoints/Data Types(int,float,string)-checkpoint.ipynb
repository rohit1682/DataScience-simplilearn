{
 "cells": [
  {
   "cell_type": "markdown",
   "id": "015f5347",
   "metadata": {},
   "source": [
    "# Data Types In Python\n",
    "- **int** (for integers )\n",
    "- **float** (for floating point numbers)\n",
    "- **str** (for strings )\n",
    "- **list**\n",
    "- **tuple**\n",
    "- **dict** (for dictionary)\n",
    "- **set**\n",
    "- **bool**"
   ]
  },
  {
   "cell_type": "code",
   "execution_count": 1,
   "id": "08ee7b9e",
   "metadata": {},
   "outputs": [
    {
     "data": {
      "text/plain": [
       "int"
      ]
     },
     "execution_count": 1,
     "metadata": {},
     "output_type": "execute_result"
    }
   ],
   "source": [
    "a = 5     # a is variable, 5 is an integer literal\n",
    "type(a)"
   ]
  },
  {
   "cell_type": "code",
   "execution_count": 2,
   "id": "ba882a2e",
   "metadata": {},
   "outputs": [
    {
     "data": {
      "text/plain": [
       "float"
      ]
     },
     "execution_count": 2,
     "metadata": {},
     "output_type": "execute_result"
    }
   ],
   "source": [
    "a = 5.5\n",
    "type(a)"
   ]
  },
  {
   "cell_type": "code",
   "execution_count": 3,
   "id": "440916fe",
   "metadata": {},
   "outputs": [
    {
     "data": {
      "text/plain": [
       "str"
      ]
     },
     "execution_count": 3,
     "metadata": {},
     "output_type": "execute_result"
    }
   ],
   "source": [
    "a = 'hello'\n",
    "type(a)"
   ]
  },
  {
   "cell_type": "markdown",
   "id": "e4417512",
   "metadata": {},
   "source": [
    "### Pros and Cons of Dynamic Typing\n",
    "#### Pros of Dynamic Typing\n",
    "* very easy to work with\n",
    "* faster development time\n",
    "\n",
    "#### Cons of Dynamic Typing\n",
    "* may result in unexpected bugs!"
   ]
  },
  {
   "cell_type": "markdown",
   "id": "c5606cca",
   "metadata": {},
   "source": [
    "# Numbers (int and float)"
   ]
  },
  {
   "cell_type": "code",
   "execution_count": 8,
   "id": "f8243d4e",
   "metadata": {},
   "outputs": [
    {
     "data": {
      "text/plain": [
       "int"
      ]
     },
     "execution_count": 8,
     "metadata": {},
     "output_type": "execute_result"
    }
   ],
   "source": [
    "a = 5\n",
    "type(a)"
   ]
  },
  {
   "cell_type": "code",
   "execution_count": 9,
   "id": "1e83b6b7",
   "metadata": {},
   "outputs": [
    {
     "data": {
      "text/plain": [
       "float"
      ]
     },
     "execution_count": 9,
     "metadata": {},
     "output_type": "execute_result"
    }
   ],
   "source": [
    "b = 5.5\n",
    "type(b)"
   ]
  },
  {
   "cell_type": "code",
   "execution_count": 7,
   "id": "ff7021cf",
   "metadata": {},
   "outputs": [
    {
     "data": {
      "text/plain": [
       "float"
      ]
     },
     "execution_count": 7,
     "metadata": {},
     "output_type": "execute_result"
    }
   ],
   "source": [
    "b = 5.0\n",
    "type(b)"
   ]
  },
  {
   "cell_type": "code",
   "execution_count": 10,
   "id": "39af0863",
   "metadata": {},
   "outputs": [
    {
     "name": "stdout",
     "output_type": "stream",
     "text": [
      "5 10 15\n",
      "5 5 5\n"
     ]
    }
   ],
   "source": [
    "x = 5                              # assigning an integer literal to a variable\n",
    "y = x                              # assigning an integer variable to a variable\n",
    "a = 5 + 10                         # assigning result of an expression to a variable\n",
    "a = x + y\n",
    "a,b,c = 5,10,15                    # multiple assignment\n",
    "print(a,b,c)\n",
    "a = b = c = 5\n",
    "print(a,b,c)"
   ]
  },
  {
   "cell_type": "markdown",
   "id": "991c4bef",
   "metadata": {},
   "source": [
    "- **Operator** :  Specifies the type of operation\n",
    "- **Operands** :  Operation is performed on operands\n",
    "- **Expressions** : A collection or chain of operands and operators"
   ]
  },
  {
   "cell_type": "code",
   "execution_count": 11,
   "id": "83e225fe",
   "metadata": {},
   "outputs": [
    {
     "data": {
      "text/plain": [
       "30"
      ]
     },
     "execution_count": 11,
     "metadata": {},
     "output_type": "execute_result"
    }
   ],
   "source": [
    "a = 10\n",
    "b = 20\n",
    "a + b     # a and b are operands, + is an operator "
   ]
  },
  {
   "cell_type": "code",
   "execution_count": 12,
   "id": "88adb85d",
   "metadata": {},
   "outputs": [
    {
     "data": {
      "text/plain": [
       "35.0"
      ]
     },
     "execution_count": 12,
     "metadata": {},
     "output_type": "execute_result"
    }
   ],
   "source": [
    "a + b - 10 + 5 * 6 / 2    # Expression"
   ]
  },
  {
   "cell_type": "markdown",
   "id": "a10ac9ee",
   "metadata": {},
   "source": [
    "## Arithmatic Operations"
   ]
  },
  {
   "cell_type": "code",
   "execution_count": 13,
   "id": "dff87ca1",
   "metadata": {},
   "outputs": [
    {
     "name": "stdout",
     "output_type": "stream",
     "text": [
      "x + y =  15\n",
      "x - y =  5\n",
      "x * y =  50\n",
      "x / y =  2.0\n",
      "x % y =  0\n",
      "x // y =  2\n",
      "x ** y =  100000\n"
     ]
    }
   ],
   "source": [
    "x = 10\n",
    "y = 5\n",
    "\n",
    "print('x + y = ',x + y)\n",
    "print('x - y = ',x - y)\n",
    "print('x * y = ',x * y)\n",
    "print('x / y = ',x / y)\n",
    "print('x % y = ',x % y)\n",
    "print('x // y = ',x // y)\n",
    "print('x ** y = ',x ** y)"
   ]
  },
  {
   "cell_type": "code",
   "execution_count": 2,
   "id": "c3963aa8",
   "metadata": {},
   "outputs": [
    {
     "name": "stdout",
     "output_type": "stream",
     "text": [
      "6.25\n"
     ]
    },
    {
     "data": {
      "text/plain": [
       "float"
      ]
     },
     "execution_count": 2,
     "metadata": {},
     "output_type": "execute_result"
    }
   ],
   "source": [
    "# normal division\n",
    "x = 25\n",
    "y = 4\n",
    "z = x / y\n",
    "print(z)\n",
    "type(z)"
   ]
  },
  {
   "cell_type": "code",
   "execution_count": 14,
   "id": "24e6dc59",
   "metadata": {},
   "outputs": [
    {
     "name": "stdout",
     "output_type": "stream",
     "text": [
      "5.0\n"
     ]
    },
    {
     "data": {
      "text/plain": [
       "float"
      ]
     },
     "execution_count": 14,
     "metadata": {},
     "output_type": "execute_result"
    }
   ],
   "source": [
    "# normal division\n",
    "x = 25\n",
    "y = 5\n",
    "z = x / y\n",
    "print(z)\n",
    "type(z)                 # normal division always returns a float type"
   ]
  },
  {
   "cell_type": "code",
   "execution_count": 15,
   "id": "f2e82a3d",
   "metadata": {},
   "outputs": [
    {
     "name": "stdout",
     "output_type": "stream",
     "text": [
      "5\n"
     ]
    },
    {
     "data": {
      "text/plain": [
       "int"
      ]
     },
     "execution_count": 15,
     "metadata": {},
     "output_type": "execute_result"
    }
   ],
   "source": [
    "# floor division\n",
    "x = 25\n",
    "y = 5\n",
    "z = x // y\n",
    "print(z)\n",
    "type(z)"
   ]
  },
  {
   "cell_type": "code",
   "execution_count": 16,
   "id": "2acbffaa",
   "metadata": {},
   "outputs": [
    {
     "name": "stdout",
     "output_type": "stream",
     "text": [
      "6\n"
     ]
    },
    {
     "data": {
      "text/plain": [
       "int"
      ]
     },
     "execution_count": 16,
     "metadata": {},
     "output_type": "execute_result"
    }
   ],
   "source": [
    "# floor division\n",
    "x = 25\n",
    "y = 4\n",
    "z = x // y\n",
    "print(z)\n",
    "type(z)"
   ]
  },
  {
   "cell_type": "code",
   "execution_count": 18,
   "id": "d135a40f",
   "metadata": {},
   "outputs": [
    {
     "data": {
      "text/plain": [
       "-5"
      ]
     },
     "execution_count": 18,
     "metadata": {},
     "output_type": "execute_result"
    }
   ],
   "source": [
    "a = -24\n",
    "b = 5\n",
    "a // b"
   ]
  },
  {
   "cell_type": "code",
   "execution_count": 19,
   "id": "47dd6957",
   "metadata": {},
   "outputs": [
    {
     "name": "stdout",
     "output_type": "stream",
     "text": [
      "6.0\n"
     ]
    },
    {
     "data": {
      "text/plain": [
       "float"
      ]
     },
     "execution_count": 19,
     "metadata": {},
     "output_type": "execute_result"
    }
   ],
   "source": [
    "# floor division\n",
    "x = 25.0\n",
    "y = 4\n",
    "z = x // y\n",
    "print(z)\n",
    "type(z)                  # if one of the operands is float, the result will also be float"
   ]
  },
  {
   "cell_type": "code",
   "execution_count": 21,
   "id": "ddc3baff",
   "metadata": {},
   "outputs": [
    {
     "data": {
      "text/plain": [
       "4"
      ]
     },
     "execution_count": 21,
     "metadata": {},
     "output_type": "execute_result"
    }
   ],
   "source": [
    "# modulous operator\n",
    "x = 25\n",
    "y = 7\n",
    "x % y"
   ]
  },
  {
   "cell_type": "code",
   "execution_count": 20,
   "id": "56ff99c7",
   "metadata": {},
   "outputs": [
    {
     "data": {
      "text/plain": [
       "16"
      ]
     },
     "execution_count": 20,
     "metadata": {},
     "output_type": "execute_result"
    }
   ],
   "source": [
    "# power operator\n",
    "x = 2\n",
    "y = 4\n",
    "x ** y         # 2 raise to power 4"
   ]
  },
  {
   "cell_type": "code",
   "execution_count": 21,
   "id": "f266879a",
   "metadata": {},
   "outputs": [
    {
     "data": {
      "text/plain": [
       "4.0"
      ]
     },
     "execution_count": 21,
     "metadata": {},
     "output_type": "execute_result"
    }
   ],
   "source": [
    "16 ** 0.5"
   ]
  },
  {
   "cell_type": "code",
   "execution_count": 23,
   "id": "24294d23",
   "metadata": {},
   "outputs": [
    {
     "data": {
      "text/plain": [
       "4.0"
      ]
     },
     "execution_count": 23,
     "metadata": {},
     "output_type": "execute_result"
    }
   ],
   "source": [
    "16 ** (1/2)"
   ]
  },
  {
   "cell_type": "code",
   "execution_count": 24,
   "id": "a8c4db55",
   "metadata": {},
   "outputs": [
    {
     "data": {
      "text/plain": [
       "3.0"
      ]
     },
     "execution_count": 24,
     "metadata": {},
     "output_type": "execute_result"
    }
   ],
   "source": [
    "27 ** (1/3)"
   ]
  },
  {
   "cell_type": "markdown",
   "id": "09579641",
   "metadata": {},
   "source": [
    "## Shorthand Notation"
   ]
  },
  {
   "cell_type": "code",
   "execution_count": 25,
   "id": "e7417d15",
   "metadata": {},
   "outputs": [
    {
     "data": {
      "text/plain": [
       "110000"
      ]
     },
     "execution_count": 25,
     "metadata": {},
     "output_type": "execute_result"
    }
   ],
   "source": [
    "salary = 100000\n",
    "salary = salary + 10000\n",
    "salary"
   ]
  },
  {
   "cell_type": "code",
   "execution_count": 26,
   "id": "d952d5be",
   "metadata": {},
   "outputs": [
    {
     "data": {
      "text/plain": [
       "90000"
      ]
     },
     "execution_count": 26,
     "metadata": {},
     "output_type": "execute_result"
    }
   ],
   "source": [
    "salary = 100000\n",
    "salary = salary - 10000\n",
    "salary"
   ]
  },
  {
   "cell_type": "code",
   "execution_count": 27,
   "id": "88d0d19f",
   "metadata": {},
   "outputs": [
    {
     "data": {
      "text/plain": [
       "110000"
      ]
     },
     "execution_count": 27,
     "metadata": {},
     "output_type": "execute_result"
    }
   ],
   "source": [
    "salary = 100000\n",
    "salary += 10000             # salary = salary + 10000\n",
    "salary"
   ]
  },
  {
   "cell_type": "code",
   "execution_count": 28,
   "id": "dc939dd0",
   "metadata": {},
   "outputs": [
    {
     "name": "stdout",
     "output_type": "stream",
     "text": [
      "x = 15\n",
      "x += y = 19\n",
      "x -= y = 15\n",
      "x *= y = 60\n",
      "x /= y = 15.0\n",
      "x //= y = 3.0\n",
      "x **= y = 81.0\n",
      "x %= y =  1.0\n"
     ]
    }
   ],
   "source": [
    "x = 15\n",
    "y = 4\n",
    "print('x =',x)\n",
    "x+=y\n",
    "print('x += y =',x)\n",
    "x-=y\n",
    "print('x -= y =',x)\n",
    "x*=y\n",
    "print('x *= y =',x)\n",
    "x/=y\n",
    "print('x /= y =',x)\n",
    "x//=y\n",
    "print('x //= y =',x)\n",
    "x**=y\n",
    "print('x **= y =',x)\n",
    "x %= 10\n",
    "print('x %= y = ',x)"
   ]
  },
  {
   "cell_type": "markdown",
   "id": "13d08b35",
   "metadata": {},
   "source": [
    "## Comparison Operations"
   ]
  },
  {
   "cell_type": "code",
   "execution_count": 35,
   "id": "ff8bf4af",
   "metadata": {},
   "outputs": [
    {
     "name": "stdout",
     "output_type": "stream",
     "text": [
      "x > y  is False\n",
      "x < y  is True\n",
      "x == y is False\n",
      "x != y is True\n",
      "x >= y is False\n",
      "x <= y is True\n"
     ]
    }
   ],
   "source": [
    "x = 10\n",
    "y = 15\n",
    "print('x > y  is',x > y)\n",
    "print('x < y  is',x < y)\n",
    "print('x == y is',x == y)    # single = is assignment operation, double == is equality(comparison) operation      \n",
    "print('x != y is',x != y)\n",
    "print('x >= y is',x >= y)\n",
    "print('x <= y is',x <= y)"
   ]
  },
  {
   "cell_type": "code",
   "execution_count": 29,
   "id": "15511625",
   "metadata": {},
   "outputs": [
    {
     "data": {
      "text/plain": [
       "False"
      ]
     },
     "execution_count": 29,
     "metadata": {},
     "output_type": "execute_result"
    }
   ],
   "source": [
    "a = 10\n",
    "b = 12\n",
    "a == b               # Comparison operation"
   ]
  },
  {
   "cell_type": "code",
   "execution_count": 30,
   "id": "a40d1b3b",
   "metadata": {},
   "outputs": [
    {
     "data": {
      "text/plain": [
       "12"
      ]
     },
     "execution_count": 30,
     "metadata": {},
     "output_type": "execute_result"
    }
   ],
   "source": [
    "a = b               # Assignment operation\n",
    "a"
   ]
  },
  {
   "cell_type": "code",
   "execution_count": 31,
   "id": "cb504b33",
   "metadata": {},
   "outputs": [
    {
     "data": {
      "text/plain": [
       "True"
      ]
     },
     "execution_count": 31,
     "metadata": {},
     "output_type": "execute_result"
    }
   ],
   "source": [
    "a = 5\n",
    "b = 5\n",
    "a == b"
   ]
  },
  {
   "cell_type": "code",
   "execution_count": 32,
   "id": "ffaadc66",
   "metadata": {},
   "outputs": [
    {
     "data": {
      "text/plain": [
       "False"
      ]
     },
     "execution_count": 32,
     "metadata": {},
     "output_type": "execute_result"
    }
   ],
   "source": [
    "a = 6\n",
    "b = 5\n",
    "a == b"
   ]
  },
  {
   "cell_type": "code",
   "execution_count": 33,
   "id": "a21efd00",
   "metadata": {},
   "outputs": [
    {
     "data": {
      "text/plain": [
       "False"
      ]
     },
     "execution_count": 33,
     "metadata": {},
     "output_type": "execute_result"
    }
   ],
   "source": [
    "a = 5\n",
    "b = 5\n",
    "a != b"
   ]
  },
  {
   "cell_type": "code",
   "execution_count": 34,
   "id": "0f3115bc",
   "metadata": {},
   "outputs": [
    {
     "data": {
      "text/plain": [
       "True"
      ]
     },
     "execution_count": 34,
     "metadata": {},
     "output_type": "execute_result"
    }
   ],
   "source": [
    "a = 6\n",
    "b = 5\n",
    "a != b"
   ]
  },
  {
   "cell_type": "code",
   "execution_count": 35,
   "id": "eb0f6294",
   "metadata": {},
   "outputs": [
    {
     "data": {
      "text/plain": [
       "True"
      ]
     },
     "execution_count": 35,
     "metadata": {},
     "output_type": "execute_result"
    }
   ],
   "source": [
    "a > b"
   ]
  },
  {
   "cell_type": "code",
   "execution_count": 36,
   "id": "dd46971f",
   "metadata": {},
   "outputs": [
    {
     "data": {
      "text/plain": [
       "False"
      ]
     },
     "execution_count": 36,
     "metadata": {},
     "output_type": "execute_result"
    }
   ],
   "source": [
    "a < b"
   ]
  },
  {
   "cell_type": "code",
   "execution_count": 37,
   "id": "adaf0c06",
   "metadata": {},
   "outputs": [
    {
     "data": {
      "text/plain": [
       "True"
      ]
     },
     "execution_count": 37,
     "metadata": {},
     "output_type": "execute_result"
    }
   ],
   "source": [
    "a >= b"
   ]
  },
  {
   "cell_type": "code",
   "execution_count": 38,
   "id": "0021b1d7",
   "metadata": {},
   "outputs": [
    {
     "data": {
      "text/plain": [
       "False"
      ]
     },
     "execution_count": 38,
     "metadata": {},
     "output_type": "execute_result"
    }
   ],
   "source": [
    "a <= b"
   ]
  },
  {
   "cell_type": "code",
   "execution_count": 64,
   "id": "db5e5dc4",
   "metadata": {},
   "outputs": [
    {
     "ename": "TypeError",
     "evalue": "'>' not supported between instances of 'int' and 'str'",
     "output_type": "error",
     "traceback": [
      "\u001b[1;31m---------------------------------------------------------------------------\u001b[0m",
      "\u001b[1;31mTypeError\u001b[0m                                 Traceback (most recent call last)",
      "\u001b[1;32m<ipython-input-64-0b2b0ba38d17>\u001b[0m in \u001b[0;36m<module>\u001b[1;34m\u001b[0m\n\u001b[1;32m----> 1\u001b[1;33m \u001b[1;36m1\u001b[0m \u001b[1;33m>\u001b[0m \u001b[1;34m'Hi'\u001b[0m\u001b[1;33m\u001b[0m\u001b[1;33m\u001b[0m\u001b[0m\n\u001b[0m",
      "\u001b[1;31mTypeError\u001b[0m: '>' not supported between instances of 'int' and 'str'"
     ]
    }
   ],
   "source": [
    "x = \n",
    "1 > 'Hi'"
   ]
  },
  {
   "cell_type": "markdown",
   "id": "9642ede2",
   "metadata": {},
   "source": [
    "## Identity Operator"
   ]
  },
  {
   "cell_type": "code",
   "execution_count": 44,
   "id": "1a44989d",
   "metadata": {},
   "outputs": [
    {
     "data": {
      "text/plain": [
       "True"
      ]
     },
     "execution_count": 44,
     "metadata": {},
     "output_type": "execute_result"
    }
   ],
   "source": [
    "a = 5\n",
    "b = 5\n",
    "a is b"
   ]
  },
  {
   "cell_type": "code",
   "execution_count": 45,
   "id": "771509d8",
   "metadata": {},
   "outputs": [
    {
     "data": {
      "text/plain": [
       "False"
      ]
     },
     "execution_count": 45,
     "metadata": {},
     "output_type": "execute_result"
    }
   ],
   "source": [
    "a = 5\n",
    "b = 6\n",
    "a is b"
   ]
  },
  {
   "cell_type": "code",
   "execution_count": 41,
   "id": "726264b9",
   "metadata": {},
   "outputs": [
    {
     "data": {
      "text/plain": [
       "True"
      ]
     },
     "execution_count": 41,
     "metadata": {},
     "output_type": "execute_result"
    }
   ],
   "source": [
    "s1 = 'Hello'\n",
    "s2 = 'Hello'\n",
    "s1 is s2"
   ]
  },
  {
   "cell_type": "code",
   "execution_count": 46,
   "id": "a159242a",
   "metadata": {},
   "outputs": [
    {
     "data": {
      "text/plain": [
       "True"
      ]
     },
     "execution_count": 46,
     "metadata": {},
     "output_type": "execute_result"
    }
   ],
   "source": [
    "a = 5\n",
    "b = 5.0\n",
    "a == b"
   ]
  },
  {
   "cell_type": "code",
   "execution_count": 47,
   "id": "8220c86e",
   "metadata": {},
   "outputs": [
    {
     "data": {
      "text/plain": [
       "False"
      ]
     },
     "execution_count": 47,
     "metadata": {},
     "output_type": "execute_result"
    }
   ],
   "source": [
    "a = 5\n",
    "b = 5.0\n",
    "a is b"
   ]
  },
  {
   "cell_type": "markdown",
   "id": "5ca39fa9",
   "metadata": {},
   "source": [
    "## Membership operator"
   ]
  },
  {
   "cell_type": "code",
   "execution_count": 54,
   "id": "0cab8ac7",
   "metadata": {},
   "outputs": [
    {
     "data": {
      "text/plain": [
       "True"
      ]
     },
     "execution_count": 54,
     "metadata": {},
     "output_type": "execute_result"
    }
   ],
   "source": [
    "s = 'membership'\n",
    "'m' in s"
   ]
  },
  {
   "cell_type": "code",
   "execution_count": 55,
   "id": "6014ffd9",
   "metadata": {},
   "outputs": [
    {
     "data": {
      "text/plain": [
       "False"
      ]
     },
     "execution_count": 55,
     "metadata": {},
     "output_type": "execute_result"
    }
   ],
   "source": [
    "'M' in s"
   ]
  },
  {
   "cell_type": "code",
   "execution_count": 56,
   "id": "c6ea786d",
   "metadata": {},
   "outputs": [
    {
     "data": {
      "text/plain": [
       "False"
      ]
     },
     "execution_count": 56,
     "metadata": {},
     "output_type": "execute_result"
    }
   ],
   "source": [
    "'z' in s"
   ]
  },
  {
   "cell_type": "code",
   "execution_count": 57,
   "id": "88417abf",
   "metadata": {},
   "outputs": [
    {
     "data": {
      "text/plain": [
       "True"
      ]
     },
     "execution_count": 57,
     "metadata": {},
     "output_type": "execute_result"
    }
   ],
   "source": [
    "'member' in s"
   ]
  },
  {
   "cell_type": "code",
   "execution_count": 58,
   "id": "e9d875b5",
   "metadata": {},
   "outputs": [
    {
     "data": {
      "text/plain": [
       "True"
      ]
     },
     "execution_count": 58,
     "metadata": {},
     "output_type": "execute_result"
    }
   ],
   "source": [
    "l = [1,2,3,4,5]\n",
    "1 in l"
   ]
  },
  {
   "cell_type": "code",
   "execution_count": 59,
   "id": "d11841db",
   "metadata": {},
   "outputs": [
    {
     "data": {
      "text/plain": [
       "False"
      ]
     },
     "execution_count": 59,
     "metadata": {},
     "output_type": "execute_result"
    }
   ],
   "source": [
    "6 in l"
   ]
  },
  {
   "cell_type": "markdown",
   "id": "36fe4804",
   "metadata": {},
   "source": [
    "### Variable naming conventions\n",
    "- Alphabets, numbers and _ can be used\n",
    "- Variable name can not start with a number"
   ]
  },
  {
   "cell_type": "code",
   "execution_count": 60,
   "id": "3fdd2327",
   "metadata": {},
   "outputs": [],
   "source": [
    "# Valid names\n",
    "a = 5\n",
    "abc = 7\n",
    "salary = 200000\n",
    "x1 = 5\n",
    "x2 = 6\n",
    "first_name = 'Utkarsh'\n",
    "last_name = 'Sharma'\n",
    "_name = 'Utkarsh Sharma'\n",
    "\n",
    "A = 4\n",
    "a = 6"
   ]
  },
  {
   "cell_type": "code",
   "execution_count": 61,
   "id": "30a543aa",
   "metadata": {},
   "outputs": [
    {
     "ename": "SyntaxError",
     "evalue": "invalid syntax (<ipython-input-61-01682f4457c8>, line 1)",
     "output_type": "error",
     "traceback": [
      "\u001b[1;36m  File \u001b[1;32m\"<ipython-input-61-01682f4457c8>\"\u001b[1;36m, line \u001b[1;32m1\u001b[0m\n\u001b[1;33m    first name = 'Utkarsh'\u001b[0m\n\u001b[1;37m          ^\u001b[0m\n\u001b[1;31mSyntaxError\u001b[0m\u001b[1;31m:\u001b[0m invalid syntax\n"
     ]
    }
   ],
   "source": [
    "first name = 'Utkarsh'"
   ]
  },
  {
   "cell_type": "code",
   "execution_count": 62,
   "id": "339ff695",
   "metadata": {},
   "outputs": [
    {
     "ename": "SyntaxError",
     "evalue": "invalid syntax (<ipython-input-62-13fddc986ab6>, line 1)",
     "output_type": "error",
     "traceback": [
      "\u001b[1;36m  File \u001b[1;32m\"<ipython-input-62-13fddc986ab6>\"\u001b[1;36m, line \u001b[1;32m1\u001b[0m\n\u001b[1;33m    1num = 6\u001b[0m\n\u001b[1;37m     ^\u001b[0m\n\u001b[1;31mSyntaxError\u001b[0m\u001b[1;31m:\u001b[0m invalid syntax\n"
     ]
    }
   ],
   "source": [
    "1num = 6"
   ]
  },
  {
   "cell_type": "code",
   "execution_count": 63,
   "id": "830411a4",
   "metadata": {},
   "outputs": [
    {
     "ename": "SyntaxError",
     "evalue": "invalid syntax (<ipython-input-63-5b677dd93102>, line 1)",
     "output_type": "error",
     "traceback": [
      "\u001b[1;36m  File \u001b[1;32m\"<ipython-input-63-5b677dd93102>\"\u001b[1;36m, line \u001b[1;32m1\u001b[0m\n\u001b[1;33m    first_name@ = 'Utkarsh'\u001b[0m\n\u001b[1;37m                ^\u001b[0m\n\u001b[1;31mSyntaxError\u001b[0m\u001b[1;31m:\u001b[0m invalid syntax\n"
     ]
    }
   ],
   "source": [
    "first_name@ = 'Utkarsh'"
   ]
  },
  {
   "cell_type": "markdown",
   "id": "3d22ca83",
   "metadata": {},
   "source": [
    "# ================================================"
   ]
  },
  {
   "cell_type": "markdown",
   "id": "a09e46be",
   "metadata": {},
   "source": [
    "# Strings\n",
    "- A string is a sequence of characters"
   ]
  },
  {
   "cell_type": "code",
   "execution_count": 65,
   "id": "c69465cd",
   "metadata": {},
   "outputs": [
    {
     "data": {
      "text/plain": [
       "str"
      ]
     },
     "execution_count": 65,
     "metadata": {},
     "output_type": "execute_result"
    }
   ],
   "source": [
    "s = 'Hello'\n",
    "type(s)"
   ]
  },
  {
   "cell_type": "code",
   "execution_count": 66,
   "id": "ccbf0da9",
   "metadata": {},
   "outputs": [
    {
     "data": {
      "text/plain": [
       "str"
      ]
     },
     "execution_count": 66,
     "metadata": {},
     "output_type": "execute_result"
    }
   ],
   "source": [
    "s = \"Hello\"\n",
    "type(s)"
   ]
  },
  {
   "cell_type": "code",
   "execution_count": 67,
   "id": "db16e41d",
   "metadata": {},
   "outputs": [
    {
     "name": "stdout",
     "output_type": "stream",
     "text": [
      "My name is \"Spongebob\"\n"
     ]
    }
   ],
   "source": [
    "s = 'My name is \"Spongebob\"'\n",
    "print(s)"
   ]
  },
  {
   "cell_type": "code",
   "execution_count": 68,
   "id": "15aecfee",
   "metadata": {},
   "outputs": [
    {
     "name": "stdout",
     "output_type": "stream",
     "text": [
      "My name is 'Spongebob'\n"
     ]
    }
   ],
   "source": [
    "s = \"My name is 'Spongebob'\"\n",
    "print(s)"
   ]
  },
  {
   "cell_type": "code",
   "execution_count": 69,
   "id": "3ceb7351",
   "metadata": {},
   "outputs": [
    {
     "data": {
      "text/plain": [
       "str"
      ]
     },
     "execution_count": 69,
     "metadata": {},
     "output_type": "execute_result"
    }
   ],
   "source": [
    "s = 'H'\n",
    "type(s)"
   ]
  },
  {
   "cell_type": "markdown",
   "id": "381206da",
   "metadata": {},
   "source": [
    "## Concatenation"
   ]
  },
  {
   "cell_type": "code",
   "execution_count": 70,
   "id": "d1b957af",
   "metadata": {},
   "outputs": [
    {
     "data": {
      "text/plain": [
       "'HelloGood Morning'"
      ]
     },
     "execution_count": 70,
     "metadata": {},
     "output_type": "execute_result"
    }
   ],
   "source": [
    "a = 'Hello'\n",
    "b = 'Good Morning'\n",
    "a + b"
   ]
  },
  {
   "cell_type": "code",
   "execution_count": 71,
   "id": "adbb0565",
   "metadata": {},
   "outputs": [
    {
     "data": {
      "text/plain": [
       "'Hello Good Morning How are you?'"
      ]
     },
     "execution_count": 71,
     "metadata": {},
     "output_type": "execute_result"
    }
   ],
   "source": [
    "a + ' ' + b + ' ' + 'How are you?'"
   ]
  },
  {
   "cell_type": "code",
   "execution_count": 72,
   "id": "34c09dc1",
   "metadata": {},
   "outputs": [
    {
     "name": "stdout",
     "output_type": "stream",
     "text": [
      "Hello      Good Morning\n"
     ]
    }
   ],
   "source": [
    "print(a + '      ' + b)"
   ]
  },
  {
   "cell_type": "markdown",
   "id": "e545dc0b",
   "metadata": {},
   "source": [
    "## Repetition"
   ]
  },
  {
   "cell_type": "code",
   "execution_count": 69,
   "id": "e0f2b391",
   "metadata": {},
   "outputs": [
    {
     "data": {
      "text/plain": [
       "'HahaHahaHaha'"
      ]
     },
     "execution_count": 69,
     "metadata": {},
     "output_type": "execute_result"
    }
   ],
   "source": [
    "a = 'Haha'\n",
    "a * 3"
   ]
  },
  {
   "cell_type": "code",
   "execution_count": 70,
   "id": "a15f1b51",
   "metadata": {},
   "outputs": [
    {
     "data": {
      "text/plain": [
       "'HahaHahaHahaHahaHaha'"
      ]
     },
     "execution_count": 70,
     "metadata": {},
     "output_type": "execute_result"
    }
   ],
   "source": [
    "a * 5"
   ]
  },
  {
   "cell_type": "code",
   "execution_count": 71,
   "id": "73cc8637",
   "metadata": {},
   "outputs": [
    {
     "data": {
      "text/plain": [
       "'HahaHahaHaha'"
      ]
     },
     "execution_count": 71,
     "metadata": {},
     "output_type": "execute_result"
    }
   ],
   "source": [
    "3 * a"
   ]
  },
  {
   "cell_type": "markdown",
   "id": "0b6ac09f",
   "metadata": {},
   "source": [
    "## Comparisons\n",
    "\n",
    "<img align = 'left' src = 'unicode.png' style = 'width:700px; hieght:600px' />"
   ]
  },
  {
   "cell_type": "code",
   "execution_count": 73,
   "id": "350181d1",
   "metadata": {},
   "outputs": [
    {
     "data": {
      "text/plain": [
       "False"
      ]
     },
     "execution_count": 73,
     "metadata": {},
     "output_type": "execute_result"
    }
   ],
   "source": [
    "a = 'Hello'\n",
    "b = 'Hi'\n",
    "a == b"
   ]
  },
  {
   "cell_type": "code",
   "execution_count": 77,
   "id": "073d70eb",
   "metadata": {},
   "outputs": [
    {
     "data": {
      "text/plain": [
       "True"
      ]
     },
     "execution_count": 77,
     "metadata": {},
     "output_type": "execute_result"
    }
   ],
   "source": [
    "a = 'Hello'\n",
    "b = 'Hello'\n",
    "a == b"
   ]
  },
  {
   "cell_type": "code",
   "execution_count": 82,
   "id": "04ad5122",
   "metadata": {},
   "outputs": [
    {
     "data": {
      "text/plain": [
       "True"
      ]
     },
     "execution_count": 82,
     "metadata": {},
     "output_type": "execute_result"
    }
   ],
   "source": [
    "'Hello' > 'Apple'"
   ]
  },
  {
   "cell_type": "markdown",
   "id": "810520a8",
   "metadata": {},
   "source": [
    "## String Indexing"
   ]
  },
  {
   "cell_type": "code",
   "execution_count": 1,
   "id": "c2ffd6ed",
   "metadata": {},
   "outputs": [
    {
     "data": {
      "text/plain": [
       "'Hakuna Matata'"
      ]
     },
     "execution_count": 1,
     "metadata": {},
     "output_type": "execute_result"
    }
   ],
   "source": [
    "h = 'Hakuna Matata'\n",
    "h"
   ]
  },
  {
   "cell_type": "code",
   "execution_count": 4,
   "id": "894024df",
   "metadata": {},
   "outputs": [
    {
     "data": {
      "text/plain": [
       "'H'"
      ]
     },
     "execution_count": 4,
     "metadata": {},
     "output_type": "execute_result"
    }
   ],
   "source": [
    "h[0]"
   ]
  },
  {
   "cell_type": "code",
   "execution_count": 5,
   "id": "8da6e3aa",
   "metadata": {},
   "outputs": [
    {
     "data": {
      "text/plain": [
       "'a'"
      ]
     },
     "execution_count": 5,
     "metadata": {},
     "output_type": "execute_result"
    }
   ],
   "source": [
    "h[1]"
   ]
  },
  {
   "cell_type": "code",
   "execution_count": 6,
   "id": "cca03c54",
   "metadata": {},
   "outputs": [
    {
     "data": {
      "text/plain": [
       "'k'"
      ]
     },
     "execution_count": 6,
     "metadata": {},
     "output_type": "execute_result"
    }
   ],
   "source": [
    "h[2]"
   ]
  },
  {
   "cell_type": "code",
   "execution_count": 7,
   "id": "8f515813",
   "metadata": {},
   "outputs": [
    {
     "data": {
      "text/plain": [
       "' '"
      ]
     },
     "execution_count": 7,
     "metadata": {},
     "output_type": "execute_result"
    }
   ],
   "source": [
    "h[6]"
   ]
  },
  {
   "cell_type": "code",
   "execution_count": 8,
   "id": "3f048ab8",
   "metadata": {},
   "outputs": [
    {
     "data": {
      "text/plain": [
       "'M'"
      ]
     },
     "execution_count": 8,
     "metadata": {},
     "output_type": "execute_result"
    }
   ],
   "source": [
    "h[7]"
   ]
  },
  {
   "cell_type": "code",
   "execution_count": 91,
   "id": "8d5ef2d2",
   "metadata": {},
   "outputs": [
    {
     "data": {
      "text/plain": [
       "'t'"
      ]
     },
     "execution_count": 91,
     "metadata": {},
     "output_type": "execute_result"
    }
   ],
   "source": [
    "h[11]"
   ]
  },
  {
   "cell_type": "code",
   "execution_count": 9,
   "id": "81a84803",
   "metadata": {},
   "outputs": [
    {
     "data": {
      "text/plain": [
       "'a'"
      ]
     },
     "execution_count": 9,
     "metadata": {},
     "output_type": "execute_result"
    }
   ],
   "source": [
    "h[12]"
   ]
  },
  {
   "cell_type": "code",
   "execution_count": 10,
   "id": "2346bf28",
   "metadata": {},
   "outputs": [
    {
     "ename": "IndexError",
     "evalue": "string index out of range",
     "output_type": "error",
     "traceback": [
      "\u001b[1;31m---------------------------------------------------------------------------\u001b[0m",
      "\u001b[1;31mIndexError\u001b[0m                                Traceback (most recent call last)",
      "\u001b[1;32m<ipython-input-10-1eb8a96b443f>\u001b[0m in \u001b[0;36m<module>\u001b[1;34m\u001b[0m\n\u001b[1;32m----> 1\u001b[1;33m \u001b[0mh\u001b[0m\u001b[1;33m[\u001b[0m\u001b[1;36m13\u001b[0m\u001b[1;33m]\u001b[0m\u001b[1;33m\u001b[0m\u001b[1;33m\u001b[0m\u001b[0m\n\u001b[0m",
      "\u001b[1;31mIndexError\u001b[0m: string index out of range"
     ]
    }
   ],
   "source": [
    "h[13]"
   ]
  },
  {
   "cell_type": "code",
   "execution_count": 11,
   "id": "7030625a",
   "metadata": {},
   "outputs": [
    {
     "data": {
      "text/plain": [
       "13"
      ]
     },
     "execution_count": 11,
     "metadata": {},
     "output_type": "execute_result"
    }
   ],
   "source": [
    "# Length of a string (number of characters in the string)\n",
    "len(h)"
   ]
  },
  {
   "cell_type": "code",
   "execution_count": 12,
   "id": "4fbf2194",
   "metadata": {},
   "outputs": [
    {
     "data": {
      "text/plain": [
       "'a'"
      ]
     },
     "execution_count": 12,
     "metadata": {},
     "output_type": "execute_result"
    }
   ],
   "source": [
    "# Reverse Indexing\n",
    "h[-1]"
   ]
  },
  {
   "cell_type": "code",
   "execution_count": 13,
   "id": "9d08a1ad",
   "metadata": {},
   "outputs": [
    {
     "data": {
      "text/plain": [
       "'t'"
      ]
     },
     "execution_count": 13,
     "metadata": {},
     "output_type": "execute_result"
    }
   ],
   "source": [
    "h[-2]"
   ]
  },
  {
   "cell_type": "code",
   "execution_count": 14,
   "id": "c68131a6",
   "metadata": {},
   "outputs": [
    {
     "data": {
      "text/plain": [
       "'a'"
      ]
     },
     "execution_count": 14,
     "metadata": {},
     "output_type": "execute_result"
    }
   ],
   "source": [
    "h[-3]"
   ]
  },
  {
   "cell_type": "code",
   "execution_count": 15,
   "id": "902bae48",
   "metadata": {},
   "outputs": [
    {
     "data": {
      "text/plain": [
       "'H'"
      ]
     },
     "execution_count": 15,
     "metadata": {},
     "output_type": "execute_result"
    }
   ],
   "source": [
    "h[-13]"
   ]
  },
  {
   "cell_type": "code",
   "execution_count": 16,
   "id": "6ca6aa6c",
   "metadata": {},
   "outputs": [
    {
     "ename": "IndexError",
     "evalue": "string index out of range",
     "output_type": "error",
     "traceback": [
      "\u001b[1;31m---------------------------------------------------------------------------\u001b[0m",
      "\u001b[1;31mIndexError\u001b[0m                                Traceback (most recent call last)",
      "\u001b[1;32m<ipython-input-16-02a31bfe2736>\u001b[0m in \u001b[0;36m<module>\u001b[1;34m\u001b[0m\n\u001b[1;32m----> 1\u001b[1;33m \u001b[0mh\u001b[0m\u001b[1;33m[\u001b[0m\u001b[1;33m-\u001b[0m\u001b[1;36m14\u001b[0m\u001b[1;33m]\u001b[0m\u001b[1;33m\u001b[0m\u001b[1;33m\u001b[0m\u001b[0m\n\u001b[0m",
      "\u001b[1;31mIndexError\u001b[0m: string index out of range"
     ]
    }
   ],
   "source": [
    "h[-14]"
   ]
  },
  {
   "cell_type": "markdown",
   "id": "e8264e82",
   "metadata": {},
   "source": [
    "## String Slicing\n",
    "- Slicing is used to extract substrings from a string\n",
    "- Substring is a part of string\n",
    "- Consider Markdown as a string : Mark , down, rkd, own all are substrings of Markdown\n",
    "\n",
    "The Syntax for slicing is `var[start :stop : step]`\n",
    "- start: the beginning index of the group of elements we want to access\n",
    "- stop: the ending index of the group of elements we want to access\n",
    "- step: how many steps to take, when accessing a group of elements"
   ]
  },
  {
   "cell_type": "markdown",
   "id": "937a85a7",
   "metadata": {},
   "source": [
    "# GOOD MORNING"
   ]
  },
  {
   "cell_type": "code",
   "execution_count": 1,
   "id": "f09372b8",
   "metadata": {},
   "outputs": [
    {
     "data": {
      "text/plain": [
       "'Good Morning'"
      ]
     },
     "execution_count": 1,
     "metadata": {},
     "output_type": "execute_result"
    }
   ],
   "source": [
    "s = 'Good Morning'\n",
    "s"
   ]
  },
  {
   "cell_type": "code",
   "execution_count": 18,
   "id": "fd8286e0",
   "metadata": {},
   "outputs": [
    {
     "data": {
      "text/plain": [
       "'Goo'"
      ]
     },
     "execution_count": 18,
     "metadata": {},
     "output_type": "execute_result"
    }
   ],
   "source": [
    "s[0:3]"
   ]
  },
  {
   "cell_type": "code",
   "execution_count": 19,
   "id": "dc53cfa3",
   "metadata": {},
   "outputs": [
    {
     "data": {
      "text/plain": [
       "'Good'"
      ]
     },
     "execution_count": 19,
     "metadata": {},
     "output_type": "execute_result"
    }
   ],
   "source": [
    "s[0:4]"
   ]
  },
  {
   "cell_type": "code",
   "execution_count": 20,
   "id": "0f03fffe",
   "metadata": {},
   "outputs": [
    {
     "data": {
      "text/plain": [
       "'Good'"
      ]
     },
     "execution_count": 20,
     "metadata": {},
     "output_type": "execute_result"
    }
   ],
   "source": [
    "s[0:4:1]"
   ]
  },
  {
   "cell_type": "code",
   "execution_count": 21,
   "id": "971243fd",
   "metadata": {},
   "outputs": [
    {
     "data": {
      "text/plain": [
       "'Go'"
      ]
     },
     "execution_count": 21,
     "metadata": {},
     "output_type": "execute_result"
    }
   ],
   "source": [
    "s[0:4:2]"
   ]
  },
  {
   "cell_type": "code",
   "execution_count": 22,
   "id": "a7b3aa56",
   "metadata": {},
   "outputs": [
    {
     "data": {
      "text/plain": [
       "'Morning'"
      ]
     },
     "execution_count": 22,
     "metadata": {},
     "output_type": "execute_result"
    }
   ],
   "source": [
    "s[5:12]"
   ]
  },
  {
   "cell_type": "code",
   "execution_count": 23,
   "id": "69aaeae7",
   "metadata": {},
   "outputs": [
    {
     "data": {
      "text/plain": [
       "'Good Morning'"
      ]
     },
     "execution_count": 23,
     "metadata": {},
     "output_type": "execute_result"
    }
   ],
   "source": [
    "s[0:12]"
   ]
  },
  {
   "cell_type": "code",
   "execution_count": 24,
   "id": "02f0486d",
   "metadata": {},
   "outputs": [
    {
     "data": {
      "text/plain": [
       "'d Morn'"
      ]
     },
     "execution_count": 24,
     "metadata": {},
     "output_type": "execute_result"
    }
   ],
   "source": [
    "s[3:9]"
   ]
  },
  {
   "cell_type": "code",
   "execution_count": 25,
   "id": "55236057",
   "metadata": {},
   "outputs": [
    {
     "data": {
      "text/plain": [
       "'Good Morning'"
      ]
     },
     "execution_count": 25,
     "metadata": {},
     "output_type": "execute_result"
    }
   ],
   "source": [
    "s[0:12:1]"
   ]
  },
  {
   "cell_type": "code",
   "execution_count": 26,
   "id": "4c7c86bb",
   "metadata": {},
   "outputs": [
    {
     "data": {
      "text/plain": [
       "'Go onn'"
      ]
     },
     "execution_count": 26,
     "metadata": {},
     "output_type": "execute_result"
    }
   ],
   "source": [
    "s[0:12:2]"
   ]
  },
  {
   "cell_type": "code",
   "execution_count": 27,
   "id": "bb331d6d",
   "metadata": {},
   "outputs": [
    {
     "data": {
      "text/plain": [
       "'Gdoi'"
      ]
     },
     "execution_count": 27,
     "metadata": {},
     "output_type": "execute_result"
    }
   ],
   "source": [
    "s[0:12:3]"
   ]
  },
  {
   "cell_type": "code",
   "execution_count": 36,
   "id": "f85f525e",
   "metadata": {},
   "outputs": [
    {
     "data": {
      "text/plain": [
       "'o rn'"
      ]
     },
     "execution_count": 36,
     "metadata": {},
     "output_type": "execute_result"
    }
   ],
   "source": [
    "s[1:12:3]"
   ]
  },
  {
   "cell_type": "code",
   "execution_count": 28,
   "id": "8a9651de",
   "metadata": {},
   "outputs": [
    {
     "data": {
      "text/plain": [
       "'Gdo'"
      ]
     },
     "execution_count": 28,
     "metadata": {},
     "output_type": "execute_result"
    }
   ],
   "source": [
    "s[0:8:3]"
   ]
  },
  {
   "cell_type": "code",
   "execution_count": 29,
   "id": "cb1b5734",
   "metadata": {},
   "outputs": [
    {
     "data": {
      "text/plain": [
       "'Good'"
      ]
     },
     "execution_count": 29,
     "metadata": {},
     "output_type": "execute_result"
    }
   ],
   "source": [
    "s[:4]         # s[0:4:1]"
   ]
  },
  {
   "cell_type": "code",
   "execution_count": 30,
   "id": "93a14f20",
   "metadata": {},
   "outputs": [
    {
     "data": {
      "text/plain": [
       "'Good Morning'"
      ]
     },
     "execution_count": 30,
     "metadata": {},
     "output_type": "execute_result"
    }
   ],
   "source": [
    "s[0:]        # s[0:12:1]"
   ]
  },
  {
   "cell_type": "code",
   "execution_count": 31,
   "id": "9b8907b6",
   "metadata": {},
   "outputs": [
    {
     "data": {
      "text/plain": [
       "'Good Morning'"
      ]
     },
     "execution_count": 31,
     "metadata": {},
     "output_type": "execute_result"
    }
   ],
   "source": [
    "s[:]        # s[0:12:1]"
   ]
  },
  {
   "cell_type": "code",
   "execution_count": 32,
   "id": "8cef2562",
   "metadata": {},
   "outputs": [
    {
     "data": {
      "text/plain": [
       "'Good Morning'"
      ]
     },
     "execution_count": 32,
     "metadata": {},
     "output_type": "execute_result"
    }
   ],
   "source": [
    "s[::]      # s[0:12:1]"
   ]
  },
  {
   "cell_type": "code",
   "execution_count": 3,
   "id": "8e7e4788",
   "metadata": {},
   "outputs": [
    {
     "data": {
      "text/plain": [
       "'Morning'"
      ]
     },
     "execution_count": 3,
     "metadata": {},
     "output_type": "execute_result"
    }
   ],
   "source": [
    "s[-7:]"
   ]
  },
  {
   "cell_type": "code",
   "execution_count": 4,
   "id": "090d9146",
   "metadata": {},
   "outputs": [
    {
     "data": {
      "text/plain": [
       "'Good'"
      ]
     },
     "execution_count": 4,
     "metadata": {},
     "output_type": "execute_result"
    }
   ],
   "source": [
    "s[-12:-8]"
   ]
  },
  {
   "cell_type": "code",
   "execution_count": 6,
   "id": "ea89d1dc",
   "metadata": {},
   "outputs": [
    {
     "data": {
      "text/plain": [
       "'gninroM'"
      ]
     },
     "execution_count": 6,
     "metadata": {},
     "output_type": "execute_result"
    }
   ],
   "source": [
    "s[-1:-8:-1]"
   ]
  },
  {
   "cell_type": "code",
   "execution_count": 7,
   "id": "51dd7320",
   "metadata": {},
   "outputs": [
    {
     "data": {
      "text/plain": [
       "'gninroM dooG'"
      ]
     },
     "execution_count": 7,
     "metadata": {},
     "output_type": "execute_result"
    }
   ],
   "source": [
    "# Reversing a string\n",
    "s[-1::-1]"
   ]
  },
  {
   "cell_type": "code",
   "execution_count": 8,
   "id": "042ffab6",
   "metadata": {},
   "outputs": [
    {
     "data": {
      "text/plain": [
       "'gninroM dooG'"
      ]
     },
     "execution_count": 8,
     "metadata": {},
     "output_type": "execute_result"
    }
   ],
   "source": [
    "# Reversing a string\n",
    "s[::-1]"
   ]
  },
  {
   "cell_type": "code",
   "execution_count": 24,
   "id": "eefa38f4",
   "metadata": {},
   "outputs": [
    {
     "name": "stdout",
     "output_type": "stream",
     "text": [
      "Master\n",
      "Gogo\n",
      "Crime\n",
      "ogoG\n",
      "retsaM emirC\n"
     ]
    },
    {
     "data": {
      "text/plain": [
       "'Gogo'"
      ]
     },
     "execution_count": 24,
     "metadata": {},
     "output_type": "execute_result"
    }
   ],
   "source": [
    "# Practice\n",
    "s = 'Crime Master Gogo'\n",
    "print(s[6:12])\n",
    "print(s[13:17])\n",
    "print(s[-17:-12])\n",
    "print(s[-1:-5:-1])\n",
    "print(s[11::-1])\n",
    "s[-4:]"
   ]
  },
  {
   "cell_type": "markdown",
   "id": "4c3f0ce2",
   "metadata": {},
   "source": [
    "## String Functions"
   ]
  },
  {
   "cell_type": "code",
   "execution_count": 25,
   "id": "edea0c23",
   "metadata": {},
   "outputs": [
    {
     "data": {
      "text/plain": [
       "'Good Morning'"
      ]
     },
     "execution_count": 25,
     "metadata": {},
     "output_type": "execute_result"
    }
   ],
   "source": [
    "s = 'Good Morning'\n",
    "s"
   ]
  },
  {
   "cell_type": "code",
   "execution_count": 26,
   "id": "5cde3044",
   "metadata": {},
   "outputs": [
    {
     "data": {
      "text/plain": [
       "12"
      ]
     },
     "execution_count": 26,
     "metadata": {},
     "output_type": "execute_result"
    }
   ],
   "source": [
    "len(s)"
   ]
  },
  {
   "cell_type": "code",
   "execution_count": 27,
   "id": "2ac19267",
   "metadata": {},
   "outputs": [
    {
     "data": {
      "text/plain": [
       "str"
      ]
     },
     "execution_count": 27,
     "metadata": {},
     "output_type": "execute_result"
    }
   ],
   "source": [
    "type(s)"
   ]
  },
  {
   "cell_type": "code",
   "execution_count": 28,
   "id": "65f838bb",
   "metadata": {},
   "outputs": [
    {
     "data": {
      "text/plain": [
       "'GOOD MORNING'"
      ]
     },
     "execution_count": 28,
     "metadata": {},
     "output_type": "execute_result"
    }
   ],
   "source": [
    "s.upper()"
   ]
  },
  {
   "cell_type": "code",
   "execution_count": 29,
   "id": "b13f9ef7",
   "metadata": {},
   "outputs": [
    {
     "data": {
      "text/plain": [
       "'Good Morning'"
      ]
     },
     "execution_count": 29,
     "metadata": {},
     "output_type": "execute_result"
    }
   ],
   "source": [
    "s                                   # original string is not changed"
   ]
  },
  {
   "cell_type": "code",
   "execution_count": 38,
   "id": "ae74f1b2",
   "metadata": {},
   "outputs": [
    {
     "data": {
      "text/plain": [
       "'HELLO'"
      ]
     },
     "execution_count": 38,
     "metadata": {},
     "output_type": "execute_result"
    }
   ],
   "source": [
    "'Hello'.upper()"
   ]
  },
  {
   "cell_type": "code",
   "execution_count": 31,
   "id": "cf8c7cab",
   "metadata": {},
   "outputs": [
    {
     "data": {
      "text/plain": [
       "'good morning'"
      ]
     },
     "execution_count": 31,
     "metadata": {},
     "output_type": "execute_result"
    }
   ],
   "source": [
    "s.lower()"
   ]
  },
  {
   "cell_type": "code",
   "execution_count": 35,
   "id": "286b56ce",
   "metadata": {},
   "outputs": [
    {
     "data": {
      "text/plain": [
       "'Good evening welcome to the session'"
      ]
     },
     "execution_count": 35,
     "metadata": {},
     "output_type": "execute_result"
    }
   ],
   "source": [
    "s = 'good evening welcome to the session'\n",
    "s.capitalize()"
   ]
  },
  {
   "cell_type": "code",
   "execution_count": 36,
   "id": "f035e51d",
   "metadata": {},
   "outputs": [
    {
     "data": {
      "text/plain": [
       "'Good Evening Welcome To The Session'"
      ]
     },
     "execution_count": 36,
     "metadata": {},
     "output_type": "execute_result"
    }
   ],
   "source": [
    "s.title()"
   ]
  },
  {
   "cell_type": "code",
   "execution_count": 40,
   "id": "f1fa4dbe",
   "metadata": {},
   "outputs": [
    {
     "data": {
      "text/plain": [
       "'Good Evening'"
      ]
     },
     "execution_count": 40,
     "metadata": {},
     "output_type": "execute_result"
    }
   ],
   "source": [
    "s[0:12].title()"
   ]
  },
  {
   "cell_type": "code",
   "execution_count": 41,
   "id": "65f09cd9",
   "metadata": {},
   "outputs": [
    {
     "data": {
      "text/plain": [
       "5"
      ]
     },
     "execution_count": 41,
     "metadata": {},
     "output_type": "execute_result"
    }
   ],
   "source": [
    "s.count('o')"
   ]
  },
  {
   "cell_type": "code",
   "execution_count": 42,
   "id": "68b99d82",
   "metadata": {},
   "outputs": [
    {
     "data": {
      "text/plain": [
       "1"
      ]
     },
     "execution_count": 42,
     "metadata": {},
     "output_type": "execute_result"
    }
   ],
   "source": [
    "s.count('welcome')"
   ]
  },
  {
   "cell_type": "code",
   "execution_count": 48,
   "id": "b8ecc11b",
   "metadata": {},
   "outputs": [
    {
     "data": {
      "text/plain": [
       "0"
      ]
     },
     "execution_count": 48,
     "metadata": {},
     "output_type": "execute_result"
    }
   ],
   "source": [
    "s.count('z')"
   ]
  },
  {
   "cell_type": "code",
   "execution_count": 43,
   "id": "ce6e07ea",
   "metadata": {},
   "outputs": [
    {
     "data": {
      "text/plain": [
       "18"
      ]
     },
     "execution_count": 43,
     "metadata": {},
     "output_type": "execute_result"
    }
   ],
   "source": [
    "s.find('m')"
   ]
  },
  {
   "cell_type": "code",
   "execution_count": 44,
   "id": "06ae06d8",
   "metadata": {},
   "outputs": [
    {
     "data": {
      "text/plain": [
       "13"
      ]
     },
     "execution_count": 44,
     "metadata": {},
     "output_type": "execute_result"
    }
   ],
   "source": [
    "s.find('welcome')"
   ]
  },
  {
   "cell_type": "code",
   "execution_count": 45,
   "id": "863610c4",
   "metadata": {},
   "outputs": [
    {
     "data": {
      "text/plain": [
       "1"
      ]
     },
     "execution_count": 45,
     "metadata": {},
     "output_type": "execute_result"
    }
   ],
   "source": [
    "s.find('o')"
   ]
  },
  {
   "cell_type": "code",
   "execution_count": 47,
   "id": "8162b85c",
   "metadata": {},
   "outputs": [
    {
     "data": {
      "text/plain": [
       "-1"
      ]
     },
     "execution_count": 47,
     "metadata": {},
     "output_type": "execute_result"
    }
   ],
   "source": [
    "s.find('z')        # When a string is not present -1 is returned"
   ]
  },
  {
   "cell_type": "code",
   "execution_count": 49,
   "id": "7f7bcace",
   "metadata": {},
   "outputs": [
    {
     "data": {
      "text/plain": [
       "18"
      ]
     },
     "execution_count": 49,
     "metadata": {},
     "output_type": "execute_result"
    }
   ],
   "source": [
    "s.index('m')"
   ]
  },
  {
   "cell_type": "code",
   "execution_count": 50,
   "id": "04d12f38",
   "metadata": {},
   "outputs": [
    {
     "data": {
      "text/plain": [
       "13"
      ]
     },
     "execution_count": 50,
     "metadata": {},
     "output_type": "execute_result"
    }
   ],
   "source": [
    "s.index('welcome')"
   ]
  },
  {
   "cell_type": "code",
   "execution_count": 51,
   "id": "519b254b",
   "metadata": {},
   "outputs": [
    {
     "ename": "ValueError",
     "evalue": "substring not found",
     "output_type": "error",
     "traceback": [
      "\u001b[1;31m---------------------------------------------------------------------------\u001b[0m",
      "\u001b[1;31mValueError\u001b[0m                                Traceback (most recent call last)",
      "\u001b[1;32m<ipython-input-51-3d8ee9b57202>\u001b[0m in \u001b[0;36m<module>\u001b[1;34m\u001b[0m\n\u001b[1;32m----> 1\u001b[1;33m \u001b[0ms\u001b[0m\u001b[1;33m.\u001b[0m\u001b[0mindex\u001b[0m\u001b[1;33m(\u001b[0m\u001b[1;34m'z'\u001b[0m\u001b[1;33m)\u001b[0m\u001b[1;33m\u001b[0m\u001b[1;33m\u001b[0m\u001b[0m\n\u001b[0m",
      "\u001b[1;31mValueError\u001b[0m: substring not found"
     ]
    }
   ],
   "source": [
    "s.index('z')"
   ]
  },
  {
   "cell_type": "code",
   "execution_count": 52,
   "id": "87eb2549",
   "metadata": {},
   "outputs": [
    {
     "data": {
      "text/plain": [
       "True"
      ]
     },
     "execution_count": 52,
     "metadata": {},
     "output_type": "execute_result"
    }
   ],
   "source": [
    "s = '12345'\n",
    "s.isdigit()"
   ]
  },
  {
   "cell_type": "code",
   "execution_count": 53,
   "id": "ec05c34b",
   "metadata": {},
   "outputs": [
    {
     "data": {
      "text/plain": [
       "False"
      ]
     },
     "execution_count": 53,
     "metadata": {},
     "output_type": "execute_result"
    }
   ],
   "source": [
    "s = '123a'\n",
    "s.isdigit()"
   ]
  },
  {
   "cell_type": "code",
   "execution_count": 54,
   "id": "d70e03f3",
   "metadata": {},
   "outputs": [
    {
     "data": {
      "text/plain": [
       "False"
      ]
     },
     "execution_count": 54,
     "metadata": {},
     "output_type": "execute_result"
    }
   ],
   "source": [
    "s = '1.5'\n",
    "s.isdigit()"
   ]
  },
  {
   "cell_type": "code",
   "execution_count": 55,
   "id": "6237c746",
   "metadata": {},
   "outputs": [
    {
     "data": {
      "text/plain": [
       "True"
      ]
     },
     "execution_count": 55,
     "metadata": {},
     "output_type": "execute_result"
    }
   ],
   "source": [
    "s = '123'\n",
    "s.isnumeric()"
   ]
  },
  {
   "cell_type": "code",
   "execution_count": 56,
   "id": "1f55cad7",
   "metadata": {},
   "outputs": [
    {
     "data": {
      "text/plain": [
       "False"
      ]
     },
     "execution_count": 56,
     "metadata": {},
     "output_type": "execute_result"
    }
   ],
   "source": [
    "s = '1.5'\n",
    "s.isnumeric()"
   ]
  },
  {
   "cell_type": "code",
   "execution_count": 58,
   "id": "4e616c73",
   "metadata": {},
   "outputs": [
    {
     "data": {
      "text/plain": [
       "True"
      ]
     },
     "execution_count": 58,
     "metadata": {},
     "output_type": "execute_result"
    }
   ],
   "source": [
    "s = '123abc'\n",
    "s.isalnum()"
   ]
  },
  {
   "cell_type": "code",
   "execution_count": 59,
   "id": "056cb820",
   "metadata": {},
   "outputs": [
    {
     "data": {
      "text/plain": [
       "False"
      ]
     },
     "execution_count": 59,
     "metadata": {},
     "output_type": "execute_result"
    }
   ],
   "source": [
    "s = '123abc ?'\n",
    "s.isalnum()"
   ]
  },
  {
   "cell_type": "code",
   "execution_count": 60,
   "id": "e72b3567",
   "metadata": {},
   "outputs": [
    {
     "data": {
      "text/plain": [
       "'I am Ironman'"
      ]
     },
     "execution_count": 60,
     "metadata": {},
     "output_type": "execute_result"
    }
   ],
   "source": [
    "s = 'I am Ironman'\n",
    "s"
   ]
  },
  {
   "cell_type": "code",
   "execution_count": 61,
   "id": "6f824b9d",
   "metadata": {},
   "outputs": [
    {
     "data": {
      "text/plain": [
       "'I am Batman'"
      ]
     },
     "execution_count": 61,
     "metadata": {},
     "output_type": "execute_result"
    }
   ],
   "source": [
    "s.replace('Ironman', 'Batman')"
   ]
  },
  {
   "cell_type": "code",
   "execution_count": 19,
   "id": "7ac24ba2",
   "metadata": {},
   "outputs": [
    {
     "data": {
      "text/plain": [
       "'I am Ironman'"
      ]
     },
     "execution_count": 19,
     "metadata": {},
     "output_type": "execute_result"
    }
   ],
   "source": [
    "s"
   ]
  },
  {
   "cell_type": "code",
   "execution_count": 62,
   "id": "d6f329e9",
   "metadata": {},
   "outputs": [
    {
     "data": {
      "text/plain": [
       "'I am in Bengaluru'"
      ]
     },
     "execution_count": 62,
     "metadata": {},
     "output_type": "execute_result"
    }
   ],
   "source": [
    "'I am in Jaipur'.replace('Jaipur','Bengaluru')"
   ]
  },
  {
   "cell_type": "code",
   "execution_count": 63,
   "id": "87431a84",
   "metadata": {},
   "outputs": [
    {
     "data": {
      "text/plain": [
       "'I am in Jaipur'"
      ]
     },
     "execution_count": 63,
     "metadata": {},
     "output_type": "execute_result"
    }
   ],
   "source": [
    "'I am in Jaipur'.replace('Dehli','Bengaluru') # nothing is replaced"
   ]
  },
  {
   "cell_type": "code",
   "execution_count": 64,
   "id": "bda038ba",
   "metadata": {},
   "outputs": [
    {
     "data": {
      "text/plain": [
       "'I live in Bengaluru, Bengaluru is known for Tourism, Bengaluru Bengaluru'"
      ]
     },
     "execution_count": 64,
     "metadata": {},
     "output_type": "execute_result"
    }
   ],
   "source": [
    "'I live in Jaipur, Jaipur is known for Tourism, Jaipur Jaipur'.replace('Jaipur','Bengaluru')"
   ]
  },
  {
   "cell_type": "code",
   "execution_count": 65,
   "id": "27efad23",
   "metadata": {},
   "outputs": [
    {
     "data": {
      "text/plain": [
       "'I_am_in_Jaipur'"
      ]
     },
     "execution_count": 65,
     "metadata": {},
     "output_type": "execute_result"
    }
   ],
   "source": [
    "'I am in Jaipur'.replace(' ','_')"
   ]
  },
  {
   "cell_type": "code",
   "execution_count": 17,
   "id": "3d3ee4c0",
   "metadata": {},
   "outputs": [
    {
     "data": {
      "text/plain": [
       "['Good', 'morning', 'how', 'are', 'you']"
      ]
     },
     "execution_count": 17,
     "metadata": {},
     "output_type": "execute_result"
    }
   ],
   "source": [
    "s = 'Good morning how are you'\n",
    "s.split()"
   ]
  },
  {
   "cell_type": "code",
   "execution_count": 24,
   "id": "1e6fea0d",
   "metadata": {},
   "outputs": [
    {
     "data": {
      "text/plain": [
       "['Good mornin', ' how are you']"
      ]
     },
     "execution_count": 24,
     "metadata": {},
     "output_type": "execute_result"
    }
   ],
   "source": [
    "s = 'Good morning how are you'\n",
    "s.split('g')"
   ]
  },
  {
   "cell_type": "code",
   "execution_count": 67,
   "id": "47161546",
   "metadata": {},
   "outputs": [
    {
     "data": {
      "text/plain": [
       "['Good morning ', ' are you']"
      ]
     },
     "execution_count": 67,
     "metadata": {},
     "output_type": "execute_result"
    }
   ],
   "source": [
    "s = 'Good morning how are you'\n",
    "s.split('how')"
   ]
  },
  {
   "cell_type": "code",
   "execution_count": 68,
   "id": "bf540cb2",
   "metadata": {},
   "outputs": [
    {
     "data": {
      "text/plain": [
       "['G', '', 'd m', 'rning h', 'w are y', 'u']"
      ]
     },
     "execution_count": 68,
     "metadata": {},
     "output_type": "execute_result"
    }
   ],
   "source": [
    "s.split('o')"
   ]
  },
  {
   "cell_type": "code",
   "execution_count": 151,
   "id": "5663b821",
   "metadata": {},
   "outputs": [
    {
     "data": {
      "text/plain": [
       "['Spongebob', 'Squarepants', '15', 'Seaworld']"
      ]
     },
     "execution_count": 151,
     "metadata": {},
     "output_type": "execute_result"
    }
   ],
   "source": [
    "s = 'Spongebob Squarepants 15 Seaworld'\n",
    "details = s.split()\n",
    "details"
   ]
  },
  {
   "cell_type": "code",
   "execution_count": 158,
   "id": "6d34c949",
   "metadata": {},
   "outputs": [
    {
     "name": "stdout",
     "output_type": "stream",
     "text": [
      "\n",
      "The Details Are : \n",
      "First Name :  Spongebob\n",
      "Last Name  :  Squarepants\n",
      "Age        :  15\n",
      "City       :  Seaworld\n"
     ]
    }
   ],
   "source": [
    "first_name = details[0]\n",
    "last_name = details[1]\n",
    "age = int(details[2])\n",
    "city = details[3]\n",
    "\n",
    "print('\\nThe Details Are : ')\n",
    "print('First Name : ',first_name)\n",
    "print('Last Name  : ',last_name)\n",
    "print('Age        : ',age)\n",
    "print('City       : ',city)"
   ]
  },
  {
   "cell_type": "code",
   "execution_count": 20,
   "id": "d286d3fc",
   "metadata": {},
   "outputs": [
    {
     "data": {
      "text/plain": [
       "'Good morning how are you'"
      ]
     },
     "execution_count": 20,
     "metadata": {},
     "output_type": "execute_result"
    }
   ],
   "source": [
    "word_list = ['Good', 'morning', 'how', 'are', 'you']\n",
    "' '.join(word_list)"
   ]
  },
  {
   "cell_type": "code",
   "execution_count": 69,
   "id": "242c3804",
   "metadata": {},
   "outputs": [
    {
     "data": {
      "text/plain": [
       "'Good@@@morning@@@how@@@are@@@you'"
      ]
     },
     "execution_count": 69,
     "metadata": {},
     "output_type": "execute_result"
    }
   ],
   "source": [
    "l = ['Good', 'morning', 'how', 'are', 'you']\n",
    "'@@@'.join(l)"
   ]
  },
  {
   "cell_type": "markdown",
   "id": "5b33f5bc",
   "metadata": {},
   "source": [
    "# Important Concepts\n",
    "- Mutable\n",
    "- Immutable\n",
    "- Iterable\n",
    "- Non Iterable\n",
    "- Sequence\n",
    "- Key Value Pair data types"
   ]
  },
  {
   "cell_type": "markdown",
   "id": "bba7b959",
   "metadata": {},
   "source": [
    "# Practice"
   ]
  },
  {
   "cell_type": "code",
   "execution_count": 71,
   "id": "ba25a7a6",
   "metadata": {},
   "outputs": [
    {
     "name": "stdout",
     "output_type": "stream",
     "text": [
      "Enter the details(firstname lastname age city) : Spongebob Squarepants 15 Seaworld\n",
      "\n",
      "The details are : \n",
      "First Name :  Spongebob\n",
      "Last Name  :  Squarepants\n",
      "Age        :  15\n",
      "City       :  Seaworld\n"
     ]
    }
   ],
   "source": [
    "details = input('Enter the details(firstname lastname age city) : ').split()\n",
    "\n",
    "first_name = details[0]\n",
    "last_name  = details[1]\n",
    "age = int(details[2])\n",
    "city = details[3]\n",
    "\n",
    "print('\\nThe details are : ')\n",
    "print('First Name : ', first_name)\n",
    "print('Last Name  : ', last_name)\n",
    "print('Age        : ', age)\n",
    "print('City       : ', city)"
   ]
  },
  {
   "cell_type": "code",
   "execution_count": 163,
   "id": "283fd84e",
   "metadata": {},
   "outputs": [
    {
     "name": "stdout",
     "output_type": "stream",
     "text": [
      "Enter First Number  : 10\n",
      "Enter Second Number : 5\n",
      "Before Swapping : \n",
      "Num1 =  10\n",
      "Num2 =  5\n",
      "After Swapping : \n",
      "Num1 =  5\n",
      "Num2 =  10\n"
     ]
    }
   ],
   "source": [
    "# Swapping two numbers (Method 1)\n",
    "num1 = int(input('Enter First Number  : '))\n",
    "num2 = int(input('Enter Second Number : '))\n",
    "print('Before Swapping : ')\n",
    "print('Num1 = ',num1)\n",
    "print('Num2 = ',num2)\n",
    "temp = num1\n",
    "num1 = num2\n",
    "num2 = temp\n",
    "print('After Swapping : ')\n",
    "print('Num1 = ',num1)\n",
    "print('Num2 = ',num2)"
   ]
  },
  {
   "cell_type": "code",
   "execution_count": 164,
   "id": "b4a48b3c",
   "metadata": {},
   "outputs": [
    {
     "name": "stdout",
     "output_type": "stream",
     "text": [
      "Enter First Number  : 10\n",
      "Enter Second Number : 5\n",
      "Before Swapping : \n",
      "Num1 =  10\n",
      "Num2 =  5\n",
      "After Swapping : \n",
      "Num1 =  5\n",
      "Num2 =  10\n"
     ]
    }
   ],
   "source": [
    "# Swapping two numbers (Method 2)\n",
    "num1 = int(input('Enter First Number  : '))\n",
    "num2 = int(input('Enter Second Number : '))\n",
    "print('Before Swapping : ')\n",
    "print('Num1 = ',num1)\n",
    "print('Num2 = ',num2)\n",
    "num1 = num1 + num2\n",
    "num2 = num1 - num2\n",
    "num1 = num1 - num2\n",
    "print('After Swapping : ')\n",
    "print('Num1 = ',num1)\n",
    "print('Num2 = ',num2)"
   ]
  },
  {
   "cell_type": "code",
   "execution_count": 165,
   "id": "ba4547b8",
   "metadata": {},
   "outputs": [
    {
     "name": "stdout",
     "output_type": "stream",
     "text": [
      "Enter First Number  : 10\n",
      "Enter Second Number : 5\n",
      "Before Swapping : \n",
      "Num1 =  10\n",
      "Num2 =  5\n",
      "After Swapping : \n",
      "Num1 =  5\n",
      "Num2 =  10\n"
     ]
    }
   ],
   "source": [
    "# Swapping two numbers (Method 3)\n",
    "num1 = int(input('Enter First Number  : '))\n",
    "num2 = int(input('Enter Second Number : '))\n",
    "print('Before Swapping : ')\n",
    "print('Num1 = ',num1)\n",
    "print('Num2 = ',num2)\n",
    "\n",
    "num1, num2 = num2, num1\n",
    "\n",
    "print('After Swapping : ')\n",
    "print('Num1 = ',num1)\n",
    "print('Num2 = ',num2)"
   ]
  },
  {
   "cell_type": "code",
   "execution_count": 73,
   "id": "e23e5861",
   "metadata": {},
   "outputs": [
    {
     "name": "stdout",
     "output_type": "stream",
     "text": [
      "Enter the string : billo bagge billeya da ki karegi\n",
      "The number of words in the given string are :  6\n"
     ]
    }
   ],
   "source": [
    "# Take a string as input and print number of words\n",
    "words = input('Enter the string : ').split()\n",
    "print('The number of words in the given string are : ', len(words))"
   ]
  },
  {
   "cell_type": "code",
   "execution_count": 34,
   "id": "79ddc627",
   "metadata": {},
   "outputs": [
    {
     "name": "stdout",
     "output_type": "stream",
     "text": [
      "Enter the details(amount duration rate) : 1000000 4.5 9.5\n",
      "The interest amount is :  427500.0\n"
     ]
    }
   ],
   "source": [
    "details = input('Enter the details(amount duration rate) : ').split()\n",
    "amount = int(details[0])\n",
    "duration = float(details[1])\n",
    "rate = float(details[2])\n",
    "             \n",
    "interest = amount * duration * rate / 100\n",
    "print('The interest amount is : ', interest)"
   ]
  }
 ],
 "metadata": {
  "kernelspec": {
   "display_name": "Python 3 (ipykernel)",
   "language": "python",
   "name": "python3"
  },
  "language_info": {
   "codemirror_mode": {
    "name": "ipython",
    "version": 3
   },
   "file_extension": ".py",
   "mimetype": "text/x-python",
   "name": "python",
   "nbconvert_exporter": "python",
   "pygments_lexer": "ipython3",
   "version": "3.12.7"
  }
 },
 "nbformat": 4,
 "nbformat_minor": 5
}

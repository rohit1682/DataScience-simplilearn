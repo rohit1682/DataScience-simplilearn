{
 "cells": [
  {
   "cell_type": "markdown",
   "id": "ea96c68a",
   "metadata": {},
   "source": [
    "<h2> Table of Comparison Operators </h2><p>  In the table below, a=3 and b=4.</p>\n",
    "\n",
    "<table class=\"table table-bordered\">\n",
    "<tr>\n",
    "<th style=\"width:10%\">Operator</th><th style=\"width:45%\">Description</th><th>Example</th>\n",
    "</tr>\n",
    "<tr>\n",
    "<td>==</td>\n",
    "<td>If the values of two operands are equal, then the condition becomes true.</td>\n",
    "<td> (a == b) is not true.</td>\n",
    "</tr>\n",
    "<tr>\n",
    "<td>!=</td>\n",
    "<td>If values of two operands are not equal, then condition becomes true.</td>\n",
    "<td>(a != b) is true</td>\n",
    "</tr>\n",
    "<tr>\n",
    "<td>&gt;</td>\n",
    "<td>If the value of left operand is greater than the value of right operand, then condition becomes true.</td>\n",
    "<td> (a &gt; b) is not true.</td>\n",
    "</tr>\n",
    "<tr>\n",
    "<td>&lt;</td>\n",
    "<td>If the value of left operand is less than the value of right operand, then condition becomes true.</td>\n",
    "<td> (a &lt; b) is true.</td>\n",
    "</tr>\n",
    "<tr>\n",
    "<td>&gt;=</td>\n",
    "<td>If the value of left operand is greater than or equal to the value of right operand, then condition becomes true.</td>\n",
    "<td> (a &gt;= b) is not true. </td>\n",
    "</tr>\n",
    "<tr>\n",
    "<td>&lt;=</td>\n",
    "<td>If the value of left operand is less than or equal to the value of right operand, then condition becomes true.</td>\n",
    "<td> (a &lt;= b) is true. </td>\n",
    "</tr>\n",
    "</table>"
   ]
  },
  {
   "cell_type": "markdown",
   "id": "a3699039",
   "metadata": {},
   "source": [
    "## Chaining of comparison operators"
   ]
  },
  {
   "cell_type": "code",
   "execution_count": 1,
   "id": "f05533e1",
   "metadata": {},
   "outputs": [],
   "source": [
    "a = 5\n",
    "b = 6\n",
    "c = 7"
   ]
  },
  {
   "cell_type": "code",
   "execution_count": 2,
   "id": "88f7be03",
   "metadata": {},
   "outputs": [
    {
     "data": {
      "text/plain": [
       "True"
      ]
     },
     "execution_count": 2,
     "metadata": {},
     "output_type": "execute_result"
    }
   ],
   "source": [
    "a < b"
   ]
  },
  {
   "cell_type": "code",
   "execution_count": 3,
   "id": "24e3a716",
   "metadata": {},
   "outputs": [
    {
     "data": {
      "text/plain": [
       "True"
      ]
     },
     "execution_count": 3,
     "metadata": {},
     "output_type": "execute_result"
    }
   ],
   "source": [
    "a < c"
   ]
  },
  {
   "cell_type": "markdown",
   "id": "e59575e2",
   "metadata": {},
   "source": [
    "## Logical Operators\n",
    "- **and** : True if all are True\n",
    "- **or** : True if at least one is True\n",
    "- **not** : Opposite"
   ]
  },
  {
   "cell_type": "code",
   "execution_count": 4,
   "id": "4829e48c",
   "metadata": {},
   "outputs": [
    {
     "data": {
      "text/plain": [
       "True"
      ]
     },
     "execution_count": 4,
     "metadata": {},
     "output_type": "execute_result"
    }
   ],
   "source": [
    "a < b and a < c"
   ]
  },
  {
   "cell_type": "code",
   "execution_count": 5,
   "id": "b1a22d0b",
   "metadata": {},
   "outputs": [
    {
     "data": {
      "text/plain": [
       "False"
      ]
     },
     "execution_count": 5,
     "metadata": {},
     "output_type": "execute_result"
    }
   ],
   "source": [
    "a < b and a > c"
   ]
  },
  {
   "cell_type": "code",
   "execution_count": 6,
   "id": "30930566",
   "metadata": {},
   "outputs": [
    {
     "data": {
      "text/plain": [
       "True"
      ]
     },
     "execution_count": 6,
     "metadata": {},
     "output_type": "execute_result"
    }
   ],
   "source": [
    "1 < 2 and 3 < 4 and 5 < 6            # True and True and True"
   ]
  },
  {
   "cell_type": "code",
   "execution_count": 7,
   "id": "135f9668",
   "metadata": {},
   "outputs": [
    {
     "data": {
      "text/plain": [
       "False"
      ]
     },
     "execution_count": 7,
     "metadata": {},
     "output_type": "execute_result"
    }
   ],
   "source": [
    "1 < 2 and 3 > 4 and 5 < 6           # True and False and True"
   ]
  },
  {
   "cell_type": "code",
   "execution_count": 8,
   "id": "b29b69c1",
   "metadata": {},
   "outputs": [
    {
     "data": {
      "text/plain": [
       "True"
      ]
     },
     "execution_count": 8,
     "metadata": {},
     "output_type": "execute_result"
    }
   ],
   "source": [
    "1 < 2 or 3 > 4 or 5 < 6            # True or False or True"
   ]
  },
  {
   "cell_type": "code",
   "execution_count": 9,
   "id": "39a78bad",
   "metadata": {},
   "outputs": [
    {
     "data": {
      "text/plain": [
       "True"
      ]
     },
     "execution_count": 9,
     "metadata": {},
     "output_type": "execute_result"
    }
   ],
   "source": [
    "1 < 2 or 3 > 4 or 5 > 6            # True or False or True"
   ]
  },
  {
   "cell_type": "code",
   "execution_count": 10,
   "id": "ca9e5007",
   "metadata": {},
   "outputs": [
    {
     "data": {
      "text/plain": [
       "False"
      ]
     },
     "execution_count": 10,
     "metadata": {},
     "output_type": "execute_result"
    }
   ],
   "source": [
    "1 > 2 or 3 > 4 or 5 > 6            # False or False or False"
   ]
  },
  {
   "cell_type": "code",
   "execution_count": 11,
   "id": "7ec41dc8",
   "metadata": {},
   "outputs": [
    {
     "data": {
      "text/plain": [
       "False"
      ]
     },
     "execution_count": 11,
     "metadata": {},
     "output_type": "execute_result"
    }
   ],
   "source": [
    "not 1 < 2"
   ]
  },
  {
   "cell_type": "code",
   "execution_count": 12,
   "id": "10e98294",
   "metadata": {},
   "outputs": [
    {
     "data": {
      "text/plain": [
       "False"
      ]
     },
     "execution_count": 12,
     "metadata": {},
     "output_type": "execute_result"
    }
   ],
   "source": [
    "not True"
   ]
  },
  {
   "cell_type": "code",
   "execution_count": 13,
   "id": "3f4c806e",
   "metadata": {},
   "outputs": [
    {
     "data": {
      "text/plain": [
       "True"
      ]
     },
     "execution_count": 13,
     "metadata": {},
     "output_type": "execute_result"
    }
   ],
   "source": [
    "not False"
   ]
  },
  {
   "cell_type": "code",
   "execution_count": 15,
   "id": "a0fea559",
   "metadata": {},
   "outputs": [
    {
     "data": {
      "text/plain": [
       "True"
      ]
     },
     "execution_count": 15,
     "metadata": {},
     "output_type": "execute_result"
    }
   ],
   "source": [
    "1 > 2 and 3 > 4 or 5 < 6\n",
    "# False and False or True\n",
    "# False or True"
   ]
  },
  {
   "cell_type": "code",
   "execution_count": 18,
   "id": "ae044809",
   "metadata": {},
   "outputs": [
    {
     "data": {
      "text/plain": [
       "False"
      ]
     },
     "execution_count": 18,
     "metadata": {},
     "output_type": "execute_result"
    }
   ],
   "source": [
    "1 > 2 or 3 < 5 and 6 > 8 and 9 > 7 or 6 < 5 and 6 > 4"
   ]
  },
  {
   "cell_type": "code",
   "execution_count": 21,
   "id": "b202bf0d",
   "metadata": {},
   "outputs": [
    {
     "name": "stdout",
     "output_type": "stream",
     "text": [
      "Enter the username : Utkarsh\n",
      "Enter the password : 12345\n"
     ]
    },
    {
     "data": {
      "text/plain": [
       "False"
      ]
     },
     "execution_count": 21,
     "metadata": {},
     "output_type": "execute_result"
    }
   ],
   "source": [
    "# Correct Username and Password (Utkarsh 1234)\n",
    "username = input('Enter the username : ')\n",
    "password = int(input('Enter the password : '))\n",
    "\n",
    "username == 'Utkarsh' and password == 1234"
   ]
  },
  {
   "cell_type": "markdown",
   "id": "c8ba5743",
   "metadata": {},
   "source": [
    "---\n",
    "---\n",
    "# Conditional Statements\n",
    "- if\n",
    "- if else\n",
    "- if elif else\n",
    "- nested if else"
   ]
  },
  {
   "cell_type": "code",
   "execution_count": 22,
   "id": "6efbd1b2",
   "metadata": {},
   "outputs": [
    {
     "name": "stdout",
     "output_type": "stream",
     "text": [
      "Enter the marks : 90\n",
      "The student has passed the exam\n"
     ]
    }
   ],
   "source": [
    "# Take marks of a student out of 100 as input and print pass if marks are above 50\n",
    "marks = int(input('Enter the marks : '))\n",
    "\n",
    "if marks > 50:\n",
    "    print('The student has passed the exam')"
   ]
  },
  {
   "cell_type": "code",
   "execution_count": 23,
   "id": "901b8c84",
   "metadata": {},
   "outputs": [
    {
     "name": "stdout",
     "output_type": "stream",
     "text": [
      "Enter the marks : 40\n"
     ]
    }
   ],
   "source": [
    "marks = int(input('Enter the marks : '))\n",
    "\n",
    "if marks > 50:\n",
    "    print('The student has passed the exam')"
   ]
  },
  {
   "cell_type": "code",
   "execution_count": 24,
   "id": "34b7a3e2",
   "metadata": {},
   "outputs": [
    {
     "name": "stdout",
     "output_type": "stream",
     "text": [
      "Inside if block\n",
      "Hello everyone\n",
      "Good evening\n",
      "Outside if block\n"
     ]
    }
   ],
   "source": [
    "# Indentation\n",
    "if True:\n",
    "    print('Inside if block')\n",
    "    print('Hello everyone')\n",
    "    print('Good evening')\n",
    "print('Outside if block')"
   ]
  },
  {
   "cell_type": "code",
   "execution_count": 27,
   "id": "430b0cf1",
   "metadata": {},
   "outputs": [
    {
     "name": "stdout",
     "output_type": "stream",
     "text": [
      "Outside if block\n"
     ]
    }
   ],
   "source": [
    "if False:\n",
    "    print('Inside if block')\n",
    "    print('Hello everyone')\n",
    "    print('Good evening')\n",
    "print('Outside if block')"
   ]
  },
  {
   "cell_type": "code",
   "execution_count": 30,
   "id": "fd49bdf3",
   "metadata": {},
   "outputs": [
    {
     "name": "stdout",
     "output_type": "stream",
     "text": [
      "Enter the marks : 90\n",
      "The student has passed the exam\n"
     ]
    }
   ],
   "source": [
    "# Take marks of a student asd input , print passed if marks are above 50 else print failed\n",
    "marks = int(input('Enter the marks : '))\n",
    "\n",
    "if marks > 50:\n",
    "    print('The student has passed the exam')\n",
    "else:\n",
    "    print('The student has failed the exam')"
   ]
  },
  {
   "cell_type": "code",
   "execution_count": 31,
   "id": "d74085a2",
   "metadata": {},
   "outputs": [
    {
     "name": "stdout",
     "output_type": "stream",
     "text": [
      "Enter the marks : 40\n",
      "The student has failed the exam\n"
     ]
    }
   ],
   "source": [
    "marks = int(input('Enter the marks : '))\n",
    "\n",
    "if marks > 50:\n",
    "    print('The student has passed the exam')\n",
    "else:\n",
    "    print('The student has failed the exam')"
   ]
  },
  {
   "cell_type": "code",
   "execution_count": 32,
   "id": "b75d95ba",
   "metadata": {},
   "outputs": [
    {
     "name": "stdout",
     "output_type": "stream",
     "text": [
      "Enter the username : Utkarsh\n",
      "Enter the password : 1234\n",
      "Access Granted\n"
     ]
    }
   ],
   "source": [
    "# Assume correct username and password to be Utkarsh and 1234\n",
    "# Take username and password as input, print access granted if they are correct else access denied\n",
    "\n",
    "username = input('Enter the username : ')\n",
    "password = int(input('Enter the password : '))\n",
    "\n",
    "if username == 'Utkarsh' and password == 1234:\n",
    "    print('Access Granted')\n",
    "else:\n",
    "    print('Access Denied')"
   ]
  },
  {
   "cell_type": "code",
   "execution_count": 34,
   "id": "b637b43f",
   "metadata": {},
   "outputs": [
    {
     "name": "stdout",
     "output_type": "stream",
     "text": [
      "Enter the username : Utkarsh\n",
      "Enter the password : 12345\n",
      "Access Denied\n"
     ]
    }
   ],
   "source": [
    "username = input('Enter the username : ')\n",
    "password = int(input('Enter the password : '))\n",
    "\n",
    "if username == 'Utkarsh' and password == 1234:\n",
    "    print('Access Granted')\n",
    "else:\n",
    "    print('Access Denied')"
   ]
  },
  {
   "cell_type": "code",
   "execution_count": 36,
   "id": "e0423da9",
   "metadata": {},
   "outputs": [
    {
     "name": "stdout",
     "output_type": "stream",
     "text": [
      "Enter marks scored by Amit : 80\n",
      "Enter marks scored by Aman : 90\n",
      "Aman has scored higher marks :  90\n"
     ]
    }
   ],
   "source": [
    "# Take scores of two students out of 100 and print the high scorer\n",
    "amit = int(input('Enter marks scored by Amit : '))\n",
    "aman = int(input('Enter marks scored by Aman : '))\n",
    "\n",
    "if amit > aman:\n",
    "    print('Amit has scored higher marks : ', amit)\n",
    "else:\n",
    "    print('Aman has scored higher marks : ', aman)"
   ]
  },
  {
   "cell_type": "code",
   "execution_count": 39,
   "id": "d55314fa",
   "metadata": {},
   "outputs": [
    {
     "name": "stdout",
     "output_type": "stream",
     "text": [
      "Enter marks scored by Amit : 90\n",
      "Enter marks scored by Aman : 90\n",
      "Aman and Amit have both scored equal marks :  90\n"
     ]
    }
   ],
   "source": [
    "# Take scores of two students out of 100 and print the high scorer\n",
    "amit = int(input('Enter marks scored by Amit : '))\n",
    "aman = int(input('Enter marks scored by Aman : '))\n",
    "\n",
    "if amit > aman:\n",
    "    print('Amit has scored higher marks : ', amit)\n",
    "elif aman > amit:\n",
    "    print('Aman has scored higher marks : ', aman)\n",
    "else:\n",
    "    print('Aman and Amit have both scored equal marks : ', aman)"
   ]
  },
  {
   "cell_type": "code",
   "execution_count": 43,
   "id": "8756e83d",
   "metadata": {},
   "outputs": [
    {
     "name": "stdout",
     "output_type": "stream",
     "text": [
      "Who is this : Utkarsh\n",
      "Go back , You are not invited\n"
     ]
    }
   ],
   "source": [
    "name = input('Who is this : ')\n",
    "\n",
    "if name == 'Surajit':\n",
    "    print('Welcome Surajit')\n",
    "elif name == 'Vaibhav':\n",
    "    print('Welcome Vaibhav')\n",
    "elif name == 'Sunny':\n",
    "    print('Welcome Sunny')\n",
    "elif name == 'Akansha':\n",
    "    print('Welcome Akansha')\n",
    "else:\n",
    "    print('Go back , You are not invited')"
   ]
  },
  {
   "cell_type": "code",
   "execution_count": 45,
   "id": "22249109",
   "metadata": {},
   "outputs": [
    {
     "name": "stdout",
     "output_type": "stream",
     "text": [
      "Enetr the number : 7\n",
      "The number is odd :  7\n"
     ]
    }
   ],
   "source": [
    "# Take a number as input and check if it is even or odd\n",
    "num = int(input('Enetr the number : '))\n",
    "if num % 2 == 0:\n",
    "    print('The number is even : ', num)\n",
    "else:\n",
    "    print('The number is odd : ', num)"
   ]
  },
  {
   "cell_type": "code",
   "execution_count": 49,
   "id": "a2187c03",
   "metadata": {},
   "outputs": [
    {
     "name": "stdout",
     "output_type": "stream",
     "text": [
      "Enter the number 1 : 10\n",
      "Enter the number 2 : 5\n",
      "Enter the operator(+,-,/,*) : /\n",
      "The quotient is :  2.0\n"
     ]
    }
   ],
   "source": [
    "# Take two numbers and an operator(+,-,/,*) as input and perform the operation as per the operator\n",
    "num1 = int(input('Enter the number 1 : '))\n",
    "num2 = int(input('Enter the number 2 : '))\n",
    "op = input('Enter the operator(+,-,/,*) : ')\n",
    "\n",
    "if op == '+':\n",
    "    print('The sum is : ', num1 + num2)\n",
    "elif op == '-':\n",
    "    print('The differece is : ', num1 - num2)\n",
    "elif op == '*':\n",
    "    print('The product is : ', num1 * num2)\n",
    "elif op == '/':\n",
    "    print('The quotient is : ', num1 / num2)\n",
    "else:\n",
    "    print('Invalid operator')"
   ]
  },
  {
   "cell_type": "code",
   "execution_count": 1,
   "id": "76c2fdf4",
   "metadata": {},
   "outputs": [
    {
     "name": "stdout",
     "output_type": "stream",
     "text": [
      "Enter marks of Aman in 5 subjects(Separated by spaces) : 80 84 86 94 92\n",
      "Enter marks of Amit in 5 subjects(separated by spaces) : 90 82 94 98 81\n",
      "Total marks scored by aman :  436\n",
      "Total marks scored by amit :  445\n",
      "Amit has scored higher than Aman\n"
     ]
    }
   ],
   "source": [
    "# Take marks of two students in 5 subjects (as a list) and find the highest scorer\n",
    "marks_aman = list(map(int, input('Enter marks of Aman in 5 subjects(Separated by spaces) : ').split()))\n",
    "marks_amit = list(map(int, input('Enter marks of Amit in 5 subjects(separated by spaces) : ').split()))\n",
    "\n",
    "aman_total = sum(marks_aman)\n",
    "amit_total = sum(marks_amit)\n",
    "\n",
    "print('Total marks scored by aman : ', aman_total)\n",
    "print('Total marks scored by amit : ', amit_total)\n",
    "\n",
    "if aman_total > amit_total:\n",
    "    print('Aman has scored higher than Amit')\n",
    "elif aman_total < amit_total:\n",
    "    print('Amit has scored higher than Aman')\n",
    "else:\n",
    "    print('Both Aman and Amit have the same score')"
   ]
  },
  {
   "cell_type": "code",
   "execution_count": 3,
   "id": "ab9200f0",
   "metadata": {},
   "outputs": [
    {
     "name": "stdout",
     "output_type": "stream",
     "text": [
      "Enter marks scored by aman : 50\n",
      "Enter marks scored by amit : 50\n",
      "Enter marks scored by anul : 10\n",
      "Amit has scored highest marks :  50\n"
     ]
    }
   ],
   "source": [
    "# Take marks of three students as input and find the highest scorer\n",
    "\n",
    "aman = int(input('Enter marks scored by aman : '))\n",
    "amit = int(input('Enter marks scored by amit : '))\n",
    "anil = int(input('Enter marks scored by anul : '))\n",
    "\n",
    "if aman > amit and aman > anil:\n",
    "    print('Aman has scored highest marks : ', aman)\n",
    "elif amit > anil:\n",
    "    print('Amit has scored highest marks : ', amit)\n",
    "else:\n",
    "    print('Anil has scored highest marks : ', anil)"
   ]
  },
  {
   "cell_type": "code",
   "execution_count": 4,
   "id": "da1029cf",
   "metadata": {},
   "outputs": [
    {
     "name": "stdout",
     "output_type": "stream",
     "text": [
      "Enter the username : Tom\n",
      "Enter the password : 1234\n",
      "Access Granted\n"
     ]
    }
   ],
   "source": [
    "# Given a dictionary containing valid usernames and passwords take username and password as input from the user\n",
    "# print access granted if credentials are correct else print access denied\n",
    "database = {'Tom' : 1234, 'Bob' : 3456, 'John' : 5678}\n",
    "\n",
    "username = input('Enter the username : ')\n",
    "password = int(input('Enter the password : '))\n",
    "\n",
    "if username == 'Tom' and password == 1234:\n",
    "    print('Access Granted')\n",
    "elif username == 'Bob' and password == 3456:\n",
    "    print('Access Granted')\n",
    "elif username == 'John' and password == 5678:\n",
    "    print('Access Granted')\n",
    "else:\n",
    "    print('Access Denied')"
   ]
  },
  {
   "cell_type": "code",
   "execution_count": 9,
   "id": "edad0cca",
   "metadata": {},
   "outputs": [
    {
     "name": "stdout",
     "output_type": "stream",
     "text": [
      "Enter the username : Larry\n",
      "Enter the password : 2345\n",
      "Access Denied\n"
     ]
    }
   ],
   "source": [
    "data = {'Tom' : 1234, 'Bob' : 3456, 'John' : 5678, 'Larry' : 6789, 'Harry' : 7890}\n",
    "\n",
    "username = input('Enter the username : ')\n",
    "password = int(input('Enter the password : '))\n",
    "\n",
    "if username in data.keys() and password == data[username]:\n",
    "    print('Access Granted')\n",
    "else:\n",
    "    print('Access Denied')"
   ]
  },
  {
   "cell_type": "code",
   "execution_count": 13,
   "id": "917474f7",
   "metadata": {},
   "outputs": [
    {
     "name": "stdout",
     "output_type": "stream",
     "text": [
      "Enter the username : Tom\n",
      "Enter the password : 1234\n",
      "Access Granted\n"
     ]
    }
   ],
   "source": [
    "# nested if else\n",
    "data = {'Tom' : 1234, 'Bob' : 3456, 'John' : 5678, 'Larry' : 6789, 'Harry' : 7890}\n",
    "\n",
    "username = input('Enter the username : ')\n",
    "\n",
    "if username in data.keys():\n",
    "    password = int(input('Enter the password : '))\n",
    "    if password == data[username]:\n",
    "        print('Access Granted')\n",
    "else:\n",
    "    print('Access Denied')"
   ]
  },
  {
   "cell_type": "code",
   "execution_count": 16,
   "id": "d373305f",
   "metadata": {},
   "outputs": [
    {
     "name": "stdout",
     "output_type": "stream",
     "text": [
      "Enter the username : Tom\n",
      "Enter the password : 123456\n",
      "Incorrect Password\n"
     ]
    }
   ],
   "source": [
    "# Consider the question above, print incorrect username if username is incorrect and incorrect password if password\n",
    "data = {'Tom' : 1234, 'Bob' : 3456, 'John' : 5678, 'Larry' : 6789, 'Harry' : 7890}\n",
    "\n",
    "username = input('Enter the username : ')\n",
    "\n",
    "if username in data.keys():\n",
    "    password = int(input('Enter the password : '))\n",
    "    if password == data[username]:\n",
    "        print('Access Granted')\n",
    "    else:\n",
    "        print('Incorrect Password')\n",
    "else:\n",
    "    print('Incorrect Username')"
   ]
  },
  {
   "cell_type": "code",
   "execution_count": 3,
   "id": "803b73c9",
   "metadata": {},
   "outputs": [
    {
     "name": "stdout",
     "output_type": "stream",
     "text": [
      "Enter the three numbers(separated by space) : 6 4 3\n",
      "6 is largest\n"
     ]
    }
   ],
   "source": [
    "# Find largest among three numbers using nested if else\n",
    "a,b,c = list(map(int, input('Enter the three numbers(separated by space) : ').split()))\n",
    "\n",
    "if a > b:\n",
    "    if a > c:\n",
    "        print(a, 'is largest')\n",
    "    else:\n",
    "        print(c, 'is largest')\n",
    "else:\n",
    "    if b > c:\n",
    "        print(b, 'is largest')\n",
    "    else:\n",
    "        print(c, 'is largest')"
   ]
  },
  {
   "cell_type": "code",
   "execution_count": 6,
   "id": "854f27b1",
   "metadata": {},
   "outputs": [
    {
     "name": "stdout",
     "output_type": "stream",
     "text": [
      "Enter the three numbers(separated by space) : 30 20 10\n",
      "20 is second largest\n"
     ]
    }
   ],
   "source": [
    "# Find second largest among three numbers\n",
    "a,b,c = list(map(int, input('Enter the three numbers(separated by space) : ').split()))\n",
    "\n",
    "if a > b and a > c:\n",
    "    if b > c:\n",
    "        print(b, 'is second largest')\n",
    "    else:\n",
    "        print(c, 'is second largest')\n",
    "elif b > c:\n",
    "    if a > c:\n",
    "        print(a, 'is second largest')\n",
    "    else:\n",
    "        print(c, 'is second largest')\n",
    "else:\n",
    "    if a > b:\n",
    "        print(a, 'is second largest')\n",
    "    else:\n",
    "        print(b, 'is second largest')"
   ]
  },
  {
   "cell_type": "code",
   "execution_count": null,
   "id": "0e94cff2",
   "metadata": {},
   "outputs": [],
   "source": []
  }
 ],
 "metadata": {
  "kernelspec": {
   "display_name": "Python 3 (ipykernel)",
   "language": "python",
   "name": "python3"
  },
  "language_info": {
   "codemirror_mode": {
    "name": "ipython",
    "version": 3
   },
   "file_extension": ".py",
   "mimetype": "text/x-python",
   "name": "python",
   "nbconvert_exporter": "python",
   "pygments_lexer": "ipython3",
   "version": "3.12.7"
  }
 },
 "nbformat": 4,
 "nbformat_minor": 5
}

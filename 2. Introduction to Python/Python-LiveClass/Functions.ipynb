{
 "cells": [
  {
   "cell_type": "markdown",
   "id": "81f3e673",
   "metadata": {},
   "source": [
    "# Functions\n",
    "- What is a function?\n",
    "- Advantages and Use of functions\n",
    "- Inbuilt and User defined functions\n",
    "- How to create a function\n",
    "- Parameters and Arguments\n",
    "- Return statement\n",
    "- Default parameters\n",
    "- Positional and Keyword arguments\n",
    "- Args and Kwargs"
   ]
  },
  {
   "cell_type": "markdown",
   "id": "1e462d1c",
   "metadata": {},
   "source": [
    "## What is a function?\n",
    "- Function is a group of statements that performs a specific task.\n",
    "- A function is a collection of statements grouped together that performs an operation. When you call the *random.randint(a, b)* function, for example, the system actually executes the statements in the function and returns the result.\n",
    "\n",
    "## Advantages of Functions:\n",
    "\n",
    "- Makes your code more organized and manageable.\n",
    "- Ensures resuability avoids code redundency.\n",
    "\n",
    "## Types of Functions\n",
    "- Inbuilt Functions\n",
    "- User Defined Functions"
   ]
  },
  {
   "cell_type": "code",
   "execution_count": 12,
   "id": "2d9e581e",
   "metadata": {},
   "outputs": [],
   "source": [
    "'''\n",
    "Function Syntax : \n",
    "def function_name(argument1, argument2......):\n",
    "    statement1\n",
    "    statement2\n",
    "    statement3\n",
    "    ..........\n",
    "    return result\n",
    "'''\n",
    "\n",
    "# Function without parameters\n",
    "def hello():\n",
    "    print('Hello')\n",
    "    print('Good evening')\n",
    "    print('Welcome to the session')"
   ]
  },
  {
   "cell_type": "code",
   "execution_count": 13,
   "id": "9547a5bd",
   "metadata": {},
   "outputs": [
    {
     "name": "stdout",
     "output_type": "stream",
     "text": [
      "Hello\n",
      "Good evening\n",
      "Welcome to the session\n"
     ]
    }
   ],
   "source": [
    "# Calling a function\n",
    "hello()"
   ]
  },
  {
   "cell_type": "code",
   "execution_count": 15,
   "id": "7e5e74f5",
   "metadata": {},
   "outputs": [],
   "source": [
    "# Function with parameters\n",
    "def greet(name):\n",
    "    print('Hello', name)\n",
    "    print('How are you?')"
   ]
  },
  {
   "cell_type": "code",
   "execution_count": 16,
   "id": "754bc3b0",
   "metadata": {},
   "outputs": [
    {
     "name": "stdout",
     "output_type": "stream",
     "text": [
      "Hello Utkarsh\n",
      "How are you?\n"
     ]
    }
   ],
   "source": [
    "greet('Utkarsh')"
   ]
  },
  {
   "cell_type": "code",
   "execution_count": 9,
   "id": "227e81c4",
   "metadata": {},
   "outputs": [],
   "source": [
    "# Function with parameters which returns a result\n",
    "def add(a,b):\n",
    "    result = a + b\n",
    "    return result"
   ]
  },
  {
   "cell_type": "code",
   "execution_count": 18,
   "id": "377003cd",
   "metadata": {},
   "outputs": [
    {
     "data": {
      "text/plain": [
       "120"
      ]
     },
     "execution_count": 18,
     "metadata": {},
     "output_type": "execute_result"
    }
   ],
   "source": [
    "result = add(100,20)\n",
    "result"
   ]
  },
  {
   "cell_type": "code",
   "execution_count": 20,
   "id": "2d3a4e7c",
   "metadata": {},
   "outputs": [
    {
     "name": "stdout",
     "output_type": "stream",
     "text": [
      "Enter the number : 10\n",
      "The number is even :  10\n",
      "Enter the number : 11\n",
      "The number is odd :  11\n",
      "Enter the number : 5\n",
      "The number is odd :  5\n"
     ]
    }
   ],
   "source": [
    "# Without function\n",
    "num = int(input('Enter the number : '))\n",
    "if num % 2 == 0:\n",
    "    print('The number is even : ', num)\n",
    "else:\n",
    "    print('The number is odd : ', num)\n",
    "    \n",
    "num = int(input('Enter the number : '))\n",
    "if num % 2 == 0:\n",
    "    print('The number is even : ', num)\n",
    "else:\n",
    "    print('The number is odd : ', num)\n",
    "    \n",
    "num = int(input('Enter the number : '))\n",
    "if num % 2 == 0:\n",
    "    print('The number is even : ', num)\n",
    "else:\n",
    "    print('The number is odd : ', num)"
   ]
  },
  {
   "cell_type": "code",
   "execution_count": 21,
   "id": "c86e4507",
   "metadata": {},
   "outputs": [],
   "source": [
    "def even_odd(num):\n",
    "    if num % 2 == 0:\n",
    "        print('The number is even : ', num)\n",
    "    else:\n",
    "        print('The number is odd : ', num)    "
   ]
  },
  {
   "cell_type": "code",
   "execution_count": 22,
   "id": "a281c2f0",
   "metadata": {},
   "outputs": [
    {
     "name": "stdout",
     "output_type": "stream",
     "text": [
      "Enter the number : 10\n",
      "The number is even :  10\n",
      "Enter the number : 11\n",
      "The number is odd :  11\n",
      "Enter the number : 5\n",
      "The number is odd :  5\n"
     ]
    }
   ],
   "source": [
    "# With functions\n",
    "num = int(input('Enter the number : '))\n",
    "even_odd(num)\n",
    "num = int(input('Enter the number : '))\n",
    "even_odd(num)\n",
    "num = int(input('Enter the number : '))\n",
    "even_odd(num)"
   ]
  },
  {
   "cell_type": "code",
   "execution_count": 23,
   "id": "5010c1b8",
   "metadata": {},
   "outputs": [],
   "source": [
    "# Create a function that takes marks of two students and prints the high scorer\n",
    "def high_score(stud1, stud2):\n",
    "    if stud1 > stud2:\n",
    "        print('Student 1 has scored higher : ', stud1)\n",
    "    else:\n",
    "        print('Student 2 has scored higher : ', stud2)"
   ]
  },
  {
   "cell_type": "code",
   "execution_count": 25,
   "id": "ec1a00d3",
   "metadata": {},
   "outputs": [
    {
     "name": "stdout",
     "output_type": "stream",
     "text": [
      "Enter the marks of two students : 90 95\n",
      "Student 2 has scored higher :  95\n"
     ]
    }
   ],
   "source": [
    "student1 = int(input('Enter the marks of student1 : '))\n",
    "student2 = int(input('Enter the marks of student2 : '))\n",
    "high_score(student1, student2)"
   ]
  },
  {
   "cell_type": "code",
   "execution_count": 26,
   "id": "3e64e87a",
   "metadata": {},
   "outputs": [],
   "source": [
    "# Create a function that takes principal amount, rate, duration and returns the simple interest \n",
    "def simple_interest(p_amount, rate, years):\n",
    "    interest = (p_amount*rate*years) / 100\n",
    "    return interest"
   ]
  },
  {
   "cell_type": "code",
   "execution_count": 28,
   "id": "2f4d21d7",
   "metadata": {},
   "outputs": [
    {
     "data": {
      "text/plain": [
       "50000.0"
      ]
     },
     "execution_count": 28,
     "metadata": {},
     "output_type": "execute_result"
    }
   ],
   "source": [
    "interest = simple_interest(100000,10,5)\n",
    "interest"
   ]
  },
  {
   "cell_type": "code",
   "execution_count": 29,
   "id": "3b500198",
   "metadata": {},
   "outputs": [
    {
     "data": {
      "text/plain": [
       "140000.0"
      ]
     },
     "execution_count": 29,
     "metadata": {},
     "output_type": "execute_result"
    }
   ],
   "source": [
    "interest = simple_interest(200000,10,7)\n",
    "interest"
   ]
  },
  {
   "cell_type": "code",
   "execution_count": 30,
   "id": "031f2962",
   "metadata": {},
   "outputs": [
    {
     "data": {
      "text/plain": [
       "142500.0"
      ]
     },
     "execution_count": 30,
     "metadata": {},
     "output_type": "execute_result"
    }
   ],
   "source": [
    "interest = simple_interest(300000,5,9.5)\n",
    "interest"
   ]
  },
  {
   "cell_type": "code",
   "execution_count": 2,
   "id": "258dc69b",
   "metadata": {},
   "outputs": [
    {
     "name": "stdout",
     "output_type": "stream",
     "text": [
      "Enter marks in subject 1 : 90\n",
      "Enter marks in subject 2 : 96\n",
      "Enter marks in subject 3 : 92\n",
      "The percentage score is :  92.66666666666666\n"
     ]
    }
   ],
   "source": [
    "# Write a program which takes marks of a student(out of 100) in three subjects and returns the percentage score\n",
    "sub1 = int(input('Enter marks in subject 1 : '))\n",
    "sub2 = int(input('Enter marks in subject 2 : '))\n",
    "sub3 = int(input('Enter marks in subject 3 : '))\n",
    "\n",
    "percentage = (sub1 + sub2 + sub3) / 300 * 100\n",
    "print('The percentage score is : ', percentage)"
   ]
  },
  {
   "cell_type": "code",
   "execution_count": 3,
   "id": "c2154b91",
   "metadata": {},
   "outputs": [],
   "source": [
    "# Create a function which takes marks of a student(out of 100) in three subjects and returns the percentage score\n",
    "def calc_percentage(sub1, sub2, sub3):\n",
    "    percentage = (sub1 + sub2 + sub3) / 300 * 100\n",
    "    return percentage"
   ]
  },
  {
   "cell_type": "code",
   "execution_count": 8,
   "id": "a4242a66",
   "metadata": {},
   "outputs": [
    {
     "data": {
      "text/plain": [
       "85.0"
      ]
     },
     "execution_count": 8,
     "metadata": {},
     "output_type": "execute_result"
    }
   ],
   "source": [
    "calc_percentage(90,80,85)"
   ]
  },
  {
   "cell_type": "code",
   "execution_count": 13,
   "id": "64adb88f",
   "metadata": {},
   "outputs": [],
   "source": [
    "# Create a function which takes three numbers and prints the largest\n",
    "def largest3(a,b,c):\n",
    "    if a > b and a > c:\n",
    "        print(a, 'is the largest number')\n",
    "    elif b > c:\n",
    "        print(b, 'is the largest number')\n",
    "    else:\n",
    "        print(c, 'is the largest number')"
   ]
  },
  {
   "cell_type": "code",
   "execution_count": 16,
   "id": "2d40f6d7",
   "metadata": {},
   "outputs": [
    {
     "name": "stdout",
     "output_type": "stream",
     "text": [
      "70 is the largest number\n"
     ]
    }
   ],
   "source": [
    "largest3(60,70,50)"
   ]
  },
  {
   "cell_type": "code",
   "execution_count": 28,
   "id": "a111cca1",
   "metadata": {},
   "outputs": [],
   "source": [
    "# Create a function which takes three numbers and return the largest\n",
    "def largest3(a,b,c):\n",
    "    if a > b and a > c:\n",
    "        return a\n",
    "    elif b > c:\n",
    "        return b\n",
    "    else:\n",
    "        return c"
   ]
  },
  {
   "cell_type": "code",
   "execution_count": 29,
   "id": "bc646d17",
   "metadata": {},
   "outputs": [
    {
     "data": {
      "text/plain": [
       "40"
      ]
     },
     "execution_count": 29,
     "metadata": {},
     "output_type": "execute_result"
    }
   ],
   "source": [
    "largest3(20,40,30)"
   ]
  },
  {
   "cell_type": "code",
   "execution_count": 26,
   "id": "b296c0fe",
   "metadata": {},
   "outputs": [],
   "source": [
    "# Create a function that takes a list and a number and returns True if the number is present in the list otherwise False\n",
    "def check_num(numbers, x):\n",
    "    for i in numbers:\n",
    "        if i == x:\n",
    "            return True\n",
    "    else:\n",
    "        return False"
   ]
  },
  {
   "cell_type": "code",
   "execution_count": 27,
   "id": "175e8f5d",
   "metadata": {},
   "outputs": [
    {
     "data": {
      "text/plain": [
       "True"
      ]
     },
     "execution_count": 27,
     "metadata": {},
     "output_type": "execute_result"
    }
   ],
   "source": [
    "check_num([1,2,3,4,5,6,7,8,9], 8)"
   ]
  },
  {
   "cell_type": "code",
   "execution_count": 32,
   "id": "723d3f1a",
   "metadata": {},
   "outputs": [],
   "source": [
    "# Create a function which takes a number and prints prime if it is prime and not prime otherwise\n",
    "def check_prime(num):\n",
    "    if num < 2:\n",
    "        print(num, 'is not a prime number')\n",
    "    else:\n",
    "        for i in range(2, int(num ** 0.5) + 1):\n",
    "            if num % i == 0:\n",
    "                print(num, 'is not a prime number')\n",
    "                break\n",
    "        else:\n",
    "            print(num, 'is a prime number')"
   ]
  },
  {
   "cell_type": "code",
   "execution_count": 37,
   "id": "e12efdd9",
   "metadata": {},
   "outputs": [
    {
     "data": {
      "text/plain": [
       "True"
      ]
     },
     "execution_count": 37,
     "metadata": {},
     "output_type": "execute_result"
    }
   ],
   "source": [
    "check_prime(17)"
   ]
  },
  {
   "cell_type": "code",
   "execution_count": 1,
   "id": "59debbf9",
   "metadata": {},
   "outputs": [
    {
     "data": {
      "text/plain": [
       "True"
      ]
     },
     "execution_count": 1,
     "metadata": {},
     "output_type": "execute_result"
    }
   ],
   "source": [
    "# Create a function which takes a number and returns True if it is prime and false otherwise\n",
    "def check_prime(num):\n",
    "    if num < 2:\n",
    "        return False\n",
    "    else:\n",
    "        for i in range(2, int(num ** 0.5) + 1):\n",
    "            if num % i == 0:\n",
    "                return False\n",
    "        else:\n",
    "            return True\n",
    "check_prime(13)"
   ]
  },
  {
   "cell_type": "code",
   "execution_count": 2,
   "id": "1bdc7591",
   "metadata": {},
   "outputs": [
    {
     "data": {
      "text/plain": [
       "{1: 3, 2: 7, 3: 3}"
      ]
     },
     "execution_count": 2,
     "metadata": {},
     "output_type": "execute_result"
    }
   ],
   "source": [
    "# Create a function that takes a list and returns a dictionary having elements as keys and their frequency as values\n",
    "def calc_freq(l):\n",
    "    freq = {}\n",
    "    for i in l:\n",
    "        if i in freq.keys():\n",
    "            freq[i] += 1\n",
    "        else:\n",
    "            freq[i] = 1  \n",
    "    return freq\n",
    "\n",
    "calc_freq([1,2,3,2,1,2,3,2,1,2,2,3,2])"
   ]
  },
  {
   "cell_type": "markdown",
   "id": "c3751054",
   "metadata": {},
   "source": [
    "---\n",
    "# Positional Arguments and Keyword Arguments"
   ]
  },
  {
   "cell_type": "code",
   "execution_count": 38,
   "id": "18976b1b",
   "metadata": {},
   "outputs": [],
   "source": [
    "def details(name, age, city):\n",
    "    print('The details are : ')\n",
    "    print('Name : ', name)\n",
    "    print('Age  : ', age)\n",
    "    print('City : ', city)"
   ]
  },
  {
   "cell_type": "code",
   "execution_count": 39,
   "id": "d755a19a",
   "metadata": {},
   "outputs": [
    {
     "name": "stdout",
     "output_type": "stream",
     "text": [
      "The details are : \n",
      "Name :  Arun\n",
      "Age  :  45\n",
      "City :  Kolkata\n"
     ]
    }
   ],
   "source": [
    "details('Arun', 45, 'Kolkata')                                   # Positional Arguments"
   ]
  },
  {
   "cell_type": "code",
   "execution_count": 40,
   "id": "a1c53c54",
   "metadata": {},
   "outputs": [
    {
     "name": "stdout",
     "output_type": "stream",
     "text": [
      "The details are : \n",
      "Name :  Arun\n",
      "Age  :  45\n",
      "City :  Kolkata\n"
     ]
    }
   ],
   "source": [
    "details(name = 'Arun', age = 45, city = 'Kolkata')              # Keyword arguments"
   ]
  },
  {
   "cell_type": "code",
   "execution_count": 41,
   "id": "5c71e9f1",
   "metadata": {},
   "outputs": [
    {
     "name": "stdout",
     "output_type": "stream",
     "text": [
      "The details are : \n",
      "Name :  Arun\n",
      "Age  :  45\n",
      "City :  Kolkata\n"
     ]
    }
   ],
   "source": [
    "details(age = 45, city = 'Kolkata', name = 'Arun')"
   ]
  },
  {
   "cell_type": "code",
   "execution_count": 42,
   "id": "a4fca9b7",
   "metadata": {},
   "outputs": [
    {
     "name": "stdout",
     "output_type": "stream",
     "text": [
      "The details are : \n",
      "Name :  45\n",
      "Age  :  Kolkata\n",
      "City :  Arun\n"
     ]
    }
   ],
   "source": [
    "details(45, 'Kolkata', 'Arun')"
   ]
  },
  {
   "cell_type": "markdown",
   "id": "878485de",
   "metadata": {},
   "source": [
    "---\n",
    "---\n",
    "# Default Parameters"
   ]
  },
  {
   "cell_type": "code",
   "execution_count": 43,
   "id": "16031fbf",
   "metadata": {},
   "outputs": [
    {
     "data": {
      "text/plain": [
       "['Hello', 'Everyone']"
      ]
     },
     "execution_count": 43,
     "metadata": {},
     "output_type": "execute_result"
    }
   ],
   "source": [
    "s = 'Hello Everyone'\n",
    "s.split()                   # default is ' '  (whitespace)"
   ]
  },
  {
   "cell_type": "code",
   "execution_count": 44,
   "id": "40bbb753",
   "metadata": {},
   "outputs": [
    {
     "data": {
      "text/plain": [
       "['Hell', ' Every', 'ne']"
      ]
     },
     "execution_count": 44,
     "metadata": {},
     "output_type": "execute_result"
    }
   ],
   "source": [
    "s.split('o')"
   ]
  },
  {
   "cell_type": "code",
   "execution_count": 45,
   "id": "3ab1a487",
   "metadata": {},
   "outputs": [],
   "source": [
    "def divide(num1, num2):\n",
    "    return num1 / num2"
   ]
  },
  {
   "cell_type": "code",
   "execution_count": 46,
   "id": "555b3610",
   "metadata": {},
   "outputs": [
    {
     "data": {
      "text/plain": [
       "4.0"
      ]
     },
     "execution_count": 46,
     "metadata": {},
     "output_type": "execute_result"
    }
   ],
   "source": [
    "divide(20,5)"
   ]
  },
  {
   "cell_type": "code",
   "execution_count": 47,
   "id": "b71d1ac8",
   "metadata": {},
   "outputs": [
    {
     "ename": "TypeError",
     "evalue": "divide() missing 1 required positional argument: 'num2'",
     "output_type": "error",
     "traceback": [
      "\u001b[1;31m---------------------------------------------------------------------------\u001b[0m",
      "\u001b[1;31mTypeError\u001b[0m                                 Traceback (most recent call last)",
      "\u001b[1;32m<ipython-input-47-305c81bdf727>\u001b[0m in \u001b[0;36m<module>\u001b[1;34m\u001b[0m\n\u001b[1;32m----> 1\u001b[1;33m \u001b[0mdivide\u001b[0m\u001b[1;33m(\u001b[0m\u001b[1;36m20\u001b[0m\u001b[1;33m)\u001b[0m\u001b[1;33m\u001b[0m\u001b[1;33m\u001b[0m\u001b[0m\n\u001b[0m",
      "\u001b[1;31mTypeError\u001b[0m: divide() missing 1 required positional argument: 'num2'"
     ]
    }
   ],
   "source": [
    "divide(20)"
   ]
  },
  {
   "cell_type": "code",
   "execution_count": 48,
   "id": "33ce492f",
   "metadata": {},
   "outputs": [],
   "source": [
    "# If the argument for default parameter is provided that is considered, if not the default value is considered\n",
    "def divide(num1, num2 = 1):\n",
    "    return num1 / num2"
   ]
  },
  {
   "cell_type": "code",
   "execution_count": 49,
   "id": "21b9b285",
   "metadata": {},
   "outputs": [
    {
     "data": {
      "text/plain": [
       "4.0"
      ]
     },
     "execution_count": 49,
     "metadata": {},
     "output_type": "execute_result"
    }
   ],
   "source": [
    "divide(20,5)"
   ]
  },
  {
   "cell_type": "code",
   "execution_count": 50,
   "id": "dd20cd93",
   "metadata": {},
   "outputs": [
    {
     "data": {
      "text/plain": [
       "20.0"
      ]
     },
     "execution_count": 50,
     "metadata": {},
     "output_type": "execute_result"
    }
   ],
   "source": [
    "divide(20)"
   ]
  },
  {
   "cell_type": "code",
   "execution_count": 51,
   "id": "56118293",
   "metadata": {},
   "outputs": [
    {
     "ename": "SyntaxError",
     "evalue": "non-default argument follows default argument (<ipython-input-51-0f17acdd7e4b>, line 1)",
     "output_type": "error",
     "traceback": [
      "\u001b[1;36m  File \u001b[1;32m\"<ipython-input-51-0f17acdd7e4b>\"\u001b[1;36m, line \u001b[1;32m1\u001b[0m\n\u001b[1;33m    def divide(num1 = 1, num2):\u001b[0m\n\u001b[1;37m               ^\u001b[0m\n\u001b[1;31mSyntaxError\u001b[0m\u001b[1;31m:\u001b[0m non-default argument follows default argument\n"
     ]
    }
   ],
   "source": [
    "# A parameter with default value can not appear before a parameter without default value\n",
    "def divide(num1 = 1, num2):\n",
    "    return num1 / num2"
   ]
  },
  {
   "cell_type": "code",
   "execution_count": 52,
   "id": "9dd0972f",
   "metadata": {},
   "outputs": [],
   "source": [
    "def divide(num1 = 1, num2 = 1):\n",
    "    return num1/num2"
   ]
  },
  {
   "cell_type": "code",
   "execution_count": 54,
   "id": "60a7ba77",
   "metadata": {},
   "outputs": [
    {
     "data": {
      "text/plain": [
       "0.1"
      ]
     },
     "execution_count": 54,
     "metadata": {},
     "output_type": "execute_result"
    }
   ],
   "source": [
    "divide()"
   ]
  },
  {
   "cell_type": "code",
   "execution_count": 55,
   "id": "1d4136b0",
   "metadata": {},
   "outputs": [
    {
     "data": {
      "text/plain": [
       "10.0"
      ]
     },
     "execution_count": 55,
     "metadata": {},
     "output_type": "execute_result"
    }
   ],
   "source": [
    "divide(10)"
   ]
  },
  {
   "cell_type": "code",
   "execution_count": 56,
   "id": "c98da661",
   "metadata": {},
   "outputs": [
    {
     "data": {
      "text/plain": [
       "0.1"
      ]
     },
     "execution_count": 56,
     "metadata": {},
     "output_type": "execute_result"
    }
   ],
   "source": [
    "divide(num2 = 10)"
   ]
  },
  {
   "cell_type": "markdown",
   "id": "ca7ace9c",
   "metadata": {},
   "source": [
    "---\n",
    "---\n",
    "# Variable arguments (args) and Variable keyword arguments (Kwargs) "
   ]
  },
  {
   "cell_type": "code",
   "execution_count": 1,
   "id": "cc608479",
   "metadata": {},
   "outputs": [],
   "source": [
    "def add(num1, num2):\n",
    "    return num1 + num2"
   ]
  },
  {
   "cell_type": "code",
   "execution_count": 2,
   "id": "4b312ced",
   "metadata": {},
   "outputs": [
    {
     "data": {
      "text/plain": [
       "5"
      ]
     },
     "execution_count": 2,
     "metadata": {},
     "output_type": "execute_result"
    }
   ],
   "source": [
    "add(2,3)"
   ]
  },
  {
   "cell_type": "code",
   "execution_count": 3,
   "id": "921d949f",
   "metadata": {},
   "outputs": [
    {
     "ename": "TypeError",
     "evalue": "add() takes 2 positional arguments but 3 were given",
     "output_type": "error",
     "traceback": [
      "\u001b[1;31m---------------------------------------------------------------------------\u001b[0m",
      "\u001b[1;31mTypeError\u001b[0m                                 Traceback (most recent call last)",
      "\u001b[1;32m<ipython-input-3-0fe015c80267>\u001b[0m in \u001b[0;36m<module>\u001b[1;34m\u001b[0m\n\u001b[1;32m----> 1\u001b[1;33m \u001b[0madd\u001b[0m\u001b[1;33m(\u001b[0m\u001b[1;36m2\u001b[0m\u001b[1;33m,\u001b[0m\u001b[1;36m3\u001b[0m\u001b[1;33m,\u001b[0m\u001b[1;36m4\u001b[0m\u001b[1;33m)\u001b[0m\u001b[1;33m\u001b[0m\u001b[1;33m\u001b[0m\u001b[0m\n\u001b[0m",
      "\u001b[1;31mTypeError\u001b[0m: add() takes 2 positional arguments but 3 were given"
     ]
    }
   ],
   "source": [
    "add(2,3,4)"
   ]
  },
  {
   "cell_type": "code",
   "execution_count": 4,
   "id": "d0d942c7",
   "metadata": {},
   "outputs": [
    {
     "name": "stdout",
     "output_type": "stream",
     "text": [
      "(2, 3, 4, 5)\n",
      "<class 'tuple'>\n"
     ]
    }
   ],
   "source": [
    "# Variable arguments (args)\n",
    "def abc(*args):\n",
    "    print(args)\n",
    "    print(type(args))\n",
    "    \n",
    "abc(2,3,4,5)"
   ]
  },
  {
   "cell_type": "code",
   "execution_count": 5,
   "id": "c104d795",
   "metadata": {},
   "outputs": [],
   "source": [
    "def add(*nums):\n",
    "    result = sum(nums)\n",
    "    return result"
   ]
  },
  {
   "cell_type": "code",
   "execution_count": 6,
   "id": "52dd409c",
   "metadata": {},
   "outputs": [
    {
     "data": {
      "text/plain": [
       "5"
      ]
     },
     "execution_count": 6,
     "metadata": {},
     "output_type": "execute_result"
    }
   ],
   "source": [
    "add(2,3)"
   ]
  },
  {
   "cell_type": "code",
   "execution_count": 7,
   "id": "deea0792",
   "metadata": {},
   "outputs": [
    {
     "data": {
      "text/plain": [
       "9"
      ]
     },
     "execution_count": 7,
     "metadata": {},
     "output_type": "execute_result"
    }
   ],
   "source": [
    "add(2,3,4)"
   ]
  },
  {
   "cell_type": "code",
   "execution_count": 8,
   "id": "fdb584be",
   "metadata": {},
   "outputs": [
    {
     "data": {
      "text/plain": [
       "68"
      ]
     },
     "execution_count": 8,
     "metadata": {},
     "output_type": "execute_result"
    }
   ],
   "source": [
    "add(2,4,5,1,2,7,8,9,0,4,5,6,7,8)"
   ]
  },
  {
   "cell_type": "code",
   "execution_count": 9,
   "id": "52d9ebd0",
   "metadata": {},
   "outputs": [
    {
     "name": "stdout",
     "output_type": "stream",
     "text": [
      "{'name': 'babulal', 'age': 50}\n",
      "<class 'dict'>\n"
     ]
    }
   ],
   "source": [
    "# Variable keyword arguments (kwargs)\n",
    "def abc(**kwargs):\n",
    "    print(kwargs)\n",
    "    print(type(kwargs))\n",
    "    \n",
    "abc(name = 'babulal', age = 50)"
   ]
  },
  {
   "cell_type": "code",
   "execution_count": 10,
   "id": "7fc71e6a",
   "metadata": {},
   "outputs": [],
   "source": [
    "def show(**details):\n",
    "    print('The details are : ')\n",
    "    for key,value in details.items():\n",
    "        print(key, ' : ', value)"
   ]
  },
  {
   "cell_type": "code",
   "execution_count": 12,
   "id": "a3e07185",
   "metadata": {},
   "outputs": [
    {
     "name": "stdout",
     "output_type": "stream",
     "text": [
      "The details are : \n",
      "name  :  Babulal\n"
     ]
    }
   ],
   "source": [
    "show(name = 'Babulal')"
   ]
  },
  {
   "cell_type": "code",
   "execution_count": 14,
   "id": "c7e8cf1b",
   "metadata": {},
   "outputs": [
    {
     "name": "stdout",
     "output_type": "stream",
     "text": [
      "The details are : \n",
      "name  :  Babulal\n",
      "age  :  50\n",
      "city  :  Jodhpur\n"
     ]
    }
   ],
   "source": [
    "show(name = 'Babulal', age = 50, city = 'Jodhpur')"
   ]
  },
  {
   "cell_type": "code",
   "execution_count": 15,
   "id": "343f30ab",
   "metadata": {},
   "outputs": [],
   "source": [
    "# Create a function which takes a string and returns the longest word\n",
    "def longest_word(s):\n",
    "    words = s.split()\n",
    "    longest = words[0]\n",
    "    for word in words:\n",
    "        if len(word) > len(longest):\n",
    "            longest = word\n",
    "            \n",
    "    return longest"
   ]
  },
  {
   "cell_type": "code",
   "execution_count": 16,
   "id": "d4c7d4f7",
   "metadata": {},
   "outputs": [
    {
     "data": {
      "text/plain": [
       "'watching'"
      ]
     },
     "execution_count": 16,
     "metadata": {},
     "output_type": "execute_result"
    }
   ],
   "source": [
    "longest_word('I am crime master gogo and i love watching pogo')"
   ]
  },
  {
   "cell_type": "code",
   "execution_count": 18,
   "id": "646269af",
   "metadata": {},
   "outputs": [
    {
     "data": {
      "text/plain": [
       "'revision'"
      ]
     },
     "execution_count": 18,
     "metadata": {},
     "output_type": "execute_result"
    }
   ],
   "source": [
    "longest_word('All of you need revision and more practice')"
   ]
  },
  {
   "cell_type": "code",
   "execution_count": null,
   "id": "4d541d8a",
   "metadata": {},
   "outputs": [],
   "source": []
  }
 ],
 "metadata": {
  "kernelspec": {
   "display_name": "Python 3 (ipykernel)",
   "language": "python",
   "name": "python3"
  },
  "language_info": {
   "codemirror_mode": {
    "name": "ipython",
    "version": 3
   },
   "file_extension": ".py",
   "mimetype": "text/x-python",
   "name": "python",
   "nbconvert_exporter": "python",
   "pygments_lexer": "ipython3",
   "version": "3.12.7"
  }
 },
 "nbformat": 4,
 "nbformat_minor": 5
}

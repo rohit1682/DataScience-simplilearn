{
 "cells": [
  {
   "cell_type": "markdown",
   "id": "d5b7ffa5",
   "metadata": {},
   "source": [
    "- Output using print function\n",
    "- Input using input function\n",
    "- Variables and literals\n",
    "- Basic arithmatic operations"
   ]
  },
  {
   "cell_type": "markdown",
   "id": "db8933b5",
   "metadata": {},
   "source": [
    "# print()\n",
    "    - Used to print output"
   ]
  },
  {
   "cell_type": "code",
   "execution_count": 1,
   "id": "6957897d",
   "metadata": {},
   "outputs": [
    {
     "name": "stdout",
     "output_type": "stream",
     "text": [
      "Hello Everyone\n"
     ]
    }
   ],
   "source": [
    "print('Hello Everyone')"
   ]
  },
  {
   "cell_type": "code",
   "execution_count": 2,
   "id": "295081d3",
   "metadata": {},
   "outputs": [
    {
     "name": "stdout",
     "output_type": "stream",
     "text": [
      "Good Evening\n"
     ]
    }
   ],
   "source": [
    "print(\"Bob the builder\")"
   ]
  },
  {
   "cell_type": "code",
   "execution_count": 1,
   "id": "f9f80190-d84f-4954-b487-3260a2250cf9",
   "metadata": {},
   "outputs": [
    {
     "name": "stdout",
     "output_type": "stream",
     "text": [
      "bob\n"
     ]
    }
   ],
   "source": [
    "print('bob')"
   ]
  },
  {
   "cell_type": "code",
   "execution_count": 2,
   "id": "eed8f27e",
   "metadata": {},
   "outputs": [
    {
     "ename": "NameError",
     "evalue": "name 'bob' is not defined",
     "output_type": "error",
     "traceback": [
      "\u001b[1;31m---------------------------------------------------------------------------\u001b[0m",
      "\u001b[1;31mNameError\u001b[0m                                 Traceback (most recent call last)",
      "Cell \u001b[1;32mIn[2], line 1\u001b[0m\n\u001b[1;32m----> 1\u001b[0m \u001b[38;5;28mprint\u001b[39m(bob)\n",
      "\u001b[1;31mNameError\u001b[0m: name 'bob' is not defined"
     ]
    }
   ],
   "source": [
    "print(bob)             # python will assume this is a variable"
   ]
  },
  {
   "cell_type": "code",
   "execution_count": 5,
   "id": "b584212a",
   "metadata": {},
   "outputs": [
    {
     "name": "stdout",
     "output_type": "stream",
     "text": [
      "Bob the builder\n",
      "karke dikhayenge\n",
      "ha bhai ha\n"
     ]
    }
   ],
   "source": [
    "print('Bob the builder')\n",
    "print('ha bhai ha')"
   ]
  },
  {
   "cell_type": "code",
   "execution_count": 6,
   "id": "b4aece08",
   "metadata": {},
   "outputs": [
    {
     "name": "stdout",
     "output_type": "stream",
     "text": [
      "5\n"
     ]
    }
   ],
   "source": [
    "print(5)"
   ]
  },
  {
   "cell_type": "code",
   "execution_count": 9,
   "id": "9e02ebd6",
   "metadata": {},
   "outputs": [
    {
     "name": "stdout",
     "output_type": "stream",
     "text": [
      "11\n",
      "5\n",
      "10\n",
      "5.0\n"
     ]
    }
   ],
   "source": [
    "print(5 + 6)\n",
    "print(10 - 5)\n",
    "print(5 * 2)\n",
    "print(10 / 2)"
   ]
  },
  {
   "cell_type": "code",
   "execution_count": 10,
   "id": "eb179112",
   "metadata": {},
   "outputs": [
    {
     "name": "stdout",
     "output_type": "stream",
     "text": [
      "1000\n"
     ]
    }
   ],
   "source": [
    "# variables\n",
    "a = 1000\n",
    "print(a)"
   ]
  },
  {
   "cell_type": "code",
   "execution_count": 11,
   "id": "1df281fe",
   "metadata": {},
   "outputs": [
    {
     "name": "stdout",
     "output_type": "stream",
     "text": [
      "500\n"
     ]
    }
   ],
   "source": [
    "a = 1000\n",
    "b = 500\n",
    "print(a - b)"
   ]
  },
  {
   "cell_type": "code",
   "execution_count": 12,
   "id": "82c8e526",
   "metadata": {},
   "outputs": [
    {
     "name": "stdout",
     "output_type": "stream",
     "text": [
      "Utkarsh\n"
     ]
    }
   ],
   "source": [
    "name = 'Utkarsh'\n",
    "print(name)"
   ]
  },
  {
   "cell_type": "code",
   "execution_count": 13,
   "id": "42afb7c0",
   "metadata": {},
   "outputs": [
    {
     "name": "stdout",
     "output_type": "stream",
     "text": [
      "40.0\n"
     ]
    }
   ],
   "source": [
    "print(10 + 2 * 3 / 2 * 10)"
   ]
  },
  {
   "cell_type": "code",
   "execution_count": 14,
   "id": "9406381c",
   "metadata": {},
   "outputs": [
    {
     "name": "stdout",
     "output_type": "stream",
     "text": [
      "hello everyone good evening welcome to the session\n"
     ]
    }
   ],
   "source": [
    "print('hello everyone', 'good evening', 'welcome to the session')"
   ]
  },
  {
   "cell_type": "code",
   "execution_count": 16,
   "id": "f3acbd21",
   "metadata": {},
   "outputs": [
    {
     "name": "stdout",
     "output_type": "stream",
     "text": [
      "Hello Utkarsh\n"
     ]
    }
   ],
   "source": [
    "name = 'Utkarsh'\n",
    "print('Hello', name)"
   ]
  },
  {
   "cell_type": "code",
   "execution_count": 17,
   "id": "592f83b7",
   "metadata": {},
   "outputs": [
    {
     "name": "stdout",
     "output_type": "stream",
     "text": [
      "The sum of three variables is :  600\n"
     ]
    }
   ],
   "source": [
    "a = 100\n",
    "b = 200\n",
    "c = 300\n",
    "print('The sum of three variables is : ', a + b + c)"
   ]
  },
  {
   "cell_type": "markdown",
   "id": "825df946",
   "metadata": {},
   "source": [
    "# input()\n",
    "    - Used to take input from the user"
   ]
  },
  {
   "cell_type": "code",
   "execution_count": 24,
   "id": "84cea721",
   "metadata": {},
   "outputs": [
    {
     "name": "stdout",
     "output_type": "stream",
     "text": [
      "Utkarsh\n"
     ]
    },
    {
     "data": {
      "text/plain": [
       "'Utkarsh'"
      ]
     },
     "execution_count": 24,
     "metadata": {},
     "output_type": "execute_result"
    }
   ],
   "source": [
    "input()"
   ]
  },
  {
   "cell_type": "code",
   "execution_count": 26,
   "id": "175c5d89",
   "metadata": {},
   "outputs": [
    {
     "name": "stdout",
     "output_type": "stream",
     "text": [
      "Utkarsh\n",
      "Hello Utkarsh\n"
     ]
    }
   ],
   "source": [
    "name = input()\n",
    "print('Hello', name)"
   ]
  },
  {
   "cell_type": "code",
   "execution_count": 27,
   "id": "e24cf15b",
   "metadata": {},
   "outputs": [
    {
     "name": "stdout",
     "output_type": "stream",
     "text": [
      "Utkarsh\n",
      "Sharma\n",
      "Jaipur\n"
     ]
    }
   ],
   "source": [
    "first_name = input()\n",
    "last_name  = input()\n",
    "city = input()"
   ]
  },
  {
   "cell_type": "code",
   "execution_count": 28,
   "id": "280d5d84",
   "metadata": {},
   "outputs": [
    {
     "name": "stdout",
     "output_type": "stream",
     "text": [
      "The details are : \n",
      "First Name :  Utkarsh\n",
      "Last Name :  Sharma\n",
      "City :  Jaipur\n"
     ]
    }
   ],
   "source": [
    "print('The details are : ')\n",
    "print('First Name : ', first_name)\n",
    "print('Last Name : ', last_name)\n",
    "print('City : ', city)"
   ]
  },
  {
   "cell_type": "code",
   "execution_count": 30,
   "id": "c40ce5f0",
   "metadata": {},
   "outputs": [
    {
     "name": "stdout",
     "output_type": "stream",
     "text": [
      "Enter first name : Utkarsh\n",
      "Enter last name : Sharma\n",
      "Enter city : Jaipur\n",
      "\n",
      "The details are : \n",
      "First Name :  Utkarsh\n",
      "Last Name :  Sharma\n",
      "City :  Jaipur\n"
     ]
    }
   ],
   "source": [
    "first_name = input('Enter first name : ')\n",
    "last_name  = input('Enter last name : ')\n",
    "city = input('Enter city : ')\n",
    "\n",
    "print()\n",
    "print('The details are : ')\n",
    "print('First Name : ', first_name)\n",
    "print('Last Name : ', last_name)\n",
    "print('City : ', city)"
   ]
  },
  {
   "cell_type": "code",
   "execution_count": 31,
   "id": "b653233f",
   "metadata": {},
   "outputs": [
    {
     "name": "stdout",
     "output_type": "stream",
     "text": [
      "Enter first name : Utkarsh\n",
      "Enter last name : Sharma\n",
      "Enter city : Jaipur\n",
      "Enter the state : Rajasthan\n",
      "Enter the country : India\n",
      "\n",
      "The details are : \n",
      "First Name :  Utkarsh\n",
      "Last Name  :  Sharma\n",
      "City       :  Jaipur\n",
      "State      :  Rajasthan\n",
      "Country    :  India\n"
     ]
    }
   ],
   "source": [
    "# Write a python program that takes at least 5 details as input and prints the details properly\n",
    "first_name = input('Enter first name : ')\n",
    "last_name  = input('Enter last name : ')\n",
    "city = input('Enter city : ')\n",
    "state = input('Enter the state : ')\n",
    "country = input('Enter the country : ')\n",
    "\n",
    "print()\n",
    "print('The details are : ')\n",
    "print('First Name : ', first_name)\n",
    "print('Last Name  : ', last_name)\n",
    "print('City       : ', city)\n",
    "print('State      : ', state)\n",
    "print('Country    : ', country)"
   ]
  },
  {
   "cell_type": "markdown",
   "id": "57006630",
   "metadata": {},
   "source": [
    "# end\n",
    "- Used to specify what appears at the end a print statement"
   ]
  },
  {
   "cell_type": "code",
   "execution_count": 1,
   "id": "f12d703f",
   "metadata": {},
   "outputs": [
    {
     "name": "stdout",
     "output_type": "stream",
     "text": [
      "hello everyone\n",
      "good evening\n",
      "welcome to the session\n"
     ]
    }
   ],
   "source": [
    "print('hello everyone')\n",
    "print('good evening')\n",
    "print('welcome to the session')"
   ]
  },
  {
   "cell_type": "code",
   "execution_count": 11,
   "id": "65e96f8d",
   "metadata": {},
   "outputs": [
    {
     "name": "stdout",
     "output_type": "stream",
     "text": [
      "hello everyone\n",
      "good evening\n",
      "welcome to the session\n"
     ]
    }
   ],
   "source": [
    "print('hello everyone', end = '\\n')\n",
    "print('good evening', end = '\\n')\n",
    "print('welcome to the session', end = '\\n')"
   ]
  },
  {
   "cell_type": "code",
   "execution_count": 12,
   "id": "1ba96aa1",
   "metadata": {},
   "outputs": [
    {
     "name": "stdout",
     "output_type": "stream",
     "text": [
      "hello everyone   good evening   welcome to the session   "
     ]
    }
   ],
   "source": [
    "print('hello everyone', end = '   ')\n",
    "print('good evening', end = '   ')\n",
    "print('welcome to the session', end = '   ')"
   ]
  },
  {
   "cell_type": "markdown",
   "id": "dbb481f2",
   "metadata": {},
   "source": [
    "# sep\n",
    "- Used to specify how multiple outputs of the same print statement appear"
   ]
  },
  {
   "cell_type": "code",
   "execution_count": 9,
   "id": "2dea5c2d",
   "metadata": {},
   "outputs": [
    {
     "name": "stdout",
     "output_type": "stream",
     "text": [
      "hello Everyone good evening welcome to this session\n"
     ]
    }
   ],
   "source": [
    "print('hello Everyone', 'good evening', 'welcome to this session')"
   ]
  },
  {
   "cell_type": "code",
   "execution_count": 10,
   "id": "75b3fcdc",
   "metadata": {},
   "outputs": [
    {
     "name": "stdout",
     "output_type": "stream",
     "text": [
      "hello Everyone good evening welcome to this session\n"
     ]
    }
   ],
   "source": [
    "print('hello Everyone', 'good evening', 'welcome to this session', sep = ' ')"
   ]
  },
  {
   "cell_type": "code",
   "execution_count": 13,
   "id": "a8a44831",
   "metadata": {},
   "outputs": [
    {
     "name": "stdout",
     "output_type": "stream",
     "text": [
      "hello Everyone      good evening      welcome to this session\n"
     ]
    }
   ],
   "source": [
    "print('hello Everyone', 'good evening', 'welcome to this session', sep = '      ')"
   ]
  },
  {
   "cell_type": "code",
   "execution_count": 14,
   "id": "aa92b2f1",
   "metadata": {},
   "outputs": [
    {
     "name": "stdout",
     "output_type": "stream",
     "text": [
      "hello Everyone\n",
      "good evening\n",
      "welcome to this session\n"
     ]
    }
   ],
   "source": [
    "print('hello Everyone', 'good evening', 'welcome to this session', sep = '\\n')"
   ]
  },
  {
   "cell_type": "markdown",
   "id": "950d057e",
   "metadata": {},
   "source": [
    "- **end** : end parameter is used to specify what appears at the end of a print statement  (by default \\n)\n",
    "- **sep** : sep parameter is used to specify what appears between multiple outputs of a single print statement (by default space)"
   ]
  },
  {
   "cell_type": "markdown",
   "id": "90e16511",
   "metadata": {},
   "source": [
    "# format function"
   ]
  },
  {
   "cell_type": "code",
   "execution_count": 17,
   "id": "18334739",
   "metadata": {},
   "outputs": [
    {
     "name": "stdout",
     "output_type": "stream",
     "text": [
      "Enter your age : 30\n",
      "I am 30 years old\n"
     ]
    }
   ],
   "source": [
    "age = input('Enter your age : ')\n",
    "print('I am {} years old'.format(age))"
   ]
  },
  {
   "cell_type": "code",
   "execution_count": 18,
   "id": "4c10ceb6",
   "metadata": {},
   "outputs": [
    {
     "name": "stdout",
     "output_type": "stream",
     "text": [
      "Enter the name : Amit\n",
      "Enter the monthly salary : 200000\n",
      "Amit earns 200000 per month\n"
     ]
    }
   ],
   "source": [
    "name = input('Enter the name : ')\n",
    "salary = input('Enter the monthly salary : ')\n",
    "print('{} earns {} per month'.format(name, salary))"
   ]
  },
  {
   "cell_type": "code",
   "execution_count": null,
   "id": "bec92adf",
   "metadata": {},
   "outputs": [],
   "source": []
  },
  {
   "cell_type": "code",
   "execution_count": null,
   "id": "10091c11",
   "metadata": {},
   "outputs": [],
   "source": []
  }
 ],
 "metadata": {
  "kernelspec": {
   "display_name": "Python 3 (ipykernel)",
   "language": "python",
   "name": "python3"
  },
  "language_info": {
   "codemirror_mode": {
    "name": "ipython",
    "version": 3
   },
   "file_extension": ".py",
   "mimetype": "text/x-python",
   "name": "python",
   "nbconvert_exporter": "python",
   "pygments_lexer": "ipython3",
   "version": "3.12.7"
  }
 },
 "nbformat": 4,
 "nbformat_minor": 5
}

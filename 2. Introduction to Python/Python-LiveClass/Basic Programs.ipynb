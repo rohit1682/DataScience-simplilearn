{
 "cells": [
  {
   "cell_type": "code",
   "execution_count": 1,
   "id": "832787ae",
   "metadata": {},
   "outputs": [
    {
     "name": "stdout",
     "output_type": "stream",
     "text": [
      "Enter first number  : 1\n",
      "Enter second number : 2\n",
      "The sum of given numbers is :  12\n"
     ]
    }
   ],
   "source": [
    "# Take two numbers as input and print their sum\n",
    "num1 = input('Enter first number  : ')\n",
    "num2 = input('Enter second number : ')\n",
    "print('The sum of given numbers is : ', num1 + num2)"
   ]
  },
  {
   "cell_type": "code",
   "execution_count": 4,
   "id": "bb4926ec",
   "metadata": {},
   "outputs": [
    {
     "data": {
      "text/plain": [
       "'12'"
      ]
     },
     "execution_count": 4,
     "metadata": {},
     "output_type": "execute_result"
    }
   ],
   "source": [
    "'1' + '2'            # Concatenation"
   ]
  },
  {
   "cell_type": "code",
   "execution_count": 7,
   "id": "28b2a9d4",
   "metadata": {},
   "outputs": [
    {
     "data": {
      "text/plain": [
       "str"
      ]
     },
     "execution_count": 7,
     "metadata": {},
     "output_type": "execute_result"
    }
   ],
   "source": [
    "a = '100'\n",
    "type(a)"
   ]
  },
  {
   "cell_type": "code",
   "execution_count": 8,
   "id": "55134c8a",
   "metadata": {},
   "outputs": [
    {
     "data": {
      "text/plain": [
       "int"
      ]
     },
     "execution_count": 8,
     "metadata": {},
     "output_type": "execute_result"
    }
   ],
   "source": [
    "# Converting a string to a number\n",
    "a = int('100')\n",
    "type(a)"
   ]
  },
  {
   "cell_type": "code",
   "execution_count": 12,
   "id": "9a5a1f6e",
   "metadata": {},
   "outputs": [
    {
     "name": "stdout",
     "output_type": "stream",
     "text": [
      "Enter first number  : 1\n",
      "Enter second number : 2\n",
      "The sum of given numbers is :  3\n"
     ]
    }
   ],
   "source": [
    "# Take two numbers as input and print their sum\n",
    "num1 = int(input('Enter first number  : '))\n",
    "num2 = int(input('Enter second number : '))\n",
    "print('The sum of given numbers is : ', num1 + num2)"
   ]
  },
  {
   "cell_type": "code",
   "execution_count": 13,
   "id": "0b409ec9",
   "metadata": {},
   "outputs": [
    {
     "name": "stdout",
     "output_type": "stream",
     "text": [
      "Enter first number  : 10\n",
      "Enter second number : 5\n",
      "The sum of given numbers is      :  15\n",
      "The diff of given numbers is     :  5\n",
      "The product of given numbers is  :  50\n",
      "the quotient of given numbers is :  2.0\n"
     ]
    }
   ],
   "source": [
    "# Take two numbers as input and perform arithmatic operations\n",
    "num1 = int(input('Enter first number  : '))\n",
    "num2 = int(input('Enter second number : '))\n",
    "print('The sum of given numbers is      : ', num1 + num2)\n",
    "print('The diff of given numbers is     : ', num1 - num2)\n",
    "print('The product of given numbers is  : ', num1 * num2)\n",
    "print('the quotient of given numbers is : ', num1 / num2)"
   ]
  },
  {
   "cell_type": "code",
   "execution_count": 17,
   "id": "31472783",
   "metadata": {},
   "outputs": [
    {
     "name": "stdout",
     "output_type": "stream",
     "text": [
      "Enter the principal amount : 100000\n",
      "Enter the rate of interest : 10\n",
      "Enter the duration in years : 5\n",
      "The interst on 100000 for 5 years at the rate of 10% is : 50000.0\n"
     ]
    }
   ],
   "source": [
    "# Take principal amount, rate of interest and number of years as input and print the simple interest\n",
    "principal_amount = int(input('Enter the principal amount : '))\n",
    "rate = int(input('Enter the rate of interest : '))\n",
    "duration = int(input('Enter the duration in years : '))\n",
    "\n",
    "interest = (principal_amount * rate * duration) / 100\n",
    "print('The interst on {} for {} years at the rate of {}% is : {}'.format(principal_amount, duration, rate, interest))"
   ]
  },
  {
   "cell_type": "code",
   "execution_count": 19,
   "id": "21970432",
   "metadata": {},
   "outputs": [
    {
     "name": "stdout",
     "output_type": "stream",
     "text": [
      "Enter first number  : 10\n",
      "Enter second number : 20\n",
      "Values before swapping : \n",
      "num1 :  10\n",
      "num2 :  20\n",
      "Values after swapping : \n",
      "num1 :  20\n",
      "num2 :  10\n"
     ]
    }
   ],
   "source": [
    "# Take two numbers as input from the user and swap them\n",
    "num1 = int(input('Enter first number  : '))\n",
    "num2 = int(input('Enter second number : '))\n",
    "\n",
    "print('Values before swapping : ')\n",
    "print('num1 : ', num1)\n",
    "print('num2 : ', num2)\n",
    "\n",
    "temp = num1\n",
    "num1 = num2\n",
    "num2 = temp\n",
    "\n",
    "print('Values after swapping : ')\n",
    "print('num1 : ', num1)\n",
    "print('num2 : ', num2)"
   ]
  },
  {
   "cell_type": "code",
   "execution_count": 1,
   "id": "edc3dbba",
   "metadata": {},
   "outputs": [
    {
     "name": "stdout",
     "output_type": "stream",
     "text": [
      "Enter first number  : 10\n",
      "Enter second number : 6\n",
      "Values before swapping : \n",
      "num1 :  10\n",
      "num2 :  6\n",
      "Values after swapping : \n",
      "num1 :  6\n",
      "num2 :  10\n"
     ]
    }
   ],
   "source": [
    "# Take two numbers as input from the user and swap them without temp variable\n",
    "num1 = int(input('Enter first number  : '))\n",
    "num2 = int(input('Enter second number : '))\n",
    "\n",
    "print('Values before swapping : ')\n",
    "print('num1 : ', num1)\n",
    "print('num2 : ', num2)\n",
    "\n",
    "num1 = num1 + num2\n",
    "num2 = num1 - num2\n",
    "num1 = num1 - num2\n",
    "\n",
    "print('Values after swapping : ')\n",
    "print('num1 : ', num1)\n",
    "print('num2 : ', num2)"
   ]
  },
  {
   "cell_type": "code",
   "execution_count": 9,
   "id": "52665ac1",
   "metadata": {},
   "outputs": [
    {
     "name": "stdout",
     "output_type": "stream",
     "text": [
      "Enter the principal amount : 200000\n",
      "Enter the rate : 9.5\n",
      "Ether the duration in years : 10\n",
      "The interst on 200000 for 10.0 years at the rate of 9.5% is : 190000.0\n",
      "The total amount to be paid is :  390000.0\n"
     ]
    }
   ],
   "source": [
    "# Take principal amount , rate of interest, duration in years as input and print simple interest as well as total amount to be paid\n",
    "principal_amount = int(input('Enter the principal amount : '))\n",
    "rate = float(input('Enter the rate : '))\n",
    "duration = float(input('Ether the duration in years : '))\n",
    "\n",
    "interest = (principal_amount * rate * duration) / 100\n",
    "total_amount = principal_amount + interest\n",
    "\n",
    "print('The interst on {} for {} years at the rate of {}% is : {}'.format(principal_amount, duration, rate, interest))\n",
    "print('The total amount to be paid is : ', total_amount)"
   ]
  },
  {
   "cell_type": "code",
   "execution_count": 10,
   "id": "e227b75b",
   "metadata": {},
   "outputs": [
    {
     "name": "stdout",
     "output_type": "stream",
     "text": [
      "Enter the cost price : 100000\n",
      "Enter the selling price : 160000\n",
      "The profit percentage is :  60.0\n",
      "the profit amount is :  60000\n"
     ]
    }
   ],
   "source": [
    "# Take cost price and selling price(should be larger than purchase price) as input from the user and print the profit amount and profit percentage\n",
    "cost_price = int(input('Enter the cost price : '))\n",
    "selling_price = int(input('Enter the selling price : '))\n",
    "\n",
    "profit = selling_price - cost_price\n",
    "profit_percentage = (profit / cost_price) * 100\n",
    "\n",
    "print('The profit percentage is : ', profit_percentage)\n",
    "print('The profit amount is : ', profit)"
   ]
  },
  {
   "cell_type": "code",
   "execution_count": 11,
   "id": "45f93d10",
   "metadata": {},
   "outputs": [
    {
     "name": "stdout",
     "output_type": "stream",
     "text": [
      "Enter the cost price : 10000\n",
      "Enter the profit percentage : 25\n",
      "The selling price for an item with a cost price of 10000 to make a 25.0% profit should be : 12500.0\n"
     ]
    }
   ],
   "source": [
    "# Take cost price and percentage of profit that the seller wants to make and calculate the selling price\n",
    "cost_price = int(input('Enter the cost price : '))\n",
    "profit_percentage = float(input('Enter the profit percentage : '))\n",
    "\n",
    "profit = (profit_percentage * cost_price) / 100\n",
    "selling_price = cost_price + profit\n",
    "\n",
    "print('The selling price for an item with a cost price of {} to make a {}% profit should be : {}'.format(cost_price, profit_percentage, selling_price))"
   ]
  },
  {
   "cell_type": "code",
   "execution_count": null,
   "id": "8a2ecddd",
   "metadata": {},
   "outputs": [],
   "source": []
  }
 ],
 "metadata": {
  "kernelspec": {
   "display_name": "Python 3 (ipykernel)",
   "language": "python",
   "name": "python3"
  },
  "language_info": {
   "codemirror_mode": {
    "name": "ipython",
    "version": 3
   },
   "file_extension": ".py",
   "mimetype": "text/x-python",
   "name": "python",
   "nbconvert_exporter": "python",
   "pygments_lexer": "ipython3",
   "version": "3.12.7"
  }
 },
 "nbformat": 4,
 "nbformat_minor": 5
}

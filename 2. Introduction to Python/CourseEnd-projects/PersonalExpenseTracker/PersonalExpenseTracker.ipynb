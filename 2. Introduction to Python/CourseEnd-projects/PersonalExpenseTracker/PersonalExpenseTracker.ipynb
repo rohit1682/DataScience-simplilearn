{
 "cells": [
  {
   "cell_type": "code",
   "execution_count": null,
   "id": "594f1b1e",
   "metadata": {},
   "outputs": [],
   "source": [
    "# Import required modules\n",
    "import csv\n",
    "import os\n",
    "from datetime import datetime"
   ]
  },
  {
   "cell_type": "code",
   "execution_count": null,
   "id": "866d38e5",
   "metadata": {},
   "outputs": [],
   "source": [
    "# Global variables\n",
    "expenses = []\n",
    "monthly_budget = 0.0\n",
    "file_name = \"expenses.csv\""
   ]
  },
  {
   "cell_type": "code",
   "execution_count": null,
   "id": "31d13977",
   "metadata": {},
   "outputs": [],
   "source": [
    "# Function to add an expense\n",
    "def add_expense():\n",
    "    date_str = input(\"Enter date (YYYY-MM-DD): \")\n",
    "    category = input(\"Enter category (e.g., Food, Travel): \")\n",
    "    amount_str = input(\"Enter amount: \")\n",
    "    description = input(\"Enter a brief description: \")\n",
    "\n",
    "    try:\n",
    "        date = datetime.strptime(date_str, \"%Y-%m-%d\").date()\n",
    "        amount = float(amount_str)\n",
    "        expense = {\n",
    "            'date': date_str,\n",
    "            'category': category,\n",
    "            'amount': amount,\n",
    "            'description': description\n",
    "        }\n",
    "        expenses.append(expense)\n",
    "        print(\"Expense added successfully!\\n\")\n",
    "    except ValueError:\n",
    "        print(\"Invalid input. Please check date format or amount.\\n\")"
   ]
  },
  {
   "cell_type": "code",
   "execution_count": null,
   "id": "4e4e4ac5",
   "metadata": {},
   "outputs": [],
   "source": [
    "# Function to view expenses\n",
    "def view_expenses():\n",
    "    if not expenses:\n",
    "        print(\"No expenses recorded yet.\\n\")\n",
    "        return\n",
    "\n",
    "    print(\"\\n--- All Expenses ---\")\n",
    "    for exp in expenses:\n",
    "        if all(key in exp for key in ['date', 'category', 'amount', 'description']):\n",
    "            print(f\"Date: {exp['date']}, Category: {exp['category']}, Amount: {exp['amount']}, Description: {exp['description']}\")\n",
    "        else:\n",
    "            print(\"Incomplete expense entry found, skipping...\")\n",
    "    print()"
   ]
  },
  {
   "cell_type": "code",
   "execution_count": null,
   "id": "38710c24",
   "metadata": {},
   "outputs": [],
   "source": [
    "# Function to set monthly budget\n",
    "def set_budget():\n",
    "    global monthly_budget\n",
    "    try:\n",
    "        monthly_budget = float(input(\"Enter your monthly budget: \"))\n",
    "        print(f\"Monthly budget set to {monthly_budget}\\n\")\n",
    "    except ValueError:\n",
    "        print(\"Invalid input. Please enter a number.\\n\")"
   ]
  },
  {
   "cell_type": "code",
   "execution_count": null,
   "id": "a712f491",
   "metadata": {},
   "outputs": [],
   "source": [
    "\n",
    "# Function to track budget\n",
    "def track_budget():\n",
    "    total_expense = sum(exp['amount'] for exp in expenses)\n",
    "    print(f\"Total expenses so far: {total_expense}\")\n",
    "    if monthly_budget == 0:\n",
    "        print(\"Budget not set yet.\\n\")\n",
    "        return\n",
    "    if total_expense > monthly_budget:\n",
    "        print(\"Warning: You have exceeded your budget!\\n\")\n",
    "    else:\n",
    "        remaining = monthly_budget - total_expense\n",
    "        print(f\"You have {remaining} left for the month.\\n\")"
   ]
  },
  {
   "cell_type": "code",
   "execution_count": null,
   "id": "11aebfd9",
   "metadata": {},
   "outputs": [],
   "source": [
    "# Function to save expenses to CSV\n",
    "def save_expenses():\n",
    "    with open(file_name, mode='w', newline='') as file:\n",
    "        writer = csv.DictWriter(file, fieldnames=['date', 'category', 'amount', 'description'])\n",
    "        writer.writeheader()\n",
    "        for exp in expenses:\n",
    "            writer.writerow(exp)\n",
    "    print(f\"Expenses saved to {file_name}\\n\")"
   ]
  },
  {
   "cell_type": "code",
   "execution_count": null,
   "id": "8fdfa357",
   "metadata": {},
   "outputs": [],
   "source": [
    "# Function to load expenses from CSV\n",
    "def load_expenses():\n",
    "    if not os.path.exists(file_name):\n",
    "        return\n",
    "    with open(file_name, mode='r') as file:\n",
    "        reader = csv.DictReader(file)\n",
    "        for row in reader:\n",
    "            row['amount'] = float(row['amount'])\n",
    "            expenses.append(row)"
   ]
  },
  {
   "cell_type": "code",
   "execution_count": null,
   "id": "f26bb805",
   "metadata": {},
   "outputs": [],
   "source": [
    "\n",
    "# Function for interactive menu\n",
    "def menu():\n",
    "    load_expenses()\n",
    "    while True:\n",
    "        print(\"---- Personal Expense Tracker ----\")\n",
    "        print(\"1. Add expense\")\n",
    "        print(\"2. View expenses\")\n",
    "        print(\"3. Track budget\")\n",
    "        print(\"4. Save expenses\")\n",
    "        print(\"5. Exit\")\n",
    "        choice = input(\"Enter your choice: \")\n",
    "\n",
    "        if choice == '1':\n",
    "            add_expense()\n",
    "        elif choice == '2':\n",
    "            view_expenses()\n",
    "        elif choice == '3':\n",
    "            track_budget()\n",
    "        elif choice == '4':\n",
    "            save_expenses()\n",
    "        elif choice == '5':\n",
    "            save_expenses()\n",
    "            print(\"Exiting program. Goodbye!\")\n",
    "            break\n",
    "        else:\n",
    "            print(\"Invalid choice. Please try again.\\n\")"
   ]
  },
  {
   "cell_type": "code",
   "execution_count": null,
   "id": "1397dcd1",
   "metadata": {},
   "outputs": [],
   "source": [
    "# Run the menu\n",
    "menu()"
   ]
  }
 ],
 "metadata": {
  "kernelspec": {
   "display_name": "base",
   "language": "python",
   "name": "python3"
  },
  "language_info": {
   "codemirror_mode": {
    "name": "ipython",
    "version": 3
   },
   "file_extension": ".py",
   "mimetype": "text/x-python",
   "name": "python",
   "nbconvert_exporter": "python",
   "pygments_lexer": "ipython3",
   "version": "3.13.5"
  }
 },
 "nbformat": 4,
 "nbformat_minor": 5
}
